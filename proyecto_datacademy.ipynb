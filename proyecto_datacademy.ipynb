{
 "cells": [
  {
   "cell_type": "code",
   "execution_count": 1,
   "metadata": {
    "cell_id": "3347a937-91c3-4305-b06c-213bb2f3bcaf",
    "deepnote_cell_type": "code",
    "tags": []
   },
   "outputs": [],
   "source": [
    "# Importar librerías aquí\n",
    "import pandas as pd\n",
    "import numpy as np\n",
    "import matplotlib.pyplot as plt\n",
    "import seaborn as sns\n"
   ]
  },
  {
   "cell_type": "code",
   "execution_count": 2,
   "metadata": {
    "cell_id": "081fdaf2-888a-4a54-9495-467464cfc400",
    "deepnote_cell_type": "code",
    "tags": []
   },
   "outputs": [
    {
     "data": {
      "text/html": [
       "<div>\n",
       "<style scoped>\n",
       "    .dataframe tbody tr th:only-of-type {\n",
       "        vertical-align: middle;\n",
       "    }\n",
       "\n",
       "    .dataframe tbody tr th {\n",
       "        vertical-align: top;\n",
       "    }\n",
       "\n",
       "    .dataframe thead th {\n",
       "        text-align: right;\n",
       "    }\n",
       "</style>\n",
       "<table border=\"1\" class=\"dataframe\">\n",
       "  <thead>\n",
       "    <tr style=\"text-align: right;\">\n",
       "      <th></th>\n",
       "      <th>Company</th>\n",
       "      <th>Sales</th>\n",
       "      <th>Stores</th>\n",
       "      <th>Sales/Avg. Store</th>\n",
       "      <th>Store Count Growth</th>\n",
       "      <th>Category</th>\n",
       "    </tr>\n",
       "  </thead>\n",
       "  <tbody>\n",
       "    <tr>\n",
       "      <th>0</th>\n",
       "      <td>Walmart US</td>\n",
       "      <td>658119</td>\n",
       "      <td>4574.0</td>\n",
       "      <td>65.649725</td>\n",
       "      <td>0.012843</td>\n",
       "      <td>Supercenters</td>\n",
       "    </tr>\n",
       "    <tr>\n",
       "      <th>1</th>\n",
       "      <td>Kroger</td>\n",
       "      <td>115037</td>\n",
       "      <td>3931.0</td>\n",
       "      <td>30.031850</td>\n",
       "      <td>0.053887</td>\n",
       "      <td>Grocery</td>\n",
       "    </tr>\n",
       "    <tr>\n",
       "      <th>2</th>\n",
       "      <td>Costco</td>\n",
       "      <td>90048</td>\n",
       "      <td>495.0</td>\n",
       "      <td>187.795620</td>\n",
       "      <td>0.066810</td>\n",
       "      <td>Warehouse Club</td>\n",
       "    </tr>\n",
       "    <tr>\n",
       "      <th>3</th>\n",
       "      <td>Home Depot</td>\n",
       "      <td>83976</td>\n",
       "      <td>1965.0</td>\n",
       "      <td>42.735878</td>\n",
       "      <td>0.000000</td>\n",
       "      <td>Home Improvement</td>\n",
       "    </tr>\n",
       "    <tr>\n",
       "      <th>4</th>\n",
       "      <td>Walgreen Boots</td>\n",
       "      <td>78924</td>\n",
       "      <td>8002.0</td>\n",
       "      <td>9.810927</td>\n",
       "      <td>-0.010511</td>\n",
       "      <td>Drug Stores</td>\n",
       "    </tr>\n",
       "  </tbody>\n",
       "</table>\n",
       "</div>"
      ],
      "text/plain": [
       "          Company   Sales  Stores  Sales/Avg. Store  Store Count Growth  \\\n",
       "0      Walmart US  658119  4574.0         65.649725            0.012843   \n",
       "1          Kroger  115037  3931.0         30.031850            0.053887   \n",
       "2          Costco   90048   495.0        187.795620            0.066810   \n",
       "3      Home Depot   83976  1965.0         42.735878            0.000000   \n",
       "4  Walgreen Boots   78924  8002.0          9.810927           -0.010511   \n",
       "\n",
       "           Category  \n",
       "0      Supercenters  \n",
       "1           Grocery  \n",
       "2    Warehouse Club  \n",
       "3  Home Improvement  \n",
       "4       Drug Stores  "
      ]
     },
     "execution_count": 2,
     "metadata": {},
     "output_type": "execute_result"
    }
   ],
   "source": [
    "# Importar datos aquí\n",
    "df = pd.read_csv('./data/largest_us_retailers.csv')\n",
    "df.head()"
   ]
  },
  {
   "cell_type": "markdown",
   "metadata": {},
   "source": [
    "¿cuál empresa vendió más?\n",
    "\n",
    "a) Escribe tu código dentro de celdas de código\n",
    "Ejecuta el código que necesites para llegar al resultado que necesitas."
   ]
  },
  {
   "cell_type": "code",
   "execution_count": 3,
   "metadata": {},
   "outputs": [
    {
     "data": {
      "text/html": [
       "<div>\n",
       "<style scoped>\n",
       "    .dataframe tbody tr th:only-of-type {\n",
       "        vertical-align: middle;\n",
       "    }\n",
       "\n",
       "    .dataframe tbody tr th {\n",
       "        vertical-align: top;\n",
       "    }\n",
       "\n",
       "    .dataframe thead th {\n",
       "        text-align: right;\n",
       "    }\n",
       "</style>\n",
       "<table border=\"1\" class=\"dataframe\">\n",
       "  <thead>\n",
       "    <tr style=\"text-align: right;\">\n",
       "      <th></th>\n",
       "      <th>Company</th>\n",
       "      <th>Sales</th>\n",
       "      <th>Stores</th>\n",
       "      <th>Sales/Avg. Store</th>\n",
       "      <th>Store Count Growth</th>\n",
       "      <th>Category</th>\n",
       "    </tr>\n",
       "  </thead>\n",
       "  <tbody>\n",
       "    <tr>\n",
       "      <th>0</th>\n",
       "      <td>Walmart US</td>\n",
       "      <td>658119</td>\n",
       "      <td>4574.0</td>\n",
       "      <td>65.649725</td>\n",
       "      <td>0.012843</td>\n",
       "      <td>Supercenters</td>\n",
       "    </tr>\n",
       "    <tr>\n",
       "      <th>1</th>\n",
       "      <td>Kroger</td>\n",
       "      <td>115037</td>\n",
       "      <td>3931.0</td>\n",
       "      <td>30.031850</td>\n",
       "      <td>0.053887</td>\n",
       "      <td>Grocery</td>\n",
       "    </tr>\n",
       "    <tr>\n",
       "      <th>2</th>\n",
       "      <td>Costco</td>\n",
       "      <td>90048</td>\n",
       "      <td>495.0</td>\n",
       "      <td>187.795620</td>\n",
       "      <td>0.066810</td>\n",
       "      <td>Warehouse Club</td>\n",
       "    </tr>\n",
       "    <tr>\n",
       "      <th>3</th>\n",
       "      <td>Home Depot</td>\n",
       "      <td>83976</td>\n",
       "      <td>1965.0</td>\n",
       "      <td>42.735878</td>\n",
       "      <td>0.000000</td>\n",
       "      <td>Home Improvement</td>\n",
       "    </tr>\n",
       "    <tr>\n",
       "      <th>4</th>\n",
       "      <td>Walgreen Boots</td>\n",
       "      <td>78924</td>\n",
       "      <td>8002.0</td>\n",
       "      <td>9.810927</td>\n",
       "      <td>-0.010511</td>\n",
       "      <td>Drug Stores</td>\n",
       "    </tr>\n",
       "    <tr>\n",
       "      <th>5</th>\n",
       "      <td>CVS incl. Target</td>\n",
       "      <td>77792</td>\n",
       "      <td>9813.0</td>\n",
       "      <td>8.825959</td>\n",
       "      <td>0.255662</td>\n",
       "      <td>Drug Stores</td>\n",
       "    </tr>\n",
       "    <tr>\n",
       "      <th>6</th>\n",
       "      <td>Amazon</td>\n",
       "      <td>71687</td>\n",
       "      <td>NaN</td>\n",
       "      <td>NaN</td>\n",
       "      <td>NaN</td>\n",
       "      <td>Electronic/Mail Order</td>\n",
       "    </tr>\n",
       "    <tr>\n",
       "      <th>7</th>\n",
       "      <td>Target</td>\n",
       "      <td>71208</td>\n",
       "      <td>1772.0</td>\n",
       "      <td>39.982033</td>\n",
       "      <td>-0.010056</td>\n",
       "      <td>Supercenters</td>\n",
       "    </tr>\n",
       "    <tr>\n",
       "      <th>8</th>\n",
       "      <td>Lowe's</td>\n",
       "      <td>60311</td>\n",
       "      <td>1828.0</td>\n",
       "      <td>33.311792</td>\n",
       "      <td>0.019520</td>\n",
       "      <td>Home Improvement</td>\n",
       "    </tr>\n",
       "    <tr>\n",
       "      <th>9</th>\n",
       "      <td>Albertsons</td>\n",
       "      <td>56829</td>\n",
       "      <td>2326.0</td>\n",
       "      <td>23.877731</td>\n",
       "      <td>-0.044371</td>\n",
       "      <td>Grocery</td>\n",
       "    </tr>\n",
       "    <tr>\n",
       "      <th>10</th>\n",
       "      <td>Sam's Club</td>\n",
       "      <td>56828</td>\n",
       "      <td>655.0</td>\n",
       "      <td>87.293395</td>\n",
       "      <td>0.012365</td>\n",
       "      <td>Warehouse Clubs</td>\n",
       "    </tr>\n",
       "    <tr>\n",
       "      <th>11</th>\n",
       "      <td>Apple incl. Online</td>\n",
       "      <td>37664</td>\n",
       "      <td>NaN</td>\n",
       "      <td>NaN</td>\n",
       "      <td>NaN</td>\n",
       "      <td>NaN</td>\n",
       "    </tr>\n",
       "    <tr>\n",
       "      <th>12</th>\n",
       "      <td>Best Buy</td>\n",
       "      <td>34980</td>\n",
       "      <td>1389.0</td>\n",
       "      <td>24.685956</td>\n",
       "      <td>-0.038754</td>\n",
       "      <td>Electronics</td>\n",
       "    </tr>\n",
       "    <tr>\n",
       "      <th>13</th>\n",
       "      <td>Publix</td>\n",
       "      <td>34408</td>\n",
       "      <td>1351.0</td>\n",
       "      <td>25.997733</td>\n",
       "      <td>0.042438</td>\n",
       "      <td>Grocery</td>\n",
       "    </tr>\n",
       "    <tr>\n",
       "      <th>14</th>\n",
       "      <td>Rite Aid</td>\n",
       "      <td>27486</td>\n",
       "      <td>4553.0</td>\n",
       "      <td>6.025649</td>\n",
       "      <td>-0.003720</td>\n",
       "      <td>Drug Stores</td>\n",
       "    </tr>\n",
       "    <tr>\n",
       "      <th>15</th>\n",
       "      <td>Ahold</td>\n",
       "      <td>26903</td>\n",
       "      <td>794.0</td>\n",
       "      <td>34.446863</td>\n",
       "      <td>0.033854</td>\n",
       "      <td>Grocery</td>\n",
       "    </tr>\n",
       "    <tr>\n",
       "      <th>16</th>\n",
       "      <td>Macy's</td>\n",
       "      <td>26028</td>\n",
       "      <td>889.0</td>\n",
       "      <td>30.442105</td>\n",
       "      <td>0.082826</td>\n",
       "      <td>Department Stores</td>\n",
       "    </tr>\n",
       "    <tr>\n",
       "      <th>17</th>\n",
       "      <td>TJX</td>\n",
       "      <td>25012</td>\n",
       "      <td>2770.0</td>\n",
       "      <td>9.369545</td>\n",
       "      <td>0.078241</td>\n",
       "      <td>Apparel</td>\n",
       "    </tr>\n",
       "    <tr>\n",
       "      <th>18</th>\n",
       "      <td>Aldi</td>\n",
       "      <td>24402</td>\n",
       "      <td>2021.0</td>\n",
       "      <td>12.715998</td>\n",
       "      <td>0.112273</td>\n",
       "      <td>Grocery</td>\n",
       "    </tr>\n",
       "    <tr>\n",
       "      <th>19</th>\n",
       "      <td>Dollar General</td>\n",
       "      <td>22234</td>\n",
       "      <td>13350.0</td>\n",
       "      <td>1.768885</td>\n",
       "      <td>0.132412</td>\n",
       "      <td>Dollar Stores</td>\n",
       "    </tr>\n",
       "    <tr>\n",
       "      <th>20</th>\n",
       "      <td>Dollar Tree</td>\n",
       "      <td>21464</td>\n",
       "      <td>14250.0</td>\n",
       "      <td>1.563919</td>\n",
       "      <td>0.079627</td>\n",
       "      <td>Dollar Stores</td>\n",
       "    </tr>\n",
       "    <tr>\n",
       "      <th>21</th>\n",
       "      <td>HEB</td>\n",
       "      <td>21384</td>\n",
       "      <td>323.0</td>\n",
       "      <td>66.825000</td>\n",
       "      <td>0.018927</td>\n",
       "      <td>Grocery</td>\n",
       "    </tr>\n",
       "    <tr>\n",
       "      <th>22</th>\n",
       "      <td>Kohl's</td>\n",
       "      <td>19060</td>\n",
       "      <td>1169.0</td>\n",
       "      <td>16.353496</td>\n",
       "      <td>0.006024</td>\n",
       "      <td>Department Stores</td>\n",
       "    </tr>\n",
       "    <tr>\n",
       "      <th>23</th>\n",
       "      <td>Delhaize</td>\n",
       "      <td>18201</td>\n",
       "      <td>1280.0</td>\n",
       "      <td>13.783415</td>\n",
       "      <td>-0.059515</td>\n",
       "      <td>Grocery</td>\n",
       "    </tr>\n",
       "    <tr>\n",
       "      <th>24</th>\n",
       "      <td>Meijer</td>\n",
       "      <td>16592</td>\n",
       "      <td>231.0</td>\n",
       "      <td>74.738739</td>\n",
       "      <td>0.084507</td>\n",
       "      <td>Supercenters</td>\n",
       "    </tr>\n",
       "  </tbody>\n",
       "</table>\n",
       "</div>"
      ],
      "text/plain": [
       "               Company   Sales   Stores  Sales/Avg. Store  Store Count Growth  \\\n",
       "0           Walmart US  658119   4574.0         65.649725            0.012843   \n",
       "1               Kroger  115037   3931.0         30.031850            0.053887   \n",
       "2               Costco   90048    495.0        187.795620            0.066810   \n",
       "3           Home Depot   83976   1965.0         42.735878            0.000000   \n",
       "4       Walgreen Boots   78924   8002.0          9.810927           -0.010511   \n",
       "5     CVS incl. Target   77792   9813.0          8.825959            0.255662   \n",
       "6               Amazon   71687      NaN               NaN                 NaN   \n",
       "7               Target   71208   1772.0         39.982033           -0.010056   \n",
       "8               Lowe's   60311   1828.0         33.311792            0.019520   \n",
       "9           Albertsons   56829   2326.0         23.877731           -0.044371   \n",
       "10          Sam's Club   56828    655.0         87.293395            0.012365   \n",
       "11  Apple incl. Online   37664      NaN               NaN                 NaN   \n",
       "12            Best Buy   34980   1389.0         24.685956           -0.038754   \n",
       "13              Publix   34408   1351.0         25.997733            0.042438   \n",
       "14            Rite Aid   27486   4553.0          6.025649           -0.003720   \n",
       "15               Ahold   26903    794.0         34.446863            0.033854   \n",
       "16              Macy's   26028    889.0         30.442105            0.082826   \n",
       "17                 TJX   25012   2770.0          9.369545            0.078241   \n",
       "18                Aldi   24402   2021.0         12.715998            0.112273   \n",
       "19      Dollar General   22234  13350.0          1.768885            0.132412   \n",
       "20         Dollar Tree   21464  14250.0          1.563919            0.079627   \n",
       "21                 HEB   21384    323.0         66.825000            0.018927   \n",
       "22              Kohl's   19060   1169.0         16.353496            0.006024   \n",
       "23            Delhaize   18201   1280.0         13.783415           -0.059515   \n",
       "24              Meijer   16592    231.0         74.738739            0.084507   \n",
       "\n",
       "                 Category  \n",
       "0            Supercenters  \n",
       "1                 Grocery  \n",
       "2          Warehouse Club  \n",
       "3        Home Improvement  \n",
       "4             Drug Stores  \n",
       "5             Drug Stores  \n",
       "6   Electronic/Mail Order  \n",
       "7            Supercenters  \n",
       "8        Home Improvement  \n",
       "9                 Grocery  \n",
       "10        Warehouse Clubs  \n",
       "11                    NaN  \n",
       "12            Electronics  \n",
       "13                Grocery  \n",
       "14            Drug Stores  \n",
       "15                Grocery  \n",
       "16      Department Stores  \n",
       "17                Apparel  \n",
       "18                Grocery  \n",
       "19          Dollar Stores  \n",
       "20          Dollar Stores  \n",
       "21                Grocery  \n",
       "22      Department Stores  \n",
       "23                Grocery  \n",
       "24           Supercenters  "
      ]
     },
     "execution_count": 3,
     "metadata": {},
     "output_type": "execute_result"
    }
   ],
   "source": [
    "df_sorted = df.sort_values('Sales', ascending=0)\n",
    "df_sorted\n"
   ]
  },
  {
   "cell_type": "markdown",
   "metadata": {},
   "source": [
    "b) Comparte insights con visualizaciones\n",
    "Con ayuda de Matplotlib o Seaborn crea las gráficas que necesites para dar a conocer tu resultado e incluso enriquecerlo."
   ]
  },
  {
   "cell_type": "code",
   "execution_count": 4,
   "metadata": {},
   "outputs": [
    {
     "data": {
      "image/png": "[encoded data removed]",
      "text/plain": [
       "<Figure size 432x288 with 1 Axes>"
      ]
     },
     "metadata": {
      "needs_background": "light"
     },
     "output_type": "display_data"
    }
   ],
   "source": [
    "x = df_sorted['Company'][0:5]  # Aplicamos slicing como en una lista de Python.\n",
    "y = df_sorted['Sales'][0:5]\n",
    "\n",
    "plt.bar(x, y)\n",
    "plt.title('Top 5 retailers')\n",
    "plt.xlabel('Company')\n",
    "plt.ylabel('Sales')\n",
    "# Método que se usa para rotar el texto de los puntos en X para que no se amontonen.\n",
    "plt.xticks(rotation='vertical')\n",
    "plt.show()\n"
   ]
  },
  {
   "cell_type": "markdown",
   "metadata": {},
   "source": [
    "c) Conclusiones\n",
    "Debajo de tus resultados escribe conclusiones de lo que necesites resaltar de acuerdo a lo que observes. Utiliza esa intuición de los datos y dominio del negocio. Hazlo en una celda de texto en tu notebook."
   ]
  },
  {
   "cell_type": "markdown",
   "metadata": {},
   "source": [
    "La compañia que mas vendio de todas fue Wallmart US"
   ]
  },
  {
   "cell_type": "markdown",
   "metadata": {},
   "source": [
    "Aspectos a evaluar:\n",
    "\n",
    "- Responder la mayor cantidad de preguntas.\n",
    "- Valor y veracidad de la información encontrada con las preguntas.\n",
    "- Valor y veracidad de la información que entregues con los resultados de tus propias preguntas.\n",
    "- Storytelling: visualizaciones fáciles de entender que muestren información valiosa, claridad y valor de tus conclusiones para cada hallazgo."
   ]
  },
  {
   "cell_type": "markdown",
   "metadata": {},
   "source": [
    "## Exploracion de datos"
   ]
  },
  {
   "cell_type": "code",
   "execution_count": 5,
   "metadata": {},
   "outputs": [
    {
     "data": {
      "text/plain": [
       "(25, 6)"
      ]
     },
     "execution_count": 5,
     "metadata": {},
     "output_type": "execute_result"
    }
   ],
   "source": [
    "df.shape"
   ]
  },
  {
   "cell_type": "code",
   "execution_count": 6,
   "metadata": {},
   "outputs": [
    {
     "name": "stdout",
     "output_type": "stream",
     "text": [
      "<class 'pandas.core.frame.DataFrame'>\n",
      "RangeIndex: 25 entries, 0 to 24\n",
      "Data columns (total 6 columns):\n",
      " #   Column              Non-Null Count  Dtype  \n",
      "---  ------              --------------  -----  \n",
      " 0   Company             25 non-null     object \n",
      " 1   Sales               25 non-null     int64  \n",
      " 2   Stores              23 non-null     float64\n",
      " 3   Sales/Avg. Store    23 non-null     float64\n",
      " 4   Store Count Growth  23 non-null     float64\n",
      " 5   Category            24 non-null     object \n",
      "dtypes: float64(3), int64(1), object(2)\n",
      "memory usage: 1.3+ KB\n"
     ]
    }
   ],
   "source": [
    "df.info()"
   ]
  },
  {
   "cell_type": "code",
   "execution_count": 7,
   "metadata": {},
   "outputs": [
    {
     "data": {
      "text/plain": [
       "<AxesSubplot:xlabel='Sales', ylabel='Count'>"
      ]
     },
     "execution_count": 7,
     "metadata": {},
     "output_type": "execute_result"
    },
    {
     "data": {
      "image/png": "[encoded data removed]",
      "text/plain": [
       "<Figure size 432x288 with 1 Axes>"
      ]
     },
     "metadata": {
      "needs_background": "light"
     },
     "output_type": "display_data"
    }
   ],
   "source": [
    "sns.histplot(\n",
    "    data=df['Sales'],\n",
    ")\n"
   ]
  },
  {
   "cell_type": "code",
   "execution_count": 8,
   "metadata": {},
   "outputs": [
    {
     "data": {
      "text/plain": [
       "<AxesSubplot:xlabel='Sales', ylabel='Company'>"
      ]
     },
     "execution_count": 8,
     "metadata": {},
     "output_type": "execute_result"
    },
    {
     "data": {
      "image/png": "[encoded data removed]",
      "text/plain": [
       "<Figure size 432x288 with 1 Axes>"
      ]
     },
     "metadata": {
      "needs_background": "light"
     },
     "output_type": "display_data"
    }
   ],
   "source": [
    "sns.scatterplot(\n",
    "  data=df,\n",
    "  x='Sales',\n",
    "  y='Company',\n",
    ")"
   ]
  },
  {
   "cell_type": "markdown",
   "metadata": {},
   "source": [
    "podemos observar que Wallmart es un Outlier estadistico ya que su valor es cientos de veces superior a los demás."
   ]
  },
  {
   "cell_type": "markdown",
   "metadata": {
    "cell_id": "cc141631-e246-41c7-a56b-ad74255d674f",
    "deepnote_cell_type": "text-cell-h2",
    "is_collapsed": false,
    "tags": []
   },
   "source": [
    "## I. Preguntas del negocio"
   ]
  },
  {
   "cell_type": "markdown",
   "metadata": {
    "cell_id": "b919b92e-0df3-4f54-b093-c1db040bc4aa",
    "deepnote_cell_type": "markdown",
    "tags": []
   },
   "source": [
    "### 1. ¿Cuál es el promedio de ventas sin contar a la compañía dominante?"
   ]
  },
  {
   "cell_type": "markdown",
   "metadata": {},
   "source": [
    "#### Comportamiento de todo el set de datos"
   ]
  },
  {
   "cell_type": "code",
   "execution_count": 9,
   "metadata": {},
   "outputs": [
    {
     "data": {
      "text/html": [
       "<div>\n",
       "<style scoped>\n",
       "    .dataframe tbody tr th:only-of-type {\n",
       "        vertical-align: middle;\n",
       "    }\n",
       "\n",
       "    .dataframe tbody tr th {\n",
       "        vertical-align: top;\n",
       "    }\n",
       "\n",
       "    .dataframe thead th {\n",
       "        text-align: right;\n",
       "    }\n",
       "</style>\n",
       "<table border=\"1\" class=\"dataframe\">\n",
       "  <thead>\n",
       "    <tr style=\"text-align: right;\">\n",
       "      <th></th>\n",
       "      <th>Company</th>\n",
       "      <th>Sales</th>\n",
       "      <th>Stores</th>\n",
       "      <th>Sales/Avg. Store</th>\n",
       "      <th>Store Count Growth</th>\n",
       "      <th>Category</th>\n",
       "    </tr>\n",
       "  </thead>\n",
       "  <tbody>\n",
       "    <tr>\n",
       "      <th>0</th>\n",
       "      <td>Walmart US</td>\n",
       "      <td>658119</td>\n",
       "      <td>4574.0</td>\n",
       "      <td>65.649725</td>\n",
       "      <td>0.012843</td>\n",
       "      <td>Supercenters</td>\n",
       "    </tr>\n",
       "    <tr>\n",
       "      <th>1</th>\n",
       "      <td>Kroger</td>\n",
       "      <td>115037</td>\n",
       "      <td>3931.0</td>\n",
       "      <td>30.031850</td>\n",
       "      <td>0.053887</td>\n",
       "      <td>Grocery</td>\n",
       "    </tr>\n",
       "    <tr>\n",
       "      <th>2</th>\n",
       "      <td>Costco</td>\n",
       "      <td>90048</td>\n",
       "      <td>495.0</td>\n",
       "      <td>187.795620</td>\n",
       "      <td>0.066810</td>\n",
       "      <td>Warehouse Club</td>\n",
       "    </tr>\n",
       "    <tr>\n",
       "      <th>3</th>\n",
       "      <td>Home Depot</td>\n",
       "      <td>83976</td>\n",
       "      <td>1965.0</td>\n",
       "      <td>42.735878</td>\n",
       "      <td>0.000000</td>\n",
       "      <td>Home Improvement</td>\n",
       "    </tr>\n",
       "    <tr>\n",
       "      <th>4</th>\n",
       "      <td>Walgreen Boots</td>\n",
       "      <td>78924</td>\n",
       "      <td>8002.0</td>\n",
       "      <td>9.810927</td>\n",
       "      <td>-0.010511</td>\n",
       "      <td>Drug Stores</td>\n",
       "    </tr>\n",
       "  </tbody>\n",
       "</table>\n",
       "</div>"
      ],
      "text/plain": [
       "          Company   Sales  Stores  Sales/Avg. Store  Store Count Growth  \\\n",
       "0      Walmart US  658119  4574.0         65.649725            0.012843   \n",
       "1          Kroger  115037  3931.0         30.031850            0.053887   \n",
       "2          Costco   90048   495.0        187.795620            0.066810   \n",
       "3      Home Depot   83976  1965.0         42.735878            0.000000   \n",
       "4  Walgreen Boots   78924  8002.0          9.810927           -0.010511   \n",
       "\n",
       "           Category  \n",
       "0      Supercenters  \n",
       "1           Grocery  \n",
       "2    Warehouse Club  \n",
       "3  Home Improvement  \n",
       "4       Drug Stores  "
      ]
     },
     "execution_count": 9,
     "metadata": {},
     "output_type": "execute_result"
    }
   ],
   "source": [
    "df.head()"
   ]
  },
  {
   "cell_type": "code",
   "execution_count": 10,
   "metadata": {},
   "outputs": [
    {
     "data": {
      "text/html": [
       "<div>\n",
       "<style scoped>\n",
       "    .dataframe tbody tr th:only-of-type {\n",
       "        vertical-align: middle;\n",
       "    }\n",
       "\n",
       "    .dataframe tbody tr th {\n",
       "        vertical-align: top;\n",
       "    }\n",
       "\n",
       "    .dataframe thead th {\n",
       "        text-align: right;\n",
       "    }\n",
       "</style>\n",
       "<table border=\"1\" class=\"dataframe\">\n",
       "  <thead>\n",
       "    <tr style=\"text-align: right;\">\n",
       "      <th></th>\n",
       "      <th>Sales</th>\n",
       "      <th>Stores</th>\n",
       "      <th>Sales/Avg. Store</th>\n",
       "      <th>Store Count Growth</th>\n",
       "    </tr>\n",
       "  </thead>\n",
       "  <tbody>\n",
       "    <tr>\n",
       "      <th>count</th>\n",
       "      <td>25.000000</td>\n",
       "      <td>23.000000</td>\n",
       "      <td>23.000000</td>\n",
       "      <td>23.000000</td>\n",
       "    </tr>\n",
       "    <tr>\n",
       "      <th>mean</th>\n",
       "      <td>71063.080000</td>\n",
       "      <td>3466.565217</td>\n",
       "      <td>36.870966</td>\n",
       "      <td>0.040230</td>\n",
       "    </tr>\n",
       "    <tr>\n",
       "      <th>std</th>\n",
       "      <td>125405.727644</td>\n",
       "      <td>4038.708714</td>\n",
       "      <td>40.625277</td>\n",
       "      <td>0.068552</td>\n",
       "    </tr>\n",
       "    <tr>\n",
       "      <th>min</th>\n",
       "      <td>16592.000000</td>\n",
       "      <td>231.000000</td>\n",
       "      <td>1.563919</td>\n",
       "      <td>-0.059515</td>\n",
       "    </tr>\n",
       "    <tr>\n",
       "      <th>25%</th>\n",
       "      <td>24402.000000</td>\n",
       "      <td>1029.000000</td>\n",
       "      <td>11.263462</td>\n",
       "      <td>-0.001860</td>\n",
       "    </tr>\n",
       "    <tr>\n",
       "      <th>50%</th>\n",
       "      <td>34980.000000</td>\n",
       "      <td>1828.000000</td>\n",
       "      <td>25.997733</td>\n",
       "      <td>0.019520</td>\n",
       "    </tr>\n",
       "    <tr>\n",
       "      <th>75%</th>\n",
       "      <td>71687.000000</td>\n",
       "      <td>4242.000000</td>\n",
       "      <td>41.358955</td>\n",
       "      <td>0.078934</td>\n",
       "    </tr>\n",
       "    <tr>\n",
       "      <th>max</th>\n",
       "      <td>658119.000000</td>\n",
       "      <td>14250.000000</td>\n",
       "      <td>187.795620</td>\n",
       "      <td>0.255662</td>\n",
       "    </tr>\n",
       "  </tbody>\n",
       "</table>\n",
       "</div>"
      ],
      "text/plain": [
       "               Sales        Stores  Sales/Avg. Store  Store Count Growth\n",
       "count      25.000000     23.000000         23.000000           23.000000\n",
       "mean    71063.080000   3466.565217         36.870966            0.040230\n",
       "std    125405.727644   4038.708714         40.625277            0.068552\n",
       "min     16592.000000    231.000000          1.563919           -0.059515\n",
       "25%     24402.000000   1029.000000         11.263462           -0.001860\n",
       "50%     34980.000000   1828.000000         25.997733            0.019520\n",
       "75%     71687.000000   4242.000000         41.358955            0.078934\n",
       "max    658119.000000  14250.000000        187.795620            0.255662"
      ]
     },
     "execution_count": 10,
     "metadata": {},
     "output_type": "execute_result"
    }
   ],
   "source": [
    "# Medidas de tendencia central en todo el dataframe\n",
    "df.describe()\n"
   ]
  },
  {
   "cell_type": "code",
   "execution_count": 84,
   "metadata": {},
   "outputs": [
    {
     "data": {
      "text/plain": [
       "Text(0.5, 1.0, 'Ventas por Compañía')"
      ]
     },
     "execution_count": 84,
     "metadata": {},
     "output_type": "execute_result"
    },
    {
     "data": {
      "image/png": "[encoded data removed]",
      "text/plain": [
       "<Figure size 842.4x595.44 with 1 Axes>"
      ]
     },
     "metadata": {},
     "output_type": "display_data"
    }
   ],
   "source": [
    "chart = sns.barplot(\n",
    "    x=df['Company'],\n",
    "    y=df['Sales'],\n",
    ")\n",
    "\n",
    "for item in chart.get_xticklabels():\n",
    "    item.set_rotation(65)\n",
    "chart.set_title('Ventas por Compañía')\n"
   ]
  },
  {
   "cell_type": "markdown",
   "metadata": {},
   "source": [
    "Podemos ver que la compañía dominante es Wallmart US."
   ]
  },
  {
   "cell_type": "code",
   "execution_count": 11,
   "metadata": {},
   "outputs": [
    {
     "data": {
      "text/plain": [
       "Text(0.5, 1.0, 'Histograma de todas las ventas')"
      ]
     },
     "execution_count": 11,
     "metadata": {},
     "output_type": "execute_result"
    },
    {
     "data": {
      "image/png": "[encoded data removed]",
      "text/plain": [
       "<Figure size 842.4x595.44 with 1 Axes>"
      ]
     },
     "metadata": {},
     "output_type": "display_data"
    }
   ],
   "source": [
    "sns.set(rc={'figure.figsize': (11.7, 8.27)})\n",
    "chart = sns.histplot(x=df['Sales'])\n",
    "chart.set_title('Histograma de todas las ventas')\n",
    "\n"
   ]
  },
  {
   "cell_type": "code",
   "execution_count": 12,
   "metadata": {},
   "outputs": [
    {
     "data": {
      "text/plain": [
       "<AxesSubplot:xlabel='Sales', ylabel='Company'>"
      ]
     },
     "execution_count": 12,
     "metadata": {},
     "output_type": "execute_result"
    },
    {
     "data": {
      "image/png": "[encoded data removed]",
      "text/plain": [
       "<Figure size 842.4x595.44 with 1 Axes>"
      ]
     },
     "metadata": {},
     "output_type": "display_data"
    }
   ],
   "source": [
    "# Podemos ver cuales es la distribucion de datos por compañia\n",
    "sns.scatterplot(\n",
    "    data=df,\n",
    "    x='Sales',\n",
    "    y='Company',\n",
    ")\n"
   ]
  },
  {
   "cell_type": "markdown",
   "metadata": {},
   "source": [
    "En los scatter plots podemos ver la diferencia tan grande que existe entre los valores y Wallmart US la cual es una compañia que es Outlier ya que su valor es cientos de veces superior a los demás."
   ]
  },
  {
   "cell_type": "code",
   "execution_count": 13,
   "metadata": {},
   "outputs": [
    {
     "data": {
      "text/plain": [
       "Text(0.5, 1.0, 'Diagrama de Caja todas las ventas')"
      ]
     },
     "execution_count": 13,
     "metadata": {},
     "output_type": "execute_result"
    },
    {
     "data": {
      "image/png": "[encoded data removed]",
      "text/plain": [
       "<Figure size 842.4x595.44 with 1 Axes>"
      ]
     },
     "metadata": {},
     "output_type": "display_data"
    }
   ],
   "source": [
    "sns.set(rc={'figure.figsize': (11.7, 8.27)})\n",
    "chart = sns.boxplot(x=df['Sales'])\n",
    "chart.set_title('Diagrama de Caja todas las ventas')\n",
    "\n"
   ]
  },
  {
   "cell_type": "markdown",
   "metadata": {},
   "source": [
    "Con el digrama de caja podemos ver como el valor de 658119 en ventas de Wallmart US es un Outlier estadistico, y ademas es **el unico Outlier de todo el dataset con respecto a las ventas.**"
   ]
  },
  {
   "cell_type": "markdown",
   "metadata": {},
   "source": [
    "#### Comportamiento del set de datos sin Wallmart US"
   ]
  },
  {
   "cell_type": "code",
   "execution_count": 14,
   "metadata": {},
   "outputs": [
    {
     "data": {
      "text/html": [
       "<div>\n",
       "<style scoped>\n",
       "    .dataframe tbody tr th:only-of-type {\n",
       "        vertical-align: middle;\n",
       "    }\n",
       "\n",
       "    .dataframe tbody tr th {\n",
       "        vertical-align: top;\n",
       "    }\n",
       "\n",
       "    .dataframe thead th {\n",
       "        text-align: right;\n",
       "    }\n",
       "</style>\n",
       "<table border=\"1\" class=\"dataframe\">\n",
       "  <thead>\n",
       "    <tr style=\"text-align: right;\">\n",
       "      <th></th>\n",
       "      <th>Company</th>\n",
       "      <th>Sales</th>\n",
       "      <th>Stores</th>\n",
       "      <th>Sales/Avg. Store</th>\n",
       "      <th>Store Count Growth</th>\n",
       "      <th>Category</th>\n",
       "    </tr>\n",
       "  </thead>\n",
       "  <tbody>\n",
       "    <tr>\n",
       "      <th>1</th>\n",
       "      <td>Kroger</td>\n",
       "      <td>115037</td>\n",
       "      <td>3931.0</td>\n",
       "      <td>30.031850</td>\n",
       "      <td>0.053887</td>\n",
       "      <td>Grocery</td>\n",
       "    </tr>\n",
       "    <tr>\n",
       "      <th>2</th>\n",
       "      <td>Costco</td>\n",
       "      <td>90048</td>\n",
       "      <td>495.0</td>\n",
       "      <td>187.795620</td>\n",
       "      <td>0.066810</td>\n",
       "      <td>Warehouse Club</td>\n",
       "    </tr>\n",
       "    <tr>\n",
       "      <th>3</th>\n",
       "      <td>Home Depot</td>\n",
       "      <td>83976</td>\n",
       "      <td>1965.0</td>\n",
       "      <td>42.735878</td>\n",
       "      <td>0.000000</td>\n",
       "      <td>Home Improvement</td>\n",
       "    </tr>\n",
       "    <tr>\n",
       "      <th>4</th>\n",
       "      <td>Walgreen Boots</td>\n",
       "      <td>78924</td>\n",
       "      <td>8002.0</td>\n",
       "      <td>9.810927</td>\n",
       "      <td>-0.010511</td>\n",
       "      <td>Drug Stores</td>\n",
       "    </tr>\n",
       "    <tr>\n",
       "      <th>5</th>\n",
       "      <td>CVS incl. Target</td>\n",
       "      <td>77792</td>\n",
       "      <td>9813.0</td>\n",
       "      <td>8.825959</td>\n",
       "      <td>0.255662</td>\n",
       "      <td>Drug Stores</td>\n",
       "    </tr>\n",
       "  </tbody>\n",
       "</table>\n",
       "</div>"
      ],
      "text/plain": [
       "            Company   Sales  Stores  Sales/Avg. Store  Store Count Growth  \\\n",
       "1            Kroger  115037  3931.0         30.031850            0.053887   \n",
       "2            Costco   90048   495.0        187.795620            0.066810   \n",
       "3        Home Depot   83976  1965.0         42.735878            0.000000   \n",
       "4    Walgreen Boots   78924  8002.0          9.810927           -0.010511   \n",
       "5  CVS incl. Target   77792  9813.0          8.825959            0.255662   \n",
       "\n",
       "           Category  \n",
       "1           Grocery  \n",
       "2    Warehouse Club  \n",
       "3  Home Improvement  \n",
       "4       Drug Stores  \n",
       "5       Drug Stores  "
      ]
     },
     "execution_count": 14,
     "metadata": {},
     "output_type": "execute_result"
    }
   ],
   "source": [
    "# Walmart US esta en la posicion 0\n",
    "# df[1:]\n",
    "# Filtro para mayor seguridad en caso de cambios al dataset\n",
    "df_without_top = df.drop(df[df['Company'] == 'Walmart US'].index)\n",
    "df_without_top.head()\n"
   ]
  },
  {
   "cell_type": "code",
   "execution_count": 15,
   "metadata": {},
   "outputs": [
    {
     "data": {
      "text/html": [
       "<div>\n",
       "<style scoped>\n",
       "    .dataframe tbody tr th:only-of-type {\n",
       "        vertical-align: middle;\n",
       "    }\n",
       "\n",
       "    .dataframe tbody tr th {\n",
       "        vertical-align: top;\n",
       "    }\n",
       "\n",
       "    .dataframe thead th {\n",
       "        text-align: right;\n",
       "    }\n",
       "</style>\n",
       "<table border=\"1\" class=\"dataframe\">\n",
       "  <thead>\n",
       "    <tr style=\"text-align: right;\">\n",
       "      <th></th>\n",
       "      <th>Sales</th>\n",
       "      <th>Stores</th>\n",
       "      <th>Sales/Avg. Store</th>\n",
       "      <th>Store Count Growth</th>\n",
       "    </tr>\n",
       "  </thead>\n",
       "  <tbody>\n",
       "    <tr>\n",
       "      <th>count</th>\n",
       "      <td>24.000000</td>\n",
       "      <td>22.000000</td>\n",
       "      <td>22.000000</td>\n",
       "      <td>22.000000</td>\n",
       "    </tr>\n",
       "    <tr>\n",
       "      <th>mean</th>\n",
       "      <td>46602.416667</td>\n",
       "      <td>3416.227273</td>\n",
       "      <td>35.562840</td>\n",
       "      <td>0.041475</td>\n",
       "    </tr>\n",
       "    <tr>\n",
       "      <th>std</th>\n",
       "      <td>28317.981841</td>\n",
       "      <td>4126.358592</td>\n",
       "      <td>41.082510</td>\n",
       "      <td>0.069899</td>\n",
       "    </tr>\n",
       "    <tr>\n",
       "      <th>min</th>\n",
       "      <td>16592.000000</td>\n",
       "      <td>231.000000</td>\n",
       "      <td>1.563919</td>\n",
       "      <td>-0.059515</td>\n",
       "    </tr>\n",
       "    <tr>\n",
       "      <th>25%</th>\n",
       "      <td>23860.000000</td>\n",
       "      <td>959.000000</td>\n",
       "      <td>10.537195</td>\n",
       "      <td>-0.002790</td>\n",
       "    </tr>\n",
       "    <tr>\n",
       "      <th>50%</th>\n",
       "      <td>34694.000000</td>\n",
       "      <td>1800.000000</td>\n",
       "      <td>25.341845</td>\n",
       "      <td>0.026687</td>\n",
       "    </tr>\n",
       "    <tr>\n",
       "      <th>75%</th>\n",
       "      <td>71327.750000</td>\n",
       "      <td>3640.750000</td>\n",
       "      <td>38.598240</td>\n",
       "      <td>0.079281</td>\n",
       "    </tr>\n",
       "    <tr>\n",
       "      <th>max</th>\n",
       "      <td>115037.000000</td>\n",
       "      <td>14250.000000</td>\n",
       "      <td>187.795620</td>\n",
       "      <td>0.255662</td>\n",
       "    </tr>\n",
       "  </tbody>\n",
       "</table>\n",
       "</div>"
      ],
      "text/plain": [
       "               Sales        Stores  Sales/Avg. Store  Store Count Growth\n",
       "count      24.000000     22.000000         22.000000           22.000000\n",
       "mean    46602.416667   3416.227273         35.562840            0.041475\n",
       "std     28317.981841   4126.358592         41.082510            0.069899\n",
       "min     16592.000000    231.000000          1.563919           -0.059515\n",
       "25%     23860.000000    959.000000         10.537195           -0.002790\n",
       "50%     34694.000000   1800.000000         25.341845            0.026687\n",
       "75%     71327.750000   3640.750000         38.598240            0.079281\n",
       "max    115037.000000  14250.000000        187.795620            0.255662"
      ]
     },
     "execution_count": 15,
     "metadata": {},
     "output_type": "execute_result"
    }
   ],
   "source": [
    "df_without_top.describe()\n"
   ]
  },
  {
   "cell_type": "code",
   "execution_count": 16,
   "metadata": {},
   "outputs": [
    {
     "data": {
      "text/plain": [
       "<AxesSubplot:xlabel='Sales', ylabel='Company'>"
      ]
     },
     "execution_count": 16,
     "metadata": {},
     "output_type": "execute_result"
    },
    {
     "data": {
      "image/png": "[encoded data removed]",
      "text/plain": [
       "<Figure size 842.4x595.44 with 1 Axes>"
      ]
     },
     "metadata": {},
     "output_type": "display_data"
    }
   ],
   "source": [
    "sns.scatterplot(\n",
    "    data=df_without_top,\n",
    "    x='Sales',\n",
    "    y='Company',\n",
    ")\n"
   ]
  },
  {
   "cell_type": "code",
   "execution_count": 17,
   "metadata": {},
   "outputs": [
    {
     "data": {
      "text/plain": [
       "Text(0.5, 1.0, 'Histograma de la mayoria las ventas')"
      ]
     },
     "execution_count": 17,
     "metadata": {},
     "output_type": "execute_result"
    },
    {
     "data": {
      "image/png": "[encoded data removed]",
      "text/plain": [
       "<Figure size 842.4x595.44 with 1 Axes>"
      ]
     },
     "metadata": {},
     "output_type": "display_data"
    }
   ],
   "source": [
    "sns.set(rc={'figure.figsize': (11.7, 8.27)})\n",
    "chart = sns.histplot(x=df_without_top['Sales'])\n",
    "chart.set_title('Histograma de la mayoria las ventas')"
   ]
  },
  {
   "cell_type": "code",
   "execution_count": 18,
   "metadata": {},
   "outputs": [
    {
     "data": {
      "image/png": "[encoded data removed]",
      "text/plain": [
       "<Figure size 360x360 with 1 Axes>"
      ]
     },
     "metadata": {},
     "output_type": "display_data"
    }
   ],
   "source": [
    "sns.set(rc={'figure.figsize': (11.7, 8.27)})\n",
    "chart = sns.displot(x=df_without_top['Sales'], kde=True, rug=False)\n",
    "# chart.set_title('Histograma de la mayoria las ventas')\n"
   ]
  },
  {
   "cell_type": "code",
   "execution_count": 19,
   "metadata": {},
   "outputs": [
    {
     "data": {
      "text/plain": [
       "Text(0.5, 1.0, 'Diagrama de Caja la moyoria de las ventas')"
      ]
     },
     "execution_count": 19,
     "metadata": {},
     "output_type": "execute_result"
    },
    {
     "data": {
      "image/png": "[encoded data removed]",
      "text/plain": [
       "<Figure size 842.4x595.44 with 1 Axes>"
      ]
     },
     "metadata": {},
     "output_type": "display_data"
    }
   ],
   "source": [
    "sns.set(rc={'figure.figsize': (11.7, 8.27)})\n",
    "chart = sns.boxplot(x=df_without_top['Sales'])\n",
    "chart.set_title('Diagrama de Caja la moyoria de las ventas')\n"
   ]
  },
  {
   "cell_type": "markdown",
   "metadata": {},
   "source": [
    "Podemos ver que el promedio de las ventas considerando Wallmart US es de $71.063,08 mientras que el promedio de las ventas sin considerar Wallmart US es de $46.602,41, dandonos cuenta que Wallmart tiene un valor tan elevado que eleva el promedio $20.000 más de considerar solamente la mayoria de las compañias"
   ]
  },
  {
   "cell_type": "markdown",
   "metadata": {},
   "source": [
    "#### Conclusiones"
   ]
  },
  {
   "cell_type": "markdown",
   "metadata": {},
   "source": [
    "**¿Cuál es el promedio de ventas sin contar a la compañía dominante?**\n",
    "\n",
    "El promedio de ventas de todas las compañias sin contar la compañia dominante es de $46.602,41 dolares.\n",
    "\n",
    "Además Podemos ver que la distribucion de datos es asimetrica, sesgada asi la izquierda, en este sentido graficamente se puede observar como la mayoria de las compañias tienen un valor en ventas cercano a los ~$20.000 dolares, por lo cual cuando se considera el valor de ventas de **Wallmart US** el cual es un Outlier estadistico hace que el promedio en ventas suba hasta $71.063,08 el cual hace que este valor se aleje aun mas de la realidad de la mayoria de las compañias."
   ]
  },
  {
   "cell_type": "markdown",
   "metadata": {
    "cell_id": "1814847a-365e-4bae-9fb9-6bed9b874b37",
    "deepnote_cell_type": "markdown",
    "tags": []
   },
   "source": [
    "### 2. ¿Cuánto dinero en ventas generó la mayoría de las compañías?"
   ]
  },
  {
   "cell_type": "markdown",
   "metadata": {},
   "source": [
    "#### Que son la mayoría de las compañias?\n",
    "\n",
    "Ya que tenemos una distribucion sesgada de datos, para poder decidir que representa estadisticamente la mayoria de las compañias usaremos el metodo de los Cuartiles y el Rango Intercuartil (IQR) para saber cuales son la mayoria de las compañias en cuanto a ventas."
   ]
  },
  {
   "cell_type": "code",
   "execution_count": 20,
   "metadata": {},
   "outputs": [
    {
     "data": {
      "text/plain": [
       "4.615861489698804"
      ]
     },
     "execution_count": 20,
     "metadata": {},
     "output_type": "execute_result"
    }
   ],
   "source": [
    "# que tan asimetrica esta la distribucion\n",
    "df['Sales'].skew()"
   ]
  },
  {
   "cell_type": "code",
   "execution_count": 21,
   "metadata": {
    "cell_id": "7c7057cc-813b-4f93-8826-caed6cc738f9",
    "deepnote_cell_type": "code",
    "tags": []
   },
   "outputs": [
    {
     "name": "stdout",
     "output_type": "stream",
     "text": [
      "24402.0\n",
      "71687.0\n"
     ]
    }
   ],
   "source": [
    "Q1 = df['Sales'].quantile(q=0.25)\n",
    "print(Q1)\n",
    "Q3 = df['Sales'].quantile(q=0.75)\n",
    "print(Q3)\n"
   ]
  },
  {
   "cell_type": "code",
   "execution_count": 22,
   "metadata": {},
   "outputs": [
    {
     "data": {
      "text/plain": [
       "47285.0"
      ]
     },
     "execution_count": 22,
     "metadata": {},
     "output_type": "execute_result"
    }
   ],
   "source": [
    "# Rango Intercuartil\n",
    "iqr = Q3 - Q1\n",
    "iqr\n"
   ]
  },
  {
   "cell_type": "code",
   "execution_count": 23,
   "metadata": {},
   "outputs": [
    {
     "name": "stdout",
     "output_type": "stream",
     "text": [
      "Minimo: -46525.5\n",
      "Maximo: 142614.5\n"
     ]
    }
   ],
   "source": [
    "minlimit = Q1 - 1.5*iqr\n",
    "print(f\"Minimo: {minlimit}\")\n",
    "maxlimit = Q3 + 1.5*iqr\n",
    "print(f\"Maximo: {maxlimit}\")\n"
   ]
  },
  {
   "cell_type": "code",
   "execution_count": 24,
   "metadata": {},
   "outputs": [
    {
     "data": {
      "text/html": [
       "<div>\n",
       "<style scoped>\n",
       "    .dataframe tbody tr th:only-of-type {\n",
       "        vertical-align: middle;\n",
       "    }\n",
       "\n",
       "    .dataframe tbody tr th {\n",
       "        vertical-align: top;\n",
       "    }\n",
       "\n",
       "    .dataframe thead th {\n",
       "        text-align: right;\n",
       "    }\n",
       "</style>\n",
       "<table border=\"1\" class=\"dataframe\">\n",
       "  <thead>\n",
       "    <tr style=\"text-align: right;\">\n",
       "      <th></th>\n",
       "      <th>Company</th>\n",
       "      <th>Sales</th>\n",
       "      <th>Stores</th>\n",
       "      <th>Sales/Avg. Store</th>\n",
       "      <th>Store Count Growth</th>\n",
       "      <th>Category</th>\n",
       "    </tr>\n",
       "  </thead>\n",
       "  <tbody>\n",
       "    <tr>\n",
       "      <th>1</th>\n",
       "      <td>Kroger</td>\n",
       "      <td>115037</td>\n",
       "      <td>3931.0</td>\n",
       "      <td>30.031850</td>\n",
       "      <td>0.053887</td>\n",
       "      <td>Grocery</td>\n",
       "    </tr>\n",
       "    <tr>\n",
       "      <th>2</th>\n",
       "      <td>Costco</td>\n",
       "      <td>90048</td>\n",
       "      <td>495.0</td>\n",
       "      <td>187.795620</td>\n",
       "      <td>0.066810</td>\n",
       "      <td>Warehouse Club</td>\n",
       "    </tr>\n",
       "    <tr>\n",
       "      <th>3</th>\n",
       "      <td>Home Depot</td>\n",
       "      <td>83976</td>\n",
       "      <td>1965.0</td>\n",
       "      <td>42.735878</td>\n",
       "      <td>0.000000</td>\n",
       "      <td>Home Improvement</td>\n",
       "    </tr>\n",
       "    <tr>\n",
       "      <th>4</th>\n",
       "      <td>Walgreen Boots</td>\n",
       "      <td>78924</td>\n",
       "      <td>8002.0</td>\n",
       "      <td>9.810927</td>\n",
       "      <td>-0.010511</td>\n",
       "      <td>Drug Stores</td>\n",
       "    </tr>\n",
       "    <tr>\n",
       "      <th>5</th>\n",
       "      <td>CVS incl. Target</td>\n",
       "      <td>77792</td>\n",
       "      <td>9813.0</td>\n",
       "      <td>8.825959</td>\n",
       "      <td>0.255662</td>\n",
       "      <td>Drug Stores</td>\n",
       "    </tr>\n",
       "    <tr>\n",
       "      <th>6</th>\n",
       "      <td>Amazon</td>\n",
       "      <td>71687</td>\n",
       "      <td>NaN</td>\n",
       "      <td>NaN</td>\n",
       "      <td>NaN</td>\n",
       "      <td>Electronic/Mail Order</td>\n",
       "    </tr>\n",
       "    <tr>\n",
       "      <th>7</th>\n",
       "      <td>Target</td>\n",
       "      <td>71208</td>\n",
       "      <td>1772.0</td>\n",
       "      <td>39.982033</td>\n",
       "      <td>-0.010056</td>\n",
       "      <td>Supercenters</td>\n",
       "    </tr>\n",
       "    <tr>\n",
       "      <th>8</th>\n",
       "      <td>Lowe's</td>\n",
       "      <td>60311</td>\n",
       "      <td>1828.0</td>\n",
       "      <td>33.311792</td>\n",
       "      <td>0.019520</td>\n",
       "      <td>Home Improvement</td>\n",
       "    </tr>\n",
       "    <tr>\n",
       "      <th>9</th>\n",
       "      <td>Albertsons</td>\n",
       "      <td>56829</td>\n",
       "      <td>2326.0</td>\n",
       "      <td>23.877731</td>\n",
       "      <td>-0.044371</td>\n",
       "      <td>Grocery</td>\n",
       "    </tr>\n",
       "    <tr>\n",
       "      <th>10</th>\n",
       "      <td>Sam's Club</td>\n",
       "      <td>56828</td>\n",
       "      <td>655.0</td>\n",
       "      <td>87.293395</td>\n",
       "      <td>0.012365</td>\n",
       "      <td>Warehouse Clubs</td>\n",
       "    </tr>\n",
       "    <tr>\n",
       "      <th>11</th>\n",
       "      <td>Apple incl. Online</td>\n",
       "      <td>37664</td>\n",
       "      <td>NaN</td>\n",
       "      <td>NaN</td>\n",
       "      <td>NaN</td>\n",
       "      <td>NaN</td>\n",
       "    </tr>\n",
       "    <tr>\n",
       "      <th>12</th>\n",
       "      <td>Best Buy</td>\n",
       "      <td>34980</td>\n",
       "      <td>1389.0</td>\n",
       "      <td>24.685956</td>\n",
       "      <td>-0.038754</td>\n",
       "      <td>Electronics</td>\n",
       "    </tr>\n",
       "    <tr>\n",
       "      <th>13</th>\n",
       "      <td>Publix</td>\n",
       "      <td>34408</td>\n",
       "      <td>1351.0</td>\n",
       "      <td>25.997733</td>\n",
       "      <td>0.042438</td>\n",
       "      <td>Grocery</td>\n",
       "    </tr>\n",
       "    <tr>\n",
       "      <th>14</th>\n",
       "      <td>Rite Aid</td>\n",
       "      <td>27486</td>\n",
       "      <td>4553.0</td>\n",
       "      <td>6.025649</td>\n",
       "      <td>-0.003720</td>\n",
       "      <td>Drug Stores</td>\n",
       "    </tr>\n",
       "    <tr>\n",
       "      <th>15</th>\n",
       "      <td>Ahold</td>\n",
       "      <td>26903</td>\n",
       "      <td>794.0</td>\n",
       "      <td>34.446863</td>\n",
       "      <td>0.033854</td>\n",
       "      <td>Grocery</td>\n",
       "    </tr>\n",
       "    <tr>\n",
       "      <th>16</th>\n",
       "      <td>Macy's</td>\n",
       "      <td>26028</td>\n",
       "      <td>889.0</td>\n",
       "      <td>30.442105</td>\n",
       "      <td>0.082826</td>\n",
       "      <td>Department Stores</td>\n",
       "    </tr>\n",
       "    <tr>\n",
       "      <th>17</th>\n",
       "      <td>TJX</td>\n",
       "      <td>25012</td>\n",
       "      <td>2770.0</td>\n",
       "      <td>9.369545</td>\n",
       "      <td>0.078241</td>\n",
       "      <td>Apparel</td>\n",
       "    </tr>\n",
       "    <tr>\n",
       "      <th>18</th>\n",
       "      <td>Aldi</td>\n",
       "      <td>24402</td>\n",
       "      <td>2021.0</td>\n",
       "      <td>12.715998</td>\n",
       "      <td>0.112273</td>\n",
       "      <td>Grocery</td>\n",
       "    </tr>\n",
       "    <tr>\n",
       "      <th>19</th>\n",
       "      <td>Dollar General</td>\n",
       "      <td>22234</td>\n",
       "      <td>13350.0</td>\n",
       "      <td>1.768885</td>\n",
       "      <td>0.132412</td>\n",
       "      <td>Dollar Stores</td>\n",
       "    </tr>\n",
       "    <tr>\n",
       "      <th>20</th>\n",
       "      <td>Dollar Tree</td>\n",
       "      <td>21464</td>\n",
       "      <td>14250.0</td>\n",
       "      <td>1.563919</td>\n",
       "      <td>0.079627</td>\n",
       "      <td>Dollar Stores</td>\n",
       "    </tr>\n",
       "    <tr>\n",
       "      <th>21</th>\n",
       "      <td>HEB</td>\n",
       "      <td>21384</td>\n",
       "      <td>323.0</td>\n",
       "      <td>66.825000</td>\n",
       "      <td>0.018927</td>\n",
       "      <td>Grocery</td>\n",
       "    </tr>\n",
       "    <tr>\n",
       "      <th>22</th>\n",
       "      <td>Kohl's</td>\n",
       "      <td>19060</td>\n",
       "      <td>1169.0</td>\n",
       "      <td>16.353496</td>\n",
       "      <td>0.006024</td>\n",
       "      <td>Department Stores</td>\n",
       "    </tr>\n",
       "    <tr>\n",
       "      <th>23</th>\n",
       "      <td>Delhaize</td>\n",
       "      <td>18201</td>\n",
       "      <td>1280.0</td>\n",
       "      <td>13.783415</td>\n",
       "      <td>-0.059515</td>\n",
       "      <td>Grocery</td>\n",
       "    </tr>\n",
       "    <tr>\n",
       "      <th>24</th>\n",
       "      <td>Meijer</td>\n",
       "      <td>16592</td>\n",
       "      <td>231.0</td>\n",
       "      <td>74.738739</td>\n",
       "      <td>0.084507</td>\n",
       "      <td>Supercenters</td>\n",
       "    </tr>\n",
       "  </tbody>\n",
       "</table>\n",
       "</div>"
      ],
      "text/plain": [
       "               Company   Sales   Stores  Sales/Avg. Store  Store Count Growth  \\\n",
       "1               Kroger  115037   3931.0         30.031850            0.053887   \n",
       "2               Costco   90048    495.0        187.795620            0.066810   \n",
       "3           Home Depot   83976   1965.0         42.735878            0.000000   \n",
       "4       Walgreen Boots   78924   8002.0          9.810927           -0.010511   \n",
       "5     CVS incl. Target   77792   9813.0          8.825959            0.255662   \n",
       "6               Amazon   71687      NaN               NaN                 NaN   \n",
       "7               Target   71208   1772.0         39.982033           -0.010056   \n",
       "8               Lowe's   60311   1828.0         33.311792            0.019520   \n",
       "9           Albertsons   56829   2326.0         23.877731           -0.044371   \n",
       "10          Sam's Club   56828    655.0         87.293395            0.012365   \n",
       "11  Apple incl. Online   37664      NaN               NaN                 NaN   \n",
       "12            Best Buy   34980   1389.0         24.685956           -0.038754   \n",
       "13              Publix   34408   1351.0         25.997733            0.042438   \n",
       "14            Rite Aid   27486   4553.0          6.025649           -0.003720   \n",
       "15               Ahold   26903    794.0         34.446863            0.033854   \n",
       "16              Macy's   26028    889.0         30.442105            0.082826   \n",
       "17                 TJX   25012   2770.0          9.369545            0.078241   \n",
       "18                Aldi   24402   2021.0         12.715998            0.112273   \n",
       "19      Dollar General   22234  13350.0          1.768885            0.132412   \n",
       "20         Dollar Tree   21464  14250.0          1.563919            0.079627   \n",
       "21                 HEB   21384    323.0         66.825000            0.018927   \n",
       "22              Kohl's   19060   1169.0         16.353496            0.006024   \n",
       "23            Delhaize   18201   1280.0         13.783415           -0.059515   \n",
       "24              Meijer   16592    231.0         74.738739            0.084507   \n",
       "\n",
       "                 Category  \n",
       "1                 Grocery  \n",
       "2          Warehouse Club  \n",
       "3        Home Improvement  \n",
       "4             Drug Stores  \n",
       "5             Drug Stores  \n",
       "6   Electronic/Mail Order  \n",
       "7            Supercenters  \n",
       "8        Home Improvement  \n",
       "9                 Grocery  \n",
       "10        Warehouse Clubs  \n",
       "11                    NaN  \n",
       "12            Electronics  \n",
       "13                Grocery  \n",
       "14            Drug Stores  \n",
       "15                Grocery  \n",
       "16      Department Stores  \n",
       "17                Apparel  \n",
       "18                Grocery  \n",
       "19          Dollar Stores  \n",
       "20          Dollar Stores  \n",
       "21                Grocery  \n",
       "22      Department Stores  \n",
       "23                Grocery  \n",
       "24           Supercenters  "
      ]
     },
     "execution_count": 24,
     "metadata": {},
     "output_type": "execute_result"
    }
   ],
   "source": [
    "df_most_sales = df[(df['Sales'] > minlimit) & (df['Sales'] < maxlimit)]\n",
    "df_most_sales"
   ]
  },
  {
   "cell_type": "code",
   "execution_count": 25,
   "metadata": {},
   "outputs": [
    {
     "data": {
      "text/html": [
       "<div>\n",
       "<style scoped>\n",
       "    .dataframe tbody tr th:only-of-type {\n",
       "        vertical-align: middle;\n",
       "    }\n",
       "\n",
       "    .dataframe tbody tr th {\n",
       "        vertical-align: top;\n",
       "    }\n",
       "\n",
       "    .dataframe thead th {\n",
       "        text-align: right;\n",
       "    }\n",
       "</style>\n",
       "<table border=\"1\" class=\"dataframe\">\n",
       "  <thead>\n",
       "    <tr style=\"text-align: right;\">\n",
       "      <th></th>\n",
       "      <th>Sales</th>\n",
       "      <th>Stores</th>\n",
       "      <th>Sales/Avg. Store</th>\n",
       "      <th>Store Count Growth</th>\n",
       "    </tr>\n",
       "  </thead>\n",
       "  <tbody>\n",
       "    <tr>\n",
       "      <th>count</th>\n",
       "      <td>24.000000</td>\n",
       "      <td>22.000000</td>\n",
       "      <td>22.000000</td>\n",
       "      <td>22.000000</td>\n",
       "    </tr>\n",
       "    <tr>\n",
       "      <th>mean</th>\n",
       "      <td>46602.416667</td>\n",
       "      <td>3416.227273</td>\n",
       "      <td>35.562840</td>\n",
       "      <td>0.041475</td>\n",
       "    </tr>\n",
       "    <tr>\n",
       "      <th>std</th>\n",
       "      <td>28317.981841</td>\n",
       "      <td>4126.358592</td>\n",
       "      <td>41.082510</td>\n",
       "      <td>0.069899</td>\n",
       "    </tr>\n",
       "    <tr>\n",
       "      <th>min</th>\n",
       "      <td>16592.000000</td>\n",
       "      <td>231.000000</td>\n",
       "      <td>1.563919</td>\n",
       "      <td>-0.059515</td>\n",
       "    </tr>\n",
       "    <tr>\n",
       "      <th>25%</th>\n",
       "      <td>23860.000000</td>\n",
       "      <td>959.000000</td>\n",
       "      <td>10.537195</td>\n",
       "      <td>-0.002790</td>\n",
       "    </tr>\n",
       "    <tr>\n",
       "      <th>50%</th>\n",
       "      <td>34694.000000</td>\n",
       "      <td>1800.000000</td>\n",
       "      <td>25.341845</td>\n",
       "      <td>0.026687</td>\n",
       "    </tr>\n",
       "    <tr>\n",
       "      <th>75%</th>\n",
       "      <td>71327.750000</td>\n",
       "      <td>3640.750000</td>\n",
       "      <td>38.598240</td>\n",
       "      <td>0.079281</td>\n",
       "    </tr>\n",
       "    <tr>\n",
       "      <th>max</th>\n",
       "      <td>115037.000000</td>\n",
       "      <td>14250.000000</td>\n",
       "      <td>187.795620</td>\n",
       "      <td>0.255662</td>\n",
       "    </tr>\n",
       "  </tbody>\n",
       "</table>\n",
       "</div>"
      ],
      "text/plain": [
       "               Sales        Stores  Sales/Avg. Store  Store Count Growth\n",
       "count      24.000000     22.000000         22.000000           22.000000\n",
       "mean    46602.416667   3416.227273         35.562840            0.041475\n",
       "std     28317.981841   4126.358592         41.082510            0.069899\n",
       "min     16592.000000    231.000000          1.563919           -0.059515\n",
       "25%     23860.000000    959.000000         10.537195           -0.002790\n",
       "50%     34694.000000   1800.000000         25.341845            0.026687\n",
       "75%     71327.750000   3640.750000         38.598240            0.079281\n",
       "max    115037.000000  14250.000000        187.795620            0.255662"
      ]
     },
     "execution_count": 25,
     "metadata": {},
     "output_type": "execute_result"
    }
   ],
   "source": [
    "df_most_sales.describe()"
   ]
  },
  {
   "cell_type": "markdown",
   "metadata": {},
   "source": [
    "Podemos observar que con el uso del rango intercuartil en las ventas la mayoria de las compañias es efectivamente contemplado por todas las compañias exceptuando **Wallmar US**"
   ]
  },
  {
   "cell_type": "code",
   "execution_count": 26,
   "metadata": {},
   "outputs": [
    {
     "data": {
      "text/plain": [
       "Company                object\n",
       "Sales                   int64\n",
       "Stores                float64\n",
       "Sales/Avg. Store      float64\n",
       "Store Count Growth    float64\n",
       "Category               object\n",
       "dtype: object"
      ]
     },
     "execution_count": 26,
     "metadata": {},
     "output_type": "execute_result"
    }
   ],
   "source": [
    "df_most_sales.dtypes"
   ]
  },
  {
   "cell_type": "code",
   "execution_count": 27,
   "metadata": {},
   "outputs": [
    {
     "data": {
      "text/plain": [
       "count        24.000000\n",
       "mean      46602.416667\n",
       "std       28317.981841\n",
       "min       16592.000000\n",
       "25%       23860.000000\n",
       "50%       34694.000000\n",
       "75%       71327.750000\n",
       "max      115037.000000\n",
       "Name: Sales, dtype: float64"
      ]
     },
     "execution_count": 27,
     "metadata": {},
     "output_type": "execute_result"
    }
   ],
   "source": [
    "df_most_sales['Sales'].describe()"
   ]
  },
  {
   "cell_type": "code",
   "execution_count": 28,
   "metadata": {},
   "outputs": [
    {
     "data": {
      "text/plain": [
       "1118458"
      ]
     },
     "execution_count": 28,
     "metadata": {},
     "output_type": "execute_result"
    }
   ],
   "source": [
    "df_most_sales['Sales'].sum()"
   ]
  },
  {
   "cell_type": "code",
   "execution_count": 29,
   "metadata": {},
   "outputs": [
    {
     "data": {
      "text/plain": [
       "<seaborn.axisgrid.FacetGrid at 0x7f79ead82be0>"
      ]
     },
     "execution_count": 29,
     "metadata": {},
     "output_type": "execute_result"
    },
    {
     "data": {
      "image/png": "[encoded data removed]",
      "text/plain": [
       "<Figure size 360x360 with 1 Axes>"
      ]
     },
     "metadata": {},
     "output_type": "display_data"
    }
   ],
   "source": [
    "sns.set(rc={'figure.figsize': (11.7, 8.27)})\n",
    "chart = sns.displot(x=df_most_sales['Sales'], kde=True, rug=False)\n",
    "chart.set_xlabels('Ventas en $')\n",
    "chart.set_ylabels('Frecuencia')\n"
   ]
  },
  {
   "cell_type": "code",
   "execution_count": 30,
   "metadata": {},
   "outputs": [
    {
     "data": {
      "text/plain": [
       "34694.0"
      ]
     },
     "execution_count": 30,
     "metadata": {},
     "output_type": "execute_result"
    }
   ],
   "source": [
    "df_most_sales['Sales'].median()"
   ]
  },
  {
   "cell_type": "code",
   "execution_count": 31,
   "metadata": {},
   "outputs": [
    {
     "data": {
      "text/plain": [
       "0      16592\n",
       "1      18201\n",
       "2      19060\n",
       "3      21384\n",
       "4      21464\n",
       "5      22234\n",
       "6      24402\n",
       "7      25012\n",
       "8      26028\n",
       "9      26903\n",
       "10     27486\n",
       "11     34408\n",
       "12     34980\n",
       "13     37664\n",
       "14     56828\n",
       "15     56829\n",
       "16     60311\n",
       "17     71208\n",
       "18     71687\n",
       "19     77792\n",
       "20     78924\n",
       "21     83976\n",
       "22     90048\n",
       "23    115037\n",
       "dtype: int64"
      ]
     },
     "execution_count": 31,
     "metadata": {},
     "output_type": "execute_result"
    }
   ],
   "source": [
    "df_most_sales['Sales'].mode()\n"
   ]
  },
  {
   "cell_type": "markdown",
   "metadata": {},
   "source": [
    "#### Conclusiones\n",
    "**¿Cuánto dinero en ventas generó la mayoría de las compañías?**\n",
    "\n",
    "En la muestra de datos que trabajamos **la mayoría de las compañias generaron un valor en ventas total de $1.118.458 dolares.**\n",
    "\n",
    "En vista de que la distribucion es sesgada la mediana en ventas que es de $34.694,0 dolares representa un valor mas cercano a la realidad, que el promedio el cual es de $46.602,41 dolares.\n",
    "\n",
    "**Por lo cual la mayoria de las compañias generaron en ventas un valor cercano a $34.694,0 dolares**"
   ]
  },
  {
   "cell_type": "markdown",
   "metadata": {
    "cell_id": "9801295a-a27d-48af-ae87-c653cabd8f67",
    "deepnote_cell_type": "markdown",
    "tags": []
   },
   "source": [
    "### 3. ¿Cuántas tiendas tiene la mayoría de las compañías?"
   ]
  },
  {
   "cell_type": "code",
   "execution_count": 32,
   "metadata": {},
   "outputs": [
    {
     "data": {
      "text/plain": [
       "<AxesSubplot:xlabel='Stores', ylabel='Count'>"
      ]
     },
     "execution_count": 32,
     "metadata": {},
     "output_type": "execute_result"
    },
    {
     "data": {
      "image/png": "[encoded data removed]",
      "text/plain": [
       "<Figure size 842.4x595.44 with 1 Axes>"
      ]
     },
     "metadata": {},
     "output_type": "display_data"
    }
   ],
   "source": [
    "sns.histplot(x=df['Stores'])"
   ]
  },
  {
   "cell_type": "code",
   "execution_count": 33,
   "metadata": {},
   "outputs": [
    {
     "data": {
      "text/plain": [
       "<AxesSubplot:xlabel='Stores', ylabel='Company'>"
      ]
     },
     "execution_count": 33,
     "metadata": {},
     "output_type": "execute_result"
    },
    {
     "data": {
      "image/png": "[encoded data removed]",
      "text/plain": [
       "<Figure size 842.4x595.44 with 1 Axes>"
      ]
     },
     "metadata": {},
     "output_type": "display_data"
    }
   ],
   "source": [
    "# Podemos ver cuales es la distribucion de datos por compañia\n",
    "sns.scatterplot(\n",
    "    data=df,\n",
    "    x='Stores',\n",
    "    y='Company',\n",
    ")\n"
   ]
  },
  {
   "cell_type": "markdown",
   "metadata": {},
   "source": [
    "Podemos observar que en todos los datos a lo hora de la compañia vemos que existe un distribucion totalmente distinta a la de las ventas"
   ]
  },
  {
   "cell_type": "code",
   "execution_count": 34,
   "metadata": {},
   "outputs": [
    {
     "data": {
      "text/plain": [
       "Text(0.5, 1.0, 'Diagrama de Caja de las Tiendas')"
      ]
     },
     "execution_count": 34,
     "metadata": {},
     "output_type": "execute_result"
    },
    {
     "data": {
      "image/png": "[encoded data removed]",
      "text/plain": [
       "<Figure size 842.4x595.44 with 1 Axes>"
      ]
     },
     "metadata": {},
     "output_type": "display_data"
    }
   ],
   "source": [
    "sns.set(rc={'figure.figsize': (11.7, 8.27)})\n",
    "chart = sns.boxplot(x=df['Stores'])\n",
    "chart.set_title('Diagrama de Caja de las Tiendas')\n"
   ]
  },
  {
   "cell_type": "markdown",
   "metadata": {},
   "source": [
    "Podemos ver exiten 3 datos Atipicos en la distribucion de la cantidad de tiendas"
   ]
  },
  {
   "cell_type": "code",
   "execution_count": 35,
   "metadata": {},
   "outputs": [],
   "source": [
    "def most_data_dataframe(_df, column):\n",
    "  \"\"\"\n",
    "  Metodo para obtener la mayoria de datos sin considerar los outliers dado\n",
    "  un dataframe y la columna de la cual se quiere\n",
    "  \"\"\"\n",
    "  q1 = _df[column].quantile(q=0.25)\n",
    "  q3 = _df[column].quantile(q=0.75)\n",
    "  print(f\"q1: {q1}\")\n",
    "  print(f\"q3: {q3}\")\n",
    "\n",
    "  # Rango Intercuartil\n",
    "  iqr = q3 - q1\n",
    "  print(f\"Rango Intercuartil: {iqr}\")\n",
    "\n",
    "  minlimit = q1 - 1.5*iqr\n",
    "  print(f\"Minimo: {minlimit}\")\n",
    "  maxlimit = q3 + 1.5*iqr\n",
    "  print(f\"Maximo: {maxlimit}\")\n",
    "\n",
    "  response_df = _df[(_df[column] > minlimit) & (_df[column] < maxlimit)]\n",
    "\n",
    "  return response_df\n"
   ]
  },
  {
   "cell_type": "code",
   "execution_count": 36,
   "metadata": {
    "cell_id": "cfcc2261-f6a1-44d8-b8fa-184eec2a77ff",
    "deepnote_cell_type": "code",
    "tags": []
   },
   "outputs": [
    {
     "name": "stdout",
     "output_type": "stream",
     "text": [
      "q1: 1029.0\n",
      "q3: 4242.0\n",
      "Rango Intercuartil: 3213.0\n",
      "Minimo: -3790.5\n",
      "Maximo: 9061.5\n"
     ]
    }
   ],
   "source": [
    "df_most_stores = most_data_dataframe(df, 'Stores')\n",
    "# df_most_stores"
   ]
  },
  {
   "cell_type": "code",
   "execution_count": 37,
   "metadata": {},
   "outputs": [
    {
     "data": {
      "text/html": [
       "<div>\n",
       "<style scoped>\n",
       "    .dataframe tbody tr th:only-of-type {\n",
       "        vertical-align: middle;\n",
       "    }\n",
       "\n",
       "    .dataframe tbody tr th {\n",
       "        vertical-align: top;\n",
       "    }\n",
       "\n",
       "    .dataframe thead th {\n",
       "        text-align: right;\n",
       "    }\n",
       "</style>\n",
       "<table border=\"1\" class=\"dataframe\">\n",
       "  <thead>\n",
       "    <tr style=\"text-align: right;\">\n",
       "      <th></th>\n",
       "      <th>Company</th>\n",
       "      <th>Sales</th>\n",
       "      <th>Stores</th>\n",
       "      <th>Sales/Avg. Store</th>\n",
       "      <th>Store Count Growth</th>\n",
       "      <th>Category</th>\n",
       "    </tr>\n",
       "  </thead>\n",
       "  <tbody>\n",
       "    <tr>\n",
       "      <th>0</th>\n",
       "      <td>Walmart US</td>\n",
       "      <td>658119</td>\n",
       "      <td>4574.0</td>\n",
       "      <td>65.649725</td>\n",
       "      <td>0.012843</td>\n",
       "      <td>Supercenters</td>\n",
       "    </tr>\n",
       "    <tr>\n",
       "      <th>1</th>\n",
       "      <td>Kroger</td>\n",
       "      <td>115037</td>\n",
       "      <td>3931.0</td>\n",
       "      <td>30.031850</td>\n",
       "      <td>0.053887</td>\n",
       "      <td>Grocery</td>\n",
       "    </tr>\n",
       "    <tr>\n",
       "      <th>2</th>\n",
       "      <td>Costco</td>\n",
       "      <td>90048</td>\n",
       "      <td>495.0</td>\n",
       "      <td>187.795620</td>\n",
       "      <td>0.066810</td>\n",
       "      <td>Warehouse Club</td>\n",
       "    </tr>\n",
       "    <tr>\n",
       "      <th>3</th>\n",
       "      <td>Home Depot</td>\n",
       "      <td>83976</td>\n",
       "      <td>1965.0</td>\n",
       "      <td>42.735878</td>\n",
       "      <td>0.000000</td>\n",
       "      <td>Home Improvement</td>\n",
       "    </tr>\n",
       "    <tr>\n",
       "      <th>4</th>\n",
       "      <td>Walgreen Boots</td>\n",
       "      <td>78924</td>\n",
       "      <td>8002.0</td>\n",
       "      <td>9.810927</td>\n",
       "      <td>-0.010511</td>\n",
       "      <td>Drug Stores</td>\n",
       "    </tr>\n",
       "  </tbody>\n",
       "</table>\n",
       "</div>"
      ],
      "text/plain": [
       "          Company   Sales  Stores  Sales/Avg. Store  Store Count Growth  \\\n",
       "0      Walmart US  658119  4574.0         65.649725            0.012843   \n",
       "1          Kroger  115037  3931.0         30.031850            0.053887   \n",
       "2          Costco   90048   495.0        187.795620            0.066810   \n",
       "3      Home Depot   83976  1965.0         42.735878            0.000000   \n",
       "4  Walgreen Boots   78924  8002.0          9.810927           -0.010511   \n",
       "\n",
       "           Category  \n",
       "0      Supercenters  \n",
       "1           Grocery  \n",
       "2    Warehouse Club  \n",
       "3  Home Improvement  \n",
       "4       Drug Stores  "
      ]
     },
     "execution_count": 37,
     "metadata": {},
     "output_type": "execute_result"
    }
   ],
   "source": [
    "df_most_stores.head()"
   ]
  },
  {
   "cell_type": "code",
   "execution_count": 38,
   "metadata": {},
   "outputs": [
    {
     "data": {
      "text/plain": [
       "<AxesSubplot:xlabel='Stores', ylabel='Count'>"
      ]
     },
     "execution_count": 38,
     "metadata": {},
     "output_type": "execute_result"
    },
    {
     "data": {
      "image/png": "[encoded data removed]",
      "text/plain": [
       "<Figure size 842.4x595.44 with 1 Axes>"
      ]
     },
     "metadata": {},
     "output_type": "display_data"
    }
   ],
   "source": [
    "sns.histplot(x=df_most_stores['Stores'])\n"
   ]
  },
  {
   "cell_type": "code",
   "execution_count": 39,
   "metadata": {},
   "outputs": [
    {
     "data": {
      "text/plain": [
       "<AxesSubplot:xlabel='Stores', ylabel='Company'>"
      ]
     },
     "execution_count": 39,
     "metadata": {},
     "output_type": "execute_result"
    },
    {
     "data": {
      "image/png": "[encoded data removed]",
      "text/plain": [
       "<Figure size 842.4x595.44 with 1 Axes>"
      ]
     },
     "metadata": {},
     "output_type": "display_data"
    }
   ],
   "source": [
    "# Podemos ver cuales es la distribucion de datos por compañia\n",
    "sns.scatterplot(\n",
    "    data=df_most_stores,\n",
    "    x='Stores',\n",
    "    y='Company',\n",
    ")\n"
   ]
  },
  {
   "cell_type": "code",
   "execution_count": 40,
   "metadata": {},
   "outputs": [
    {
     "data": {
      "text/plain": [
       "Text(0.5, 1.0, 'Diagrama de Caja la moyoria de las Tiendas')"
      ]
     },
     "execution_count": 40,
     "metadata": {},
     "output_type": "execute_result"
    },
    {
     "data": {
      "image/png": "[encoded data removed]",
      "text/plain": [
       "<Figure size 842.4x595.44 with 1 Axes>"
      ]
     },
     "metadata": {},
     "output_type": "display_data"
    },
    {
     "data": {
      "image/png": "[encoded data removed]",
      "text/plain": [
       "<Figure size 842.4x595.44 with 1 Axes>"
      ]
     },
     "metadata": {},
     "output_type": "display_data"
    }
   ],
   "source": [
    "sns.set(rc={'figure.figsize': (11.7, 8.27)})\n",
    "chart = sns.boxplot(x=df_most_stores['Stores'])\n",
    "plt.figure()\n",
    "sns.boxplot(x=df['Stores'])\n",
    "chart.set_title('Diagrama de Caja la moyoria de las Tiendas')\n"
   ]
  },
  {
   "cell_type": "markdown",
   "metadata": {},
   "source": [
    "Podemos observar que aunque el nuevo diagrama de Caja muestra Outliers en realidad se removieron todos los Outliers de la distribucion de datos original."
   ]
  },
  {
   "cell_type": "code",
   "execution_count": 41,
   "metadata": {},
   "outputs": [
    {
     "data": {
      "text/html": [
       "<div>\n",
       "<style scoped>\n",
       "    .dataframe tbody tr th:only-of-type {\n",
       "        vertical-align: middle;\n",
       "    }\n",
       "\n",
       "    .dataframe tbody tr th {\n",
       "        vertical-align: top;\n",
       "    }\n",
       "\n",
       "    .dataframe thead th {\n",
       "        text-align: right;\n",
       "    }\n",
       "</style>\n",
       "<table border=\"1\" class=\"dataframe\">\n",
       "  <thead>\n",
       "    <tr style=\"text-align: right;\">\n",
       "      <th></th>\n",
       "      <th>Sales</th>\n",
       "      <th>Stores</th>\n",
       "      <th>Sales/Avg. Store</th>\n",
       "      <th>Store Count Growth</th>\n",
       "    </tr>\n",
       "  </thead>\n",
       "  <tbody>\n",
       "    <tr>\n",
       "      <th>count</th>\n",
       "      <td>20.000000</td>\n",
       "      <td>20.000000</td>\n",
       "      <td>20.000000</td>\n",
       "      <td>20.000000</td>\n",
       "    </tr>\n",
       "    <tr>\n",
       "      <th>mean</th>\n",
       "      <td>77286.800000</td>\n",
       "      <td>2115.900000</td>\n",
       "      <td>41.793673</td>\n",
       "      <td>0.022879</td>\n",
       "    </tr>\n",
       "    <tr>\n",
       "      <th>std</th>\n",
       "      <td>139672.193072</td>\n",
       "      <td>1893.448313</td>\n",
       "      <td>41.396136</td>\n",
       "      <td>0.046399</td>\n",
       "    </tr>\n",
       "    <tr>\n",
       "      <th>min</th>\n",
       "      <td>16592.000000</td>\n",
       "      <td>231.000000</td>\n",
       "      <td>6.025649</td>\n",
       "      <td>-0.059515</td>\n",
       "    </tr>\n",
       "    <tr>\n",
       "      <th>25%</th>\n",
       "      <td>24859.500000</td>\n",
       "      <td>865.250000</td>\n",
       "      <td>15.710976</td>\n",
       "      <td>-0.005304</td>\n",
       "    </tr>\n",
       "    <tr>\n",
       "      <th>50%</th>\n",
       "      <td>34694.000000</td>\n",
       "      <td>1580.500000</td>\n",
       "      <td>30.236977</td>\n",
       "      <td>0.015885</td>\n",
       "    </tr>\n",
       "    <tr>\n",
       "      <th>75%</th>\n",
       "      <td>73137.000000</td>\n",
       "      <td>2437.000000</td>\n",
       "      <td>48.464340</td>\n",
       "      <td>0.057118</td>\n",
       "    </tr>\n",
       "    <tr>\n",
       "      <th>max</th>\n",
       "      <td>658119.000000</td>\n",
       "      <td>8002.000000</td>\n",
       "      <td>187.795620</td>\n",
       "      <td>0.112273</td>\n",
       "    </tr>\n",
       "  </tbody>\n",
       "</table>\n",
       "</div>"
      ],
      "text/plain": [
       "               Sales       Stores  Sales/Avg. Store  Store Count Growth\n",
       "count      20.000000    20.000000         20.000000           20.000000\n",
       "mean    77286.800000  2115.900000         41.793673            0.022879\n",
       "std    139672.193072  1893.448313         41.396136            0.046399\n",
       "min     16592.000000   231.000000          6.025649           -0.059515\n",
       "25%     24859.500000   865.250000         15.710976           -0.005304\n",
       "50%     34694.000000  1580.500000         30.236977            0.015885\n",
       "75%     73137.000000  2437.000000         48.464340            0.057118\n",
       "max    658119.000000  8002.000000        187.795620            0.112273"
      ]
     },
     "execution_count": 41,
     "metadata": {},
     "output_type": "execute_result"
    }
   ],
   "source": [
    "df_most_stores.describe()\n"
   ]
  },
  {
   "cell_type": "code",
   "execution_count": 42,
   "metadata": {},
   "outputs": [
    {
     "data": {
      "text/plain": [
       "count      20.000000\n",
       "mean     2115.900000\n",
       "std      1893.448313\n",
       "min       231.000000\n",
       "25%       865.250000\n",
       "50%      1580.500000\n",
       "75%      2437.000000\n",
       "max      8002.000000\n",
       "Name: Stores, dtype: float64"
      ]
     },
     "execution_count": 42,
     "metadata": {},
     "output_type": "execute_result"
    }
   ],
   "source": [
    "df_most_stores['Stores'].describe()\n"
   ]
  },
  {
   "cell_type": "code",
   "execution_count": 43,
   "metadata": {},
   "outputs": [
    {
     "data": {
      "text/plain": [
       "1580.5"
      ]
     },
     "execution_count": 43,
     "metadata": {},
     "output_type": "execute_result"
    }
   ],
   "source": [
    "df_most_stores['Stores'].median()\n"
   ]
  },
  {
   "cell_type": "markdown",
   "metadata": {},
   "source": [
    "#### Conclusiones\n",
    "\n",
    "**¿Cuántas tiendas tiene la mayoría de las compañías?**\n",
    "\n",
    "Tras el analisis y limpieza de datos la mayoria de las compañias en el dataset tienen una cantidad de tiendas cercano a las 1580 tiendas."
   ]
  },
  {
   "cell_type": "markdown",
   "metadata": {
    "cell_id": "c9b5de28-cd12-4088-9bc0-93df660401f3",
    "deepnote_cell_type": "markdown",
    "tags": []
   },
   "source": [
    "### 4. ¿La cantidad de tiendas está relacionada con la cantidad de ventas? Es decir, ¿si una empresa tiene más tiendas tendrá más dinero de ventas?"
   ]
  },
  {
   "cell_type": "code",
   "execution_count": 44,
   "metadata": {
    "cell_id": "72dda234-6fca-477e-a088-99682e9766a2",
    "deepnote_cell_type": "code",
    "tags": []
   },
   "outputs": [
    {
     "data": {
      "text/html": [
       "<div>\n",
       "<style scoped>\n",
       "    .dataframe tbody tr th:only-of-type {\n",
       "        vertical-align: middle;\n",
       "    }\n",
       "\n",
       "    .dataframe tbody tr th {\n",
       "        vertical-align: top;\n",
       "    }\n",
       "\n",
       "    .dataframe thead th {\n",
       "        text-align: right;\n",
       "    }\n",
       "</style>\n",
       "<table border=\"1\" class=\"dataframe\">\n",
       "  <thead>\n",
       "    <tr style=\"text-align: right;\">\n",
       "      <th></th>\n",
       "      <th>Company</th>\n",
       "      <th>Sales</th>\n",
       "      <th>Stores</th>\n",
       "      <th>Sales/Avg. Store</th>\n",
       "      <th>Store Count Growth</th>\n",
       "      <th>Category</th>\n",
       "    </tr>\n",
       "  </thead>\n",
       "  <tbody>\n",
       "    <tr>\n",
       "      <th>0</th>\n",
       "      <td>Walmart US</td>\n",
       "      <td>658119</td>\n",
       "      <td>4574.0</td>\n",
       "      <td>65.649725</td>\n",
       "      <td>0.012843</td>\n",
       "      <td>Supercenters</td>\n",
       "    </tr>\n",
       "    <tr>\n",
       "      <th>1</th>\n",
       "      <td>Kroger</td>\n",
       "      <td>115037</td>\n",
       "      <td>3931.0</td>\n",
       "      <td>30.031850</td>\n",
       "      <td>0.053887</td>\n",
       "      <td>Grocery</td>\n",
       "    </tr>\n",
       "    <tr>\n",
       "      <th>2</th>\n",
       "      <td>Costco</td>\n",
       "      <td>90048</td>\n",
       "      <td>495.0</td>\n",
       "      <td>187.795620</td>\n",
       "      <td>0.066810</td>\n",
       "      <td>Warehouse Club</td>\n",
       "    </tr>\n",
       "    <tr>\n",
       "      <th>3</th>\n",
       "      <td>Home Depot</td>\n",
       "      <td>83976</td>\n",
       "      <td>1965.0</td>\n",
       "      <td>42.735878</td>\n",
       "      <td>0.000000</td>\n",
       "      <td>Home Improvement</td>\n",
       "    </tr>\n",
       "    <tr>\n",
       "      <th>4</th>\n",
       "      <td>Walgreen Boots</td>\n",
       "      <td>78924</td>\n",
       "      <td>8002.0</td>\n",
       "      <td>9.810927</td>\n",
       "      <td>-0.010511</td>\n",
       "      <td>Drug Stores</td>\n",
       "    </tr>\n",
       "    <tr>\n",
       "      <th>5</th>\n",
       "      <td>CVS incl. Target</td>\n",
       "      <td>77792</td>\n",
       "      <td>9813.0</td>\n",
       "      <td>8.825959</td>\n",
       "      <td>0.255662</td>\n",
       "      <td>Drug Stores</td>\n",
       "    </tr>\n",
       "    <tr>\n",
       "      <th>6</th>\n",
       "      <td>Amazon</td>\n",
       "      <td>71687</td>\n",
       "      <td>0.0</td>\n",
       "      <td>0.000000</td>\n",
       "      <td>0.000000</td>\n",
       "      <td>Electronic/Mail Order</td>\n",
       "    </tr>\n",
       "    <tr>\n",
       "      <th>7</th>\n",
       "      <td>Target</td>\n",
       "      <td>71208</td>\n",
       "      <td>1772.0</td>\n",
       "      <td>39.982033</td>\n",
       "      <td>-0.010056</td>\n",
       "      <td>Supercenters</td>\n",
       "    </tr>\n",
       "    <tr>\n",
       "      <th>8</th>\n",
       "      <td>Lowe's</td>\n",
       "      <td>60311</td>\n",
       "      <td>1828.0</td>\n",
       "      <td>33.311792</td>\n",
       "      <td>0.019520</td>\n",
       "      <td>Home Improvement</td>\n",
       "    </tr>\n",
       "    <tr>\n",
       "      <th>9</th>\n",
       "      <td>Albertsons</td>\n",
       "      <td>56829</td>\n",
       "      <td>2326.0</td>\n",
       "      <td>23.877731</td>\n",
       "      <td>-0.044371</td>\n",
       "      <td>Grocery</td>\n",
       "    </tr>\n",
       "    <tr>\n",
       "      <th>10</th>\n",
       "      <td>Sam's Club</td>\n",
       "      <td>56828</td>\n",
       "      <td>655.0</td>\n",
       "      <td>87.293395</td>\n",
       "      <td>0.012365</td>\n",
       "      <td>Warehouse Clubs</td>\n",
       "    </tr>\n",
       "    <tr>\n",
       "      <th>11</th>\n",
       "      <td>Apple incl. Online</td>\n",
       "      <td>37664</td>\n",
       "      <td>0.0</td>\n",
       "      <td>0.000000</td>\n",
       "      <td>0.000000</td>\n",
       "      <td>0</td>\n",
       "    </tr>\n",
       "    <tr>\n",
       "      <th>12</th>\n",
       "      <td>Best Buy</td>\n",
       "      <td>34980</td>\n",
       "      <td>1389.0</td>\n",
       "      <td>24.685956</td>\n",
       "      <td>-0.038754</td>\n",
       "      <td>Electronics</td>\n",
       "    </tr>\n",
       "    <tr>\n",
       "      <th>13</th>\n",
       "      <td>Publix</td>\n",
       "      <td>34408</td>\n",
       "      <td>1351.0</td>\n",
       "      <td>25.997733</td>\n",
       "      <td>0.042438</td>\n",
       "      <td>Grocery</td>\n",
       "    </tr>\n",
       "    <tr>\n",
       "      <th>14</th>\n",
       "      <td>Rite Aid</td>\n",
       "      <td>27486</td>\n",
       "      <td>4553.0</td>\n",
       "      <td>6.025649</td>\n",
       "      <td>-0.003720</td>\n",
       "      <td>Drug Stores</td>\n",
       "    </tr>\n",
       "    <tr>\n",
       "      <th>15</th>\n",
       "      <td>Ahold</td>\n",
       "      <td>26903</td>\n",
       "      <td>794.0</td>\n",
       "      <td>34.446863</td>\n",
       "      <td>0.033854</td>\n",
       "      <td>Grocery</td>\n",
       "    </tr>\n",
       "    <tr>\n",
       "      <th>16</th>\n",
       "      <td>Macy's</td>\n",
       "      <td>26028</td>\n",
       "      <td>889.0</td>\n",
       "      <td>30.442105</td>\n",
       "      <td>0.082826</td>\n",
       "      <td>Department Stores</td>\n",
       "    </tr>\n",
       "    <tr>\n",
       "      <th>17</th>\n",
       "      <td>TJX</td>\n",
       "      <td>25012</td>\n",
       "      <td>2770.0</td>\n",
       "      <td>9.369545</td>\n",
       "      <td>0.078241</td>\n",
       "      <td>Apparel</td>\n",
       "    </tr>\n",
       "    <tr>\n",
       "      <th>18</th>\n",
       "      <td>Aldi</td>\n",
       "      <td>24402</td>\n",
       "      <td>2021.0</td>\n",
       "      <td>12.715998</td>\n",
       "      <td>0.112273</td>\n",
       "      <td>Grocery</td>\n",
       "    </tr>\n",
       "    <tr>\n",
       "      <th>19</th>\n",
       "      <td>Dollar General</td>\n",
       "      <td>22234</td>\n",
       "      <td>13350.0</td>\n",
       "      <td>1.768885</td>\n",
       "      <td>0.132412</td>\n",
       "      <td>Dollar Stores</td>\n",
       "    </tr>\n",
       "    <tr>\n",
       "      <th>20</th>\n",
       "      <td>Dollar Tree</td>\n",
       "      <td>21464</td>\n",
       "      <td>14250.0</td>\n",
       "      <td>1.563919</td>\n",
       "      <td>0.079627</td>\n",
       "      <td>Dollar Stores</td>\n",
       "    </tr>\n",
       "    <tr>\n",
       "      <th>21</th>\n",
       "      <td>HEB</td>\n",
       "      <td>21384</td>\n",
       "      <td>323.0</td>\n",
       "      <td>66.825000</td>\n",
       "      <td>0.018927</td>\n",
       "      <td>Grocery</td>\n",
       "    </tr>\n",
       "    <tr>\n",
       "      <th>22</th>\n",
       "      <td>Kohl's</td>\n",
       "      <td>19060</td>\n",
       "      <td>1169.0</td>\n",
       "      <td>16.353496</td>\n",
       "      <td>0.006024</td>\n",
       "      <td>Department Stores</td>\n",
       "    </tr>\n",
       "    <tr>\n",
       "      <th>23</th>\n",
       "      <td>Delhaize</td>\n",
       "      <td>18201</td>\n",
       "      <td>1280.0</td>\n",
       "      <td>13.783415</td>\n",
       "      <td>-0.059515</td>\n",
       "      <td>Grocery</td>\n",
       "    </tr>\n",
       "    <tr>\n",
       "      <th>24</th>\n",
       "      <td>Meijer</td>\n",
       "      <td>16592</td>\n",
       "      <td>231.0</td>\n",
       "      <td>74.738739</td>\n",
       "      <td>0.084507</td>\n",
       "      <td>Supercenters</td>\n",
       "    </tr>\n",
       "  </tbody>\n",
       "</table>\n",
       "</div>"
      ],
      "text/plain": [
       "               Company   Sales   Stores  Sales/Avg. Store  Store Count Growth  \\\n",
       "0           Walmart US  658119   4574.0         65.649725            0.012843   \n",
       "1               Kroger  115037   3931.0         30.031850            0.053887   \n",
       "2               Costco   90048    495.0        187.795620            0.066810   \n",
       "3           Home Depot   83976   1965.0         42.735878            0.000000   \n",
       "4       Walgreen Boots   78924   8002.0          9.810927           -0.010511   \n",
       "5     CVS incl. Target   77792   9813.0          8.825959            0.255662   \n",
       "6               Amazon   71687      0.0          0.000000            0.000000   \n",
       "7               Target   71208   1772.0         39.982033           -0.010056   \n",
       "8               Lowe's   60311   1828.0         33.311792            0.019520   \n",
       "9           Albertsons   56829   2326.0         23.877731           -0.044371   \n",
       "10          Sam's Club   56828    655.0         87.293395            0.012365   \n",
       "11  Apple incl. Online   37664      0.0          0.000000            0.000000   \n",
       "12            Best Buy   34980   1389.0         24.685956           -0.038754   \n",
       "13              Publix   34408   1351.0         25.997733            0.042438   \n",
       "14            Rite Aid   27486   4553.0          6.025649           -0.003720   \n",
       "15               Ahold   26903    794.0         34.446863            0.033854   \n",
       "16              Macy's   26028    889.0         30.442105            0.082826   \n",
       "17                 TJX   25012   2770.0          9.369545            0.078241   \n",
       "18                Aldi   24402   2021.0         12.715998            0.112273   \n",
       "19      Dollar General   22234  13350.0          1.768885            0.132412   \n",
       "20         Dollar Tree   21464  14250.0          1.563919            0.079627   \n",
       "21                 HEB   21384    323.0         66.825000            0.018927   \n",
       "22              Kohl's   19060   1169.0         16.353496            0.006024   \n",
       "23            Delhaize   18201   1280.0         13.783415           -0.059515   \n",
       "24              Meijer   16592    231.0         74.738739            0.084507   \n",
       "\n",
       "                 Category  \n",
       "0            Supercenters  \n",
       "1                 Grocery  \n",
       "2          Warehouse Club  \n",
       "3        Home Improvement  \n",
       "4             Drug Stores  \n",
       "5             Drug Stores  \n",
       "6   Electronic/Mail Order  \n",
       "7            Supercenters  \n",
       "8        Home Improvement  \n",
       "9                 Grocery  \n",
       "10        Warehouse Clubs  \n",
       "11                      0  \n",
       "12            Electronics  \n",
       "13                Grocery  \n",
       "14            Drug Stores  \n",
       "15                Grocery  \n",
       "16      Department Stores  \n",
       "17                Apparel  \n",
       "18                Grocery  \n",
       "19          Dollar Stores  \n",
       "20          Dollar Stores  \n",
       "21                Grocery  \n",
       "22      Department Stores  \n",
       "23                Grocery  \n",
       "24           Supercenters  "
      ]
     },
     "execution_count": 44,
     "metadata": {},
     "output_type": "execute_result"
    }
   ],
   "source": [
    "df_clean = df.fillna(0)\n",
    "df_clean\n"
   ]
  },
  {
   "cell_type": "markdown",
   "metadata": {},
   "source": [
    "Rellenamos con 0 los datos faltantes ya que hay compañias que no tienen datos de tiendas. Lo cual es llevado a 0 para poder realizar un analisis efectivo de nuestra data."
   ]
  },
  {
   "cell_type": "code",
   "execution_count": 45,
   "metadata": {},
   "outputs": [
    {
     "data": {
      "text/plain": [
       "Text(0.5, 1.0, 'Scatter plot de las variables Store y Sales')"
      ]
     },
     "execution_count": 45,
     "metadata": {},
     "output_type": "execute_result"
    },
    {
     "data": {
      "image/png": "[encoded data removed]",
      "text/plain": [
       "<Figure size 842.4x595.44 with 1 Axes>"
      ]
     },
     "metadata": {},
     "output_type": "display_data"
    }
   ],
   "source": [
    "chart = sns.scatterplot(\n",
    "    data=df_clean,\n",
    "    x='Stores',\n",
    "    y='Sales',\n",
    ")\n",
    "chart.set_title('Scatter plot de las variables Store y Sales')\n"
   ]
  },
  {
   "cell_type": "code",
   "execution_count": 46,
   "metadata": {},
   "outputs": [
    {
     "data": {
      "text/plain": [
       "Text(0.5, 1.0, 'Line plot de las variables Store y Sales')"
      ]
     },
     "execution_count": 46,
     "metadata": {},
     "output_type": "execute_result"
    },
    {
     "data": {
      "image/png": "[encoded data removed]",
      "text/plain": [
       "<Figure size 842.4x595.44 with 1 Axes>"
      ]
     },
     "metadata": {},
     "output_type": "display_data"
    }
   ],
   "source": [
    "chart=sns.pointplot(\n",
    "  data=df_clean,\n",
    "  x='Stores',\n",
    "  y='Sales',\n",
    ")\n",
    "chart.set_title('Line plot de las variables Store y Sales')\n"
   ]
  },
  {
   "cell_type": "code",
   "execution_count": 47,
   "metadata": {},
   "outputs": [
    {
     "data": {
      "text/plain": [
       "0.07081729398024916"
      ]
     },
     "execution_count": 47,
     "metadata": {},
     "output_type": "execute_result"
    }
   ],
   "source": [
    "df_clean['Sales'].corr(df_clean['Stores'])\n"
   ]
  },
  {
   "cell_type": "code",
   "execution_count": 48,
   "metadata": {},
   "outputs": [],
   "source": [
    "df_clean = df_clean.set_index('Company')\n"
   ]
  },
  {
   "cell_type": "code",
   "execution_count": 49,
   "metadata": {},
   "outputs": [
    {
     "data": {
      "text/plain": [
       "<AxesSubplot:>"
      ]
     },
     "execution_count": 49,
     "metadata": {},
     "output_type": "execute_result"
    },
    {
     "data": {
      "image/png": "[encoded data removed]",
      "text/plain": [
       "<Figure size 842.4x595.44 with 2 Axes>"
      ]
     },
     "metadata": {},
     "output_type": "display_data"
    }
   ],
   "source": [
    "sns.heatmap(df_clean.corr())\n"
   ]
  },
  {
   "cell_type": "markdown",
   "metadata": {},
   "source": [
    "#### Conclusiones\n",
    "\n",
    "**4. ¿La cantidad de tiendas está relacionada con la cantidad de ventas? Es decir, ¿si una empresa tiene más tiendas tendrá más dinero de ventas?**\n",
    "Como podemos ver en las graficas que no existe una correlacion entre la cantidad de tiendas y el valor en ventas, esto es comprobado al calcular la correlacion entre estas dos columnas de datos con una corrrelacion de 0.07 la cual es extremadamente baja, por lo cual podemo decir que **NO hay relacion entre la cantidad de tiendas y la cantidad de ventas, y tener mas tiendas no implica tener mas dinero en ventas**"
   ]
  },
  {
   "cell_type": "markdown",
   "metadata": {
    "cell_id": "d296130b-b739-4424-8c5d-8dc8b6fc8ee5",
    "deepnote_cell_type": "markdown",
    "tags": []
   },
   "source": [
    "### 5. ¿Cuál es el rango que existe entre las ventas?"
   ]
  },
  {
   "cell_type": "code",
   "execution_count": 50,
   "metadata": {
    "cell_id": "277da6f7-0300-4156-91e5-9765eb1f3752",
    "deepnote_cell_type": "code",
    "tags": []
   },
   "outputs": [
    {
     "name": "stderr",
     "output_type": "stream",
     "text": [
      "/home/luis/anaconda3/envs/datascience_ml/lib/python3.9/site-packages/seaborn/_decorators.py:36: FutureWarning: Pass the following variables as keyword args: x, y. From version 0.12, the only valid positional argument will be `data`, and passing other arguments without an explicit keyword will result in an error or misinterpretation.\n",
      "  warnings.warn(\n"
     ]
    },
    {
     "data": {
      "text/plain": [
       "<seaborn.axisgrid.FacetGrid at 0x7f79ea785b20>"
      ]
     },
     "execution_count": 50,
     "metadata": {},
     "output_type": "execute_result"
    },
    {
     "data": {
      "image/png": "[encoded data removed]",
      "text/plain": [
       "<Figure size 360x360 with 1 Axes>"
      ]
     },
     "metadata": {},
     "output_type": "display_data"
    }
   ],
   "source": [
    "sns.relplot(df_clean['Sales'], df_clean.index)\n"
   ]
  },
  {
   "cell_type": "code",
   "execution_count": 51,
   "metadata": {},
   "outputs": [
    {
     "data": {
      "text/html": [
       "<div>\n",
       "<style scoped>\n",
       "    .dataframe tbody tr th:only-of-type {\n",
       "        vertical-align: middle;\n",
       "    }\n",
       "\n",
       "    .dataframe tbody tr th {\n",
       "        vertical-align: top;\n",
       "    }\n",
       "\n",
       "    .dataframe thead th {\n",
       "        text-align: right;\n",
       "    }\n",
       "</style>\n",
       "<table border=\"1\" class=\"dataframe\">\n",
       "  <thead>\n",
       "    <tr style=\"text-align: right;\">\n",
       "      <th></th>\n",
       "      <th>Sales</th>\n",
       "      <th>Stores</th>\n",
       "      <th>Sales/Avg. Store</th>\n",
       "      <th>Store Count Growth</th>\n",
       "    </tr>\n",
       "  </thead>\n",
       "  <tbody>\n",
       "    <tr>\n",
       "      <th>count</th>\n",
       "      <td>25.000000</td>\n",
       "      <td>25.000000</td>\n",
       "      <td>25.000000</td>\n",
       "      <td>25.000000</td>\n",
       "    </tr>\n",
       "    <tr>\n",
       "      <th>mean</th>\n",
       "      <td>71063.080000</td>\n",
       "      <td>3189.240000</td>\n",
       "      <td>33.921289</td>\n",
       "      <td>0.037012</td>\n",
       "    </tr>\n",
       "    <tr>\n",
       "      <th>std</th>\n",
       "      <td>125405.727644</td>\n",
       "      <td>3984.120117</td>\n",
       "      <td>40.213239</td>\n",
       "      <td>0.066572</td>\n",
       "    </tr>\n",
       "    <tr>\n",
       "      <th>min</th>\n",
       "      <td>16592.000000</td>\n",
       "      <td>0.000000</td>\n",
       "      <td>0.000000</td>\n",
       "      <td>-0.059515</td>\n",
       "    </tr>\n",
       "    <tr>\n",
       "      <th>25%</th>\n",
       "      <td>24402.000000</td>\n",
       "      <td>794.000000</td>\n",
       "      <td>9.369545</td>\n",
       "      <td>0.000000</td>\n",
       "    </tr>\n",
       "    <tr>\n",
       "      <th>50%</th>\n",
       "      <td>34980.000000</td>\n",
       "      <td>1772.000000</td>\n",
       "      <td>24.685956</td>\n",
       "      <td>0.018927</td>\n",
       "    </tr>\n",
       "    <tr>\n",
       "      <th>75%</th>\n",
       "      <td>71687.000000</td>\n",
       "      <td>3931.000000</td>\n",
       "      <td>39.982033</td>\n",
       "      <td>0.078241</td>\n",
       "    </tr>\n",
       "    <tr>\n",
       "      <th>max</th>\n",
       "      <td>658119.000000</td>\n",
       "      <td>14250.000000</td>\n",
       "      <td>187.795620</td>\n",
       "      <td>0.255662</td>\n",
       "    </tr>\n",
       "  </tbody>\n",
       "</table>\n",
       "</div>"
      ],
      "text/plain": [
       "               Sales        Stores  Sales/Avg. Store  Store Count Growth\n",
       "count      25.000000     25.000000         25.000000           25.000000\n",
       "mean    71063.080000   3189.240000         33.921289            0.037012\n",
       "std    125405.727644   3984.120117         40.213239            0.066572\n",
       "min     16592.000000      0.000000          0.000000           -0.059515\n",
       "25%     24402.000000    794.000000          9.369545            0.000000\n",
       "50%     34980.000000   1772.000000         24.685956            0.018927\n",
       "75%     71687.000000   3931.000000         39.982033            0.078241\n",
       "max    658119.000000  14250.000000        187.795620            0.255662"
      ]
     },
     "execution_count": 51,
     "metadata": {},
     "output_type": "execute_result"
    }
   ],
   "source": [
    "df_clean.describe()"
   ]
  },
  {
   "cell_type": "code",
   "execution_count": 52,
   "metadata": {},
   "outputs": [
    {
     "data": {
      "text/plain": [
       "641527"
      ]
     },
     "execution_count": 52,
     "metadata": {},
     "output_type": "execute_result"
    }
   ],
   "source": [
    "range_df = df_clean['Sales'].max() - df_clean['Sales'].min()\n",
    "range_df\n"
   ]
  },
  {
   "cell_type": "markdown",
   "metadata": {},
   "source": [
    "#### Conclusiones\n",
    "\n",
    "**5. ¿Cuál es el rango que existe entre las ventas?**\n",
    "De todas las compañias, el valor en ventas tiene **un rango de $641.527,00 dolares**  con un valor en ventas **minimo de $16.592,00 dolares** y un valor en ventas **maximo de $658.119,00 dolares**"
   ]
  },
  {
   "cell_type": "markdown",
   "metadata": {
    "cell_id": "6c36ddc3-51ef-4017-a6f9-06cbb8b970e4",
    "deepnote_cell_type": "markdown",
    "tags": []
   },
   "source": [
    "### 6. ¿Cuáles son las 5 empresas que más tiendas físicas tienen? ¿Cuáles de ellas están dentro de las 5 empresas que más ventas tuvieron?"
   ]
  },
  {
   "cell_type": "code",
   "execution_count": 53,
   "metadata": {
    "cell_id": "1295319d-09d0-42f0-9de0-ff0e689f400f",
    "deepnote_cell_type": "code",
    "tags": []
   },
   "outputs": [
    {
     "data": {
      "text/html": [
       "<div>\n",
       "<style scoped>\n",
       "    .dataframe tbody tr th:only-of-type {\n",
       "        vertical-align: middle;\n",
       "    }\n",
       "\n",
       "    .dataframe tbody tr th {\n",
       "        vertical-align: top;\n",
       "    }\n",
       "\n",
       "    .dataframe thead th {\n",
       "        text-align: right;\n",
       "    }\n",
       "</style>\n",
       "<table border=\"1\" class=\"dataframe\">\n",
       "  <thead>\n",
       "    <tr style=\"text-align: right;\">\n",
       "      <th></th>\n",
       "      <th>Sales</th>\n",
       "      <th>Stores</th>\n",
       "      <th>Sales/Avg. Store</th>\n",
       "      <th>Store Count Growth</th>\n",
       "      <th>Category</th>\n",
       "    </tr>\n",
       "    <tr>\n",
       "      <th>Company</th>\n",
       "      <th></th>\n",
       "      <th></th>\n",
       "      <th></th>\n",
       "      <th></th>\n",
       "      <th></th>\n",
       "    </tr>\n",
       "  </thead>\n",
       "  <tbody>\n",
       "    <tr>\n",
       "      <th>Walmart US</th>\n",
       "      <td>658119</td>\n",
       "      <td>4574.0</td>\n",
       "      <td>65.649725</td>\n",
       "      <td>0.012843</td>\n",
       "      <td>Supercenters</td>\n",
       "    </tr>\n",
       "    <tr>\n",
       "      <th>Kroger</th>\n",
       "      <td>115037</td>\n",
       "      <td>3931.0</td>\n",
       "      <td>30.031850</td>\n",
       "      <td>0.053887</td>\n",
       "      <td>Grocery</td>\n",
       "    </tr>\n",
       "    <tr>\n",
       "      <th>Costco</th>\n",
       "      <td>90048</td>\n",
       "      <td>495.0</td>\n",
       "      <td>187.795620</td>\n",
       "      <td>0.066810</td>\n",
       "      <td>Warehouse Club</td>\n",
       "    </tr>\n",
       "    <tr>\n",
       "      <th>Home Depot</th>\n",
       "      <td>83976</td>\n",
       "      <td>1965.0</td>\n",
       "      <td>42.735878</td>\n",
       "      <td>0.000000</td>\n",
       "      <td>Home Improvement</td>\n",
       "    </tr>\n",
       "    <tr>\n",
       "      <th>Walgreen Boots</th>\n",
       "      <td>78924</td>\n",
       "      <td>8002.0</td>\n",
       "      <td>9.810927</td>\n",
       "      <td>-0.010511</td>\n",
       "      <td>Drug Stores</td>\n",
       "    </tr>\n",
       "  </tbody>\n",
       "</table>\n",
       "</div>"
      ],
      "text/plain": [
       "                 Sales  Stores  Sales/Avg. Store  Store Count Growth  \\\n",
       "Company                                                                \n",
       "Walmart US      658119  4574.0         65.649725            0.012843   \n",
       "Kroger          115037  3931.0         30.031850            0.053887   \n",
       "Costco           90048   495.0        187.795620            0.066810   \n",
       "Home Depot       83976  1965.0         42.735878            0.000000   \n",
       "Walgreen Boots   78924  8002.0          9.810927           -0.010511   \n",
       "\n",
       "                        Category  \n",
       "Company                           \n",
       "Walmart US          Supercenters  \n",
       "Kroger                   Grocery  \n",
       "Costco            Warehouse Club  \n",
       "Home Depot      Home Improvement  \n",
       "Walgreen Boots       Drug Stores  "
      ]
     },
     "execution_count": 53,
     "metadata": {},
     "output_type": "execute_result"
    }
   ],
   "source": [
    "df_clean.sort_values(by='Sales', ascending=False).head(5)"
   ]
  },
  {
   "cell_type": "code",
   "execution_count": 54,
   "metadata": {},
   "outputs": [
    {
     "data": {
      "text/html": [
       "<div>\n",
       "<style scoped>\n",
       "    .dataframe tbody tr th:only-of-type {\n",
       "        vertical-align: middle;\n",
       "    }\n",
       "\n",
       "    .dataframe tbody tr th {\n",
       "        vertical-align: top;\n",
       "    }\n",
       "\n",
       "    .dataframe thead th {\n",
       "        text-align: right;\n",
       "    }\n",
       "</style>\n",
       "<table border=\"1\" class=\"dataframe\">\n",
       "  <thead>\n",
       "    <tr style=\"text-align: right;\">\n",
       "      <th></th>\n",
       "      <th>Sales</th>\n",
       "      <th>Stores</th>\n",
       "      <th>Sales/Avg. Store</th>\n",
       "      <th>Store Count Growth</th>\n",
       "      <th>Category</th>\n",
       "    </tr>\n",
       "    <tr>\n",
       "      <th>Company</th>\n",
       "      <th></th>\n",
       "      <th></th>\n",
       "      <th></th>\n",
       "      <th></th>\n",
       "      <th></th>\n",
       "    </tr>\n",
       "  </thead>\n",
       "  <tbody>\n",
       "    <tr>\n",
       "      <th>Dollar Tree</th>\n",
       "      <td>21464</td>\n",
       "      <td>14250.0</td>\n",
       "      <td>1.563919</td>\n",
       "      <td>0.079627</td>\n",
       "      <td>Dollar Stores</td>\n",
       "    </tr>\n",
       "    <tr>\n",
       "      <th>Dollar General</th>\n",
       "      <td>22234</td>\n",
       "      <td>13350.0</td>\n",
       "      <td>1.768885</td>\n",
       "      <td>0.132412</td>\n",
       "      <td>Dollar Stores</td>\n",
       "    </tr>\n",
       "    <tr>\n",
       "      <th>CVS incl. Target</th>\n",
       "      <td>77792</td>\n",
       "      <td>9813.0</td>\n",
       "      <td>8.825959</td>\n",
       "      <td>0.255662</td>\n",
       "      <td>Drug Stores</td>\n",
       "    </tr>\n",
       "    <tr>\n",
       "      <th>Walgreen Boots</th>\n",
       "      <td>78924</td>\n",
       "      <td>8002.0</td>\n",
       "      <td>9.810927</td>\n",
       "      <td>-0.010511</td>\n",
       "      <td>Drug Stores</td>\n",
       "    </tr>\n",
       "    <tr>\n",
       "      <th>Walmart US</th>\n",
       "      <td>658119</td>\n",
       "      <td>4574.0</td>\n",
       "      <td>65.649725</td>\n",
       "      <td>0.012843</td>\n",
       "      <td>Supercenters</td>\n",
       "    </tr>\n",
       "  </tbody>\n",
       "</table>\n",
       "</div>"
      ],
      "text/plain": [
       "                   Sales   Stores  Sales/Avg. Store  Store Count Growth  \\\n",
       "Company                                                                   \n",
       "Dollar Tree        21464  14250.0          1.563919            0.079627   \n",
       "Dollar General     22234  13350.0          1.768885            0.132412   \n",
       "CVS incl. Target   77792   9813.0          8.825959            0.255662   \n",
       "Walgreen Boots     78924   8002.0          9.810927           -0.010511   \n",
       "Walmart US        658119   4574.0         65.649725            0.012843   \n",
       "\n",
       "                       Category  \n",
       "Company                          \n",
       "Dollar Tree       Dollar Stores  \n",
       "Dollar General    Dollar Stores  \n",
       "CVS incl. Target    Drug Stores  \n",
       "Walgreen Boots      Drug Stores  \n",
       "Walmart US         Supercenters  "
      ]
     },
     "execution_count": 54,
     "metadata": {},
     "output_type": "execute_result"
    }
   ],
   "source": [
    "df_clean.sort_values(by='Stores', ascending=False).head(5)\n"
   ]
  },
  {
   "cell_type": "code",
   "execution_count": 55,
   "metadata": {},
   "outputs": [
    {
     "data": {
      "text/html": [
       "<div>\n",
       "<style scoped>\n",
       "    .dataframe tbody tr th:only-of-type {\n",
       "        vertical-align: middle;\n",
       "    }\n",
       "\n",
       "    .dataframe tbody tr th {\n",
       "        vertical-align: top;\n",
       "    }\n",
       "\n",
       "    .dataframe thead th {\n",
       "        text-align: right;\n",
       "    }\n",
       "</style>\n",
       "<table border=\"1\" class=\"dataframe\">\n",
       "  <thead>\n",
       "    <tr style=\"text-align: right;\">\n",
       "      <th></th>\n",
       "      <th>Sales</th>\n",
       "      <th>Stores</th>\n",
       "      <th>Sales/Avg. Store</th>\n",
       "      <th>Store Count Growth</th>\n",
       "      <th>Category</th>\n",
       "    </tr>\n",
       "    <tr>\n",
       "      <th>Company</th>\n",
       "      <th></th>\n",
       "      <th></th>\n",
       "      <th></th>\n",
       "      <th></th>\n",
       "      <th></th>\n",
       "    </tr>\n",
       "  </thead>\n",
       "  <tbody>\n",
       "    <tr>\n",
       "      <th>Walmart US</th>\n",
       "      <td>658119</td>\n",
       "      <td>4574.0</td>\n",
       "      <td>65.649725</td>\n",
       "      <td>0.012843</td>\n",
       "      <td>Supercenters</td>\n",
       "    </tr>\n",
       "    <tr>\n",
       "      <th>Kroger</th>\n",
       "      <td>115037</td>\n",
       "      <td>3931.0</td>\n",
       "      <td>30.031850</td>\n",
       "      <td>0.053887</td>\n",
       "      <td>Grocery</td>\n",
       "    </tr>\n",
       "    <tr>\n",
       "      <th>Costco</th>\n",
       "      <td>90048</td>\n",
       "      <td>495.0</td>\n",
       "      <td>187.795620</td>\n",
       "      <td>0.066810</td>\n",
       "      <td>Warehouse Club</td>\n",
       "    </tr>\n",
       "    <tr>\n",
       "      <th>Home Depot</th>\n",
       "      <td>83976</td>\n",
       "      <td>1965.0</td>\n",
       "      <td>42.735878</td>\n",
       "      <td>0.000000</td>\n",
       "      <td>Home Improvement</td>\n",
       "    </tr>\n",
       "    <tr>\n",
       "      <th>Walgreen Boots</th>\n",
       "      <td>78924</td>\n",
       "      <td>8002.0</td>\n",
       "      <td>9.810927</td>\n",
       "      <td>-0.010511</td>\n",
       "      <td>Drug Stores</td>\n",
       "    </tr>\n",
       "  </tbody>\n",
       "</table>\n",
       "</div>"
      ],
      "text/plain": [
       "                 Sales  Stores  Sales/Avg. Store  Store Count Growth  \\\n",
       "Company                                                                \n",
       "Walmart US      658119  4574.0         65.649725            0.012843   \n",
       "Kroger          115037  3931.0         30.031850            0.053887   \n",
       "Costco           90048   495.0        187.795620            0.066810   \n",
       "Home Depot       83976  1965.0         42.735878            0.000000   \n",
       "Walgreen Boots   78924  8002.0          9.810927           -0.010511   \n",
       "\n",
       "                        Category  \n",
       "Company                           \n",
       "Walmart US          Supercenters  \n",
       "Kroger                   Grocery  \n",
       "Costco            Warehouse Club  \n",
       "Home Depot      Home Improvement  \n",
       "Walgreen Boots       Drug Stores  "
      ]
     },
     "execution_count": 55,
     "metadata": {},
     "output_type": "execute_result"
    }
   ],
   "source": [
    "df_clean.sort_values(by=['Sales','Stores'], ascending=(False, False)).head(5)\n"
   ]
  },
  {
   "cell_type": "code",
   "execution_count": 56,
   "metadata": {},
   "outputs": [
    {
     "data": {
      "text/plain": [
       "Text(0.5, 1.0, 'Bubble plot de las Compañias respecto a Sales y el tamaño es respecto a la cantidad de tiendas')"
      ]
     },
     "execution_count": 56,
     "metadata": {},
     "output_type": "execute_result"
    },
    {
     "data": {
      "image/png": "[encoded data removed]",
      "text/plain": [
       "<Figure size 842.4x595.44 with 1 Axes>"
      ]
     },
     "metadata": {},
     "output_type": "display_data"
    }
   ],
   "source": [
    "chart = sns.scatterplot(\n",
    "  data=df_clean,\n",
    "  x='Sales',\n",
    "  y='Company',\n",
    "  size='Stores',\n",
    "  sizes=(20, 300),\n",
    ")\n",
    "chart.set_title('Bubble plot de las Compañias respecto a Sales y el tamaño es respecto a la cantidad de tiendas')"
   ]
  },
  {
   "cell_type": "code",
   "execution_count": 57,
   "metadata": {},
   "outputs": [
    {
     "data": {
      "text/plain": [
       "Text(0.5, 1.0, 'Bubble plot de las Compañias respecto a Stores y el tamaño es respecto a la cantidad de ventas')"
      ]
     },
     "execution_count": 57,
     "metadata": {},
     "output_type": "execute_result"
    },
    {
     "data": {
      "image/png": "[encoded data removed]",
      "text/plain": [
       "<Figure size 842.4x595.44 with 1 Axes>"
      ]
     },
     "metadata": {},
     "output_type": "display_data"
    }
   ],
   "source": [
    "chart = sns.scatterplot(\n",
    "    data=df_clean,\n",
    "    x='Stores',\n",
    "    y='Company',\n",
    "    size='Sales',\n",
    "    sizes=(20, 300),\n",
    ")\n",
    "chart.set_title('Bubble plot de las Compañias respecto a Stores y el tamaño es respecto a la cantidad de ventas')"
   ]
  },
  {
   "cell_type": "code",
   "execution_count": 58,
   "metadata": {},
   "outputs": [
    {
     "data": {
      "text/plain": [
       "array(['Dollar Tree', 'Dollar General', 'CVS incl. Target',\n",
       "       'Walgreen Boots', 'Walmart US'], dtype=object)"
      ]
     },
     "execution_count": 58,
     "metadata": {},
     "output_type": "execute_result"
    }
   ],
   "source": [
    "top_5_company_by_stores = df_clean.sort_values(by='Stores', ascending=False).head(5).index\n",
    "top_5_company_by_stores.values\n"
   ]
  },
  {
   "cell_type": "code",
   "execution_count": 59,
   "metadata": {},
   "outputs": [],
   "source": [
    "top_5_sales = df_clean.sort_values(by='Sales', ascending=False).head(5)"
   ]
  },
  {
   "cell_type": "code",
   "execution_count": 60,
   "metadata": {},
   "outputs": [
    {
     "data": {
      "text/plain": [
       "Company\n",
       "Walmart US         True\n",
       "Kroger            False\n",
       "Costco            False\n",
       "Home Depot        False\n",
       "Walgreen Boots     True\n",
       "Name: company_name, dtype: bool"
      ]
     },
     "execution_count": 60,
     "metadata": {},
     "output_type": "execute_result"
    }
   ],
   "source": [
    "top_5_sales['company_name'] = top_5_sales.index\n",
    "store_sale_filter = top_5_sales['company_name'].apply(\n",
    "    lambda x: x in top_5_company_by_stores.values)\n",
    "store_sale_filter\n"
   ]
  },
  {
   "cell_type": "code",
   "execution_count": 61,
   "metadata": {},
   "outputs": [
    {
     "data": {
      "text/html": [
       "<div>\n",
       "<style scoped>\n",
       "    .dataframe tbody tr th:only-of-type {\n",
       "        vertical-align: middle;\n",
       "    }\n",
       "\n",
       "    .dataframe tbody tr th {\n",
       "        vertical-align: top;\n",
       "    }\n",
       "\n",
       "    .dataframe thead th {\n",
       "        text-align: right;\n",
       "    }\n",
       "</style>\n",
       "<table border=\"1\" class=\"dataframe\">\n",
       "  <thead>\n",
       "    <tr style=\"text-align: right;\">\n",
       "      <th></th>\n",
       "      <th>Sales</th>\n",
       "      <th>Stores</th>\n",
       "      <th>Sales/Avg. Store</th>\n",
       "      <th>Store Count Growth</th>\n",
       "      <th>Category</th>\n",
       "      <th>company_name</th>\n",
       "    </tr>\n",
       "    <tr>\n",
       "      <th>Company</th>\n",
       "      <th></th>\n",
       "      <th></th>\n",
       "      <th></th>\n",
       "      <th></th>\n",
       "      <th></th>\n",
       "      <th></th>\n",
       "    </tr>\n",
       "  </thead>\n",
       "  <tbody>\n",
       "    <tr>\n",
       "      <th>Walmart US</th>\n",
       "      <td>658119</td>\n",
       "      <td>4574.0</td>\n",
       "      <td>65.649725</td>\n",
       "      <td>0.012843</td>\n",
       "      <td>Supercenters</td>\n",
       "      <td>Walmart US</td>\n",
       "    </tr>\n",
       "    <tr>\n",
       "      <th>Walgreen Boots</th>\n",
       "      <td>78924</td>\n",
       "      <td>8002.0</td>\n",
       "      <td>9.810927</td>\n",
       "      <td>-0.010511</td>\n",
       "      <td>Drug Stores</td>\n",
       "      <td>Walgreen Boots</td>\n",
       "    </tr>\n",
       "  </tbody>\n",
       "</table>\n",
       "</div>"
      ],
      "text/plain": [
       "                 Sales  Stores  Sales/Avg. Store  Store Count Growth  \\\n",
       "Company                                                                \n",
       "Walmart US      658119  4574.0         65.649725            0.012843   \n",
       "Walgreen Boots   78924  8002.0          9.810927           -0.010511   \n",
       "\n",
       "                    Category    company_name  \n",
       "Company                                       \n",
       "Walmart US      Supercenters      Walmart US  \n",
       "Walgreen Boots   Drug Stores  Walgreen Boots  "
      ]
     },
     "execution_count": 61,
     "metadata": {},
     "output_type": "execute_result"
    }
   ],
   "source": [
    "top_5_sales[store_sale_filter]\n"
   ]
  },
  {
   "cell_type": "markdown",
   "metadata": {},
   "source": [
    "#### Conclusiones\n",
    "\n",
    "**6. ¿Cuáles son las 5 empresas que más tiendas físicas tienen? ¿Cuáles de ellas están dentro de las 5 empresas que más ventas tuvieron?**\n",
    "\n",
    "Las 5 compañias con mas ventas son\n",
    "1. 'Dollar Tree'\n",
    "2. 'Dollar General'\n",
    "3. 'CVS incl. Target'\n",
    "4. 'Walgreen Boots'\n",
    "5. 'Walmart US'.\n",
    "\n",
    "De las cuales solamente 'Walgreen Boots' y 'Walmart US' son partes del top 5 de las compañias con mas ventas.\n",
    "\n",
    "Siendo 'Walmart US' la compañia numero 1 con mas ventas de todas y 'Walgreen Boots' la 5ta compañia con mas ventas de todas."
   ]
  },
  {
   "cell_type": "markdown",
   "metadata": {
    "cell_id": "7d1d5db9-ad1d-4081-968b-bea1357e236a",
    "deepnote_cell_type": "markdown",
    "tags": []
   },
   "source": [
    "## II. Preguntas opcionales"
   ]
  },
  {
   "cell_type": "markdown",
   "metadata": {
    "cell_id": "27e5ddcb-8674-4809-844e-8c3442430be1",
    "deepnote_cell_type": "markdown",
    "tags": []
   },
   "source": [
    "### 7. ¿Qué categoría de compañía generó más ventas?"
   ]
  },
  {
   "cell_type": "code",
   "execution_count": 62,
   "metadata": {},
   "outputs": [
    {
     "data": {
      "text/html": [
       "<div>\n",
       "<style scoped>\n",
       "    .dataframe tbody tr th:only-of-type {\n",
       "        vertical-align: middle;\n",
       "    }\n",
       "\n",
       "    .dataframe tbody tr th {\n",
       "        vertical-align: top;\n",
       "    }\n",
       "\n",
       "    .dataframe thead th {\n",
       "        text-align: right;\n",
       "    }\n",
       "</style>\n",
       "<table border=\"1\" class=\"dataframe\">\n",
       "  <thead>\n",
       "    <tr style=\"text-align: right;\">\n",
       "      <th></th>\n",
       "      <th>Company</th>\n",
       "      <th>Sales</th>\n",
       "      <th>Stores</th>\n",
       "      <th>Sales/Avg. Store</th>\n",
       "      <th>Store Count Growth</th>\n",
       "      <th>Category</th>\n",
       "    </tr>\n",
       "  </thead>\n",
       "  <tbody>\n",
       "    <tr>\n",
       "      <th>0</th>\n",
       "      <td>Walmart US</td>\n",
       "      <td>658119</td>\n",
       "      <td>4574.0</td>\n",
       "      <td>65.649725</td>\n",
       "      <td>0.012843</td>\n",
       "      <td>Supercenters</td>\n",
       "    </tr>\n",
       "    <tr>\n",
       "      <th>1</th>\n",
       "      <td>Kroger</td>\n",
       "      <td>115037</td>\n",
       "      <td>3931.0</td>\n",
       "      <td>30.031850</td>\n",
       "      <td>0.053887</td>\n",
       "      <td>Grocery</td>\n",
       "    </tr>\n",
       "    <tr>\n",
       "      <th>2</th>\n",
       "      <td>Costco</td>\n",
       "      <td>90048</td>\n",
       "      <td>495.0</td>\n",
       "      <td>187.795620</td>\n",
       "      <td>0.066810</td>\n",
       "      <td>Warehouse Club</td>\n",
       "    </tr>\n",
       "    <tr>\n",
       "      <th>3</th>\n",
       "      <td>Home Depot</td>\n",
       "      <td>83976</td>\n",
       "      <td>1965.0</td>\n",
       "      <td>42.735878</td>\n",
       "      <td>0.000000</td>\n",
       "      <td>Home Improvement</td>\n",
       "    </tr>\n",
       "    <tr>\n",
       "      <th>4</th>\n",
       "      <td>Walgreen Boots</td>\n",
       "      <td>78924</td>\n",
       "      <td>8002.0</td>\n",
       "      <td>9.810927</td>\n",
       "      <td>-0.010511</td>\n",
       "      <td>Drug Stores</td>\n",
       "    </tr>\n",
       "    <tr>\n",
       "      <th>5</th>\n",
       "      <td>CVS incl. Target</td>\n",
       "      <td>77792</td>\n",
       "      <td>9813.0</td>\n",
       "      <td>8.825959</td>\n",
       "      <td>0.255662</td>\n",
       "      <td>Drug Stores</td>\n",
       "    </tr>\n",
       "    <tr>\n",
       "      <th>6</th>\n",
       "      <td>Amazon</td>\n",
       "      <td>71687</td>\n",
       "      <td>0.0</td>\n",
       "      <td>0.000000</td>\n",
       "      <td>0.000000</td>\n",
       "      <td>Electronic/Mail Order</td>\n",
       "    </tr>\n",
       "    <tr>\n",
       "      <th>7</th>\n",
       "      <td>Target</td>\n",
       "      <td>71208</td>\n",
       "      <td>1772.0</td>\n",
       "      <td>39.982033</td>\n",
       "      <td>-0.010056</td>\n",
       "      <td>Supercenters</td>\n",
       "    </tr>\n",
       "    <tr>\n",
       "      <th>8</th>\n",
       "      <td>Lowe's</td>\n",
       "      <td>60311</td>\n",
       "      <td>1828.0</td>\n",
       "      <td>33.311792</td>\n",
       "      <td>0.019520</td>\n",
       "      <td>Home Improvement</td>\n",
       "    </tr>\n",
       "    <tr>\n",
       "      <th>9</th>\n",
       "      <td>Albertsons</td>\n",
       "      <td>56829</td>\n",
       "      <td>2326.0</td>\n",
       "      <td>23.877731</td>\n",
       "      <td>-0.044371</td>\n",
       "      <td>Grocery</td>\n",
       "    </tr>\n",
       "    <tr>\n",
       "      <th>10</th>\n",
       "      <td>Sam's Club</td>\n",
       "      <td>56828</td>\n",
       "      <td>655.0</td>\n",
       "      <td>87.293395</td>\n",
       "      <td>0.012365</td>\n",
       "      <td>Warehouse Clubs</td>\n",
       "    </tr>\n",
       "    <tr>\n",
       "      <th>11</th>\n",
       "      <td>Apple incl. Online</td>\n",
       "      <td>37664</td>\n",
       "      <td>0.0</td>\n",
       "      <td>0.000000</td>\n",
       "      <td>0.000000</td>\n",
       "      <td>N/A</td>\n",
       "    </tr>\n",
       "    <tr>\n",
       "      <th>12</th>\n",
       "      <td>Best Buy</td>\n",
       "      <td>34980</td>\n",
       "      <td>1389.0</td>\n",
       "      <td>24.685956</td>\n",
       "      <td>-0.038754</td>\n",
       "      <td>Electronics</td>\n",
       "    </tr>\n",
       "    <tr>\n",
       "      <th>13</th>\n",
       "      <td>Publix</td>\n",
       "      <td>34408</td>\n",
       "      <td>1351.0</td>\n",
       "      <td>25.997733</td>\n",
       "      <td>0.042438</td>\n",
       "      <td>Grocery</td>\n",
       "    </tr>\n",
       "    <tr>\n",
       "      <th>14</th>\n",
       "      <td>Rite Aid</td>\n",
       "      <td>27486</td>\n",
       "      <td>4553.0</td>\n",
       "      <td>6.025649</td>\n",
       "      <td>-0.003720</td>\n",
       "      <td>Drug Stores</td>\n",
       "    </tr>\n",
       "    <tr>\n",
       "      <th>15</th>\n",
       "      <td>Ahold</td>\n",
       "      <td>26903</td>\n",
       "      <td>794.0</td>\n",
       "      <td>34.446863</td>\n",
       "      <td>0.033854</td>\n",
       "      <td>Grocery</td>\n",
       "    </tr>\n",
       "    <tr>\n",
       "      <th>16</th>\n",
       "      <td>Macy's</td>\n",
       "      <td>26028</td>\n",
       "      <td>889.0</td>\n",
       "      <td>30.442105</td>\n",
       "      <td>0.082826</td>\n",
       "      <td>Department Stores</td>\n",
       "    </tr>\n",
       "    <tr>\n",
       "      <th>17</th>\n",
       "      <td>TJX</td>\n",
       "      <td>25012</td>\n",
       "      <td>2770.0</td>\n",
       "      <td>9.369545</td>\n",
       "      <td>0.078241</td>\n",
       "      <td>Apparel</td>\n",
       "    </tr>\n",
       "    <tr>\n",
       "      <th>18</th>\n",
       "      <td>Aldi</td>\n",
       "      <td>24402</td>\n",
       "      <td>2021.0</td>\n",
       "      <td>12.715998</td>\n",
       "      <td>0.112273</td>\n",
       "      <td>Grocery</td>\n",
       "    </tr>\n",
       "    <tr>\n",
       "      <th>19</th>\n",
       "      <td>Dollar General</td>\n",
       "      <td>22234</td>\n",
       "      <td>13350.0</td>\n",
       "      <td>1.768885</td>\n",
       "      <td>0.132412</td>\n",
       "      <td>Dollar Stores</td>\n",
       "    </tr>\n",
       "    <tr>\n",
       "      <th>20</th>\n",
       "      <td>Dollar Tree</td>\n",
       "      <td>21464</td>\n",
       "      <td>14250.0</td>\n",
       "      <td>1.563919</td>\n",
       "      <td>0.079627</td>\n",
       "      <td>Dollar Stores</td>\n",
       "    </tr>\n",
       "    <tr>\n",
       "      <th>21</th>\n",
       "      <td>HEB</td>\n",
       "      <td>21384</td>\n",
       "      <td>323.0</td>\n",
       "      <td>66.825000</td>\n",
       "      <td>0.018927</td>\n",
       "      <td>Grocery</td>\n",
       "    </tr>\n",
       "    <tr>\n",
       "      <th>22</th>\n",
       "      <td>Kohl's</td>\n",
       "      <td>19060</td>\n",
       "      <td>1169.0</td>\n",
       "      <td>16.353496</td>\n",
       "      <td>0.006024</td>\n",
       "      <td>Department Stores</td>\n",
       "    </tr>\n",
       "    <tr>\n",
       "      <th>23</th>\n",
       "      <td>Delhaize</td>\n",
       "      <td>18201</td>\n",
       "      <td>1280.0</td>\n",
       "      <td>13.783415</td>\n",
       "      <td>-0.059515</td>\n",
       "      <td>Grocery</td>\n",
       "    </tr>\n",
       "    <tr>\n",
       "      <th>24</th>\n",
       "      <td>Meijer</td>\n",
       "      <td>16592</td>\n",
       "      <td>231.0</td>\n",
       "      <td>74.738739</td>\n",
       "      <td>0.084507</td>\n",
       "      <td>Supercenters</td>\n",
       "    </tr>\n",
       "  </tbody>\n",
       "</table>\n",
       "</div>"
      ],
      "text/plain": [
       "               Company   Sales   Stores  Sales/Avg. Store  Store Count Growth  \\\n",
       "0           Walmart US  658119   4574.0         65.649725            0.012843   \n",
       "1               Kroger  115037   3931.0         30.031850            0.053887   \n",
       "2               Costco   90048    495.0        187.795620            0.066810   \n",
       "3           Home Depot   83976   1965.0         42.735878            0.000000   \n",
       "4       Walgreen Boots   78924   8002.0          9.810927           -0.010511   \n",
       "5     CVS incl. Target   77792   9813.0          8.825959            0.255662   \n",
       "6               Amazon   71687      0.0          0.000000            0.000000   \n",
       "7               Target   71208   1772.0         39.982033           -0.010056   \n",
       "8               Lowe's   60311   1828.0         33.311792            0.019520   \n",
       "9           Albertsons   56829   2326.0         23.877731           -0.044371   \n",
       "10          Sam's Club   56828    655.0         87.293395            0.012365   \n",
       "11  Apple incl. Online   37664      0.0          0.000000            0.000000   \n",
       "12            Best Buy   34980   1389.0         24.685956           -0.038754   \n",
       "13              Publix   34408   1351.0         25.997733            0.042438   \n",
       "14            Rite Aid   27486   4553.0          6.025649           -0.003720   \n",
       "15               Ahold   26903    794.0         34.446863            0.033854   \n",
       "16              Macy's   26028    889.0         30.442105            0.082826   \n",
       "17                 TJX   25012   2770.0          9.369545            0.078241   \n",
       "18                Aldi   24402   2021.0         12.715998            0.112273   \n",
       "19      Dollar General   22234  13350.0          1.768885            0.132412   \n",
       "20         Dollar Tree   21464  14250.0          1.563919            0.079627   \n",
       "21                 HEB   21384    323.0         66.825000            0.018927   \n",
       "22              Kohl's   19060   1169.0         16.353496            0.006024   \n",
       "23            Delhaize   18201   1280.0         13.783415           -0.059515   \n",
       "24              Meijer   16592    231.0         74.738739            0.084507   \n",
       "\n",
       "                 Category  \n",
       "0            Supercenters  \n",
       "1                 Grocery  \n",
       "2          Warehouse Club  \n",
       "3        Home Improvement  \n",
       "4             Drug Stores  \n",
       "5             Drug Stores  \n",
       "6   Electronic/Mail Order  \n",
       "7            Supercenters  \n",
       "8        Home Improvement  \n",
       "9                 Grocery  \n",
       "10        Warehouse Clubs  \n",
       "11                    N/A  \n",
       "12            Electronics  \n",
       "13                Grocery  \n",
       "14            Drug Stores  \n",
       "15                Grocery  \n",
       "16      Department Stores  \n",
       "17                Apparel  \n",
       "18                Grocery  \n",
       "19          Dollar Stores  \n",
       "20          Dollar Stores  \n",
       "21                Grocery  \n",
       "22      Department Stores  \n",
       "23                Grocery  \n",
       "24           Supercenters  "
      ]
     },
     "execution_count": 62,
     "metadata": {},
     "output_type": "execute_result"
    }
   ],
   "source": [
    "# limpiar la data denuevo para darle nombre a la fila sin categoria\n",
    "df_clean = df\n",
    "df_clean['Category'] = df_clean['Category'].fillna('N/A')\n",
    "df_clean['Store Count Growth'] = df_clean['Store Count Growth'].fillna(0)\n",
    "df_clean['Sales/Avg. Store'] = df_clean['Sales/Avg. Store'].fillna(0)\n",
    "df_clean['Stores'] = df_clean['Stores'].fillna(0)\n",
    "df_clean\n"
   ]
  },
  {
   "cell_type": "code",
   "execution_count": 63,
   "metadata": {
    "cell_id": "fcc0ff72-f954-4023-b187-f43c7ecc77ce",
    "deepnote_cell_type": "code",
    "tags": []
   },
   "outputs": [
    {
     "data": {
      "text/html": [
       "<div>\n",
       "<style scoped>\n",
       "    .dataframe tbody tr th:only-of-type {\n",
       "        vertical-align: middle;\n",
       "    }\n",
       "\n",
       "    .dataframe tbody tr th {\n",
       "        vertical-align: top;\n",
       "    }\n",
       "\n",
       "    .dataframe thead tr th {\n",
       "        text-align: left;\n",
       "    }\n",
       "\n",
       "    .dataframe thead tr:last-of-type th {\n",
       "        text-align: right;\n",
       "    }\n",
       "</style>\n",
       "<table border=\"1\" class=\"dataframe\">\n",
       "  <thead>\n",
       "    <tr>\n",
       "      <th></th>\n",
       "      <th colspan=\"8\" halign=\"left\">Sales</th>\n",
       "      <th colspan=\"2\" halign=\"left\">Stores</th>\n",
       "      <th>...</th>\n",
       "      <th colspan=\"2\" halign=\"left\">Sales/Avg. Store</th>\n",
       "      <th colspan=\"8\" halign=\"left\">Store Count Growth</th>\n",
       "    </tr>\n",
       "    <tr>\n",
       "      <th></th>\n",
       "      <th>count</th>\n",
       "      <th>mean</th>\n",
       "      <th>std</th>\n",
       "      <th>min</th>\n",
       "      <th>25%</th>\n",
       "      <th>50%</th>\n",
       "      <th>75%</th>\n",
       "      <th>max</th>\n",
       "      <th>count</th>\n",
       "      <th>mean</th>\n",
       "      <th>...</th>\n",
       "      <th>75%</th>\n",
       "      <th>max</th>\n",
       "      <th>count</th>\n",
       "      <th>mean</th>\n",
       "      <th>std</th>\n",
       "      <th>min</th>\n",
       "      <th>25%</th>\n",
       "      <th>50%</th>\n",
       "      <th>75%</th>\n",
       "      <th>max</th>\n",
       "    </tr>\n",
       "    <tr>\n",
       "      <th>Category</th>\n",
       "      <th></th>\n",
       "      <th></th>\n",
       "      <th></th>\n",
       "      <th></th>\n",
       "      <th></th>\n",
       "      <th></th>\n",
       "      <th></th>\n",
       "      <th></th>\n",
       "      <th></th>\n",
       "      <th></th>\n",
       "      <th></th>\n",
       "      <th></th>\n",
       "      <th></th>\n",
       "      <th></th>\n",
       "      <th></th>\n",
       "      <th></th>\n",
       "      <th></th>\n",
       "      <th></th>\n",
       "      <th></th>\n",
       "      <th></th>\n",
       "      <th></th>\n",
       "    </tr>\n",
       "  </thead>\n",
       "  <tbody>\n",
       "    <tr>\n",
       "      <th>Apparel</th>\n",
       "      <td>1.0</td>\n",
       "      <td>25012.000000</td>\n",
       "      <td>NaN</td>\n",
       "      <td>25012.0</td>\n",
       "      <td>25012.00</td>\n",
       "      <td>25012.0</td>\n",
       "      <td>25012.00</td>\n",
       "      <td>25012.0</td>\n",
       "      <td>1.0</td>\n",
       "      <td>2770.000000</td>\n",
       "      <td>...</td>\n",
       "      <td>9.369545</td>\n",
       "      <td>9.369545</td>\n",
       "      <td>1.0</td>\n",
       "      <td>0.078241</td>\n",
       "      <td>NaN</td>\n",
       "      <td>0.078241</td>\n",
       "      <td>0.078241</td>\n",
       "      <td>0.078241</td>\n",
       "      <td>0.078241</td>\n",
       "      <td>0.078241</td>\n",
       "    </tr>\n",
       "    <tr>\n",
       "      <th>Department Stores</th>\n",
       "      <td>2.0</td>\n",
       "      <td>22544.000000</td>\n",
       "      <td>4927.120051</td>\n",
       "      <td>19060.0</td>\n",
       "      <td>20802.00</td>\n",
       "      <td>22544.0</td>\n",
       "      <td>24286.00</td>\n",
       "      <td>26028.0</td>\n",
       "      <td>2.0</td>\n",
       "      <td>1029.000000</td>\n",
       "      <td>...</td>\n",
       "      <td>26.919953</td>\n",
       "      <td>30.442105</td>\n",
       "      <td>2.0</td>\n",
       "      <td>0.044425</td>\n",
       "      <td>0.054307</td>\n",
       "      <td>0.006024</td>\n",
       "      <td>0.025225</td>\n",
       "      <td>0.044425</td>\n",
       "      <td>0.063625</td>\n",
       "      <td>0.082826</td>\n",
       "    </tr>\n",
       "    <tr>\n",
       "      <th>Dollar Stores</th>\n",
       "      <td>2.0</td>\n",
       "      <td>21849.000000</td>\n",
       "      <td>544.472222</td>\n",
       "      <td>21464.0</td>\n",
       "      <td>21656.50</td>\n",
       "      <td>21849.0</td>\n",
       "      <td>22041.50</td>\n",
       "      <td>22234.0</td>\n",
       "      <td>2.0</td>\n",
       "      <td>13800.000000</td>\n",
       "      <td>...</td>\n",
       "      <td>1.717643</td>\n",
       "      <td>1.768885</td>\n",
       "      <td>2.0</td>\n",
       "      <td>0.106019</td>\n",
       "      <td>0.037324</td>\n",
       "      <td>0.079627</td>\n",
       "      <td>0.092823</td>\n",
       "      <td>0.106019</td>\n",
       "      <td>0.119215</td>\n",
       "      <td>0.132412</td>\n",
       "    </tr>\n",
       "    <tr>\n",
       "      <th>Drug Stores</th>\n",
       "      <td>3.0</td>\n",
       "      <td>61400.666667</td>\n",
       "      <td>29376.416006</td>\n",
       "      <td>27486.0</td>\n",
       "      <td>52639.00</td>\n",
       "      <td>77792.0</td>\n",
       "      <td>78358.00</td>\n",
       "      <td>78924.0</td>\n",
       "      <td>3.0</td>\n",
       "      <td>7456.000000</td>\n",
       "      <td>...</td>\n",
       "      <td>9.318443</td>\n",
       "      <td>9.810927</td>\n",
       "      <td>3.0</td>\n",
       "      <td>0.080477</td>\n",
       "      <td>0.151753</td>\n",
       "      <td>-0.010511</td>\n",
       "      <td>-0.007115</td>\n",
       "      <td>-0.003720</td>\n",
       "      <td>0.125971</td>\n",
       "      <td>0.255662</td>\n",
       "    </tr>\n",
       "    <tr>\n",
       "      <th>Electronic/Mail Order</th>\n",
       "      <td>1.0</td>\n",
       "      <td>71687.000000</td>\n",
       "      <td>NaN</td>\n",
       "      <td>71687.0</td>\n",
       "      <td>71687.00</td>\n",
       "      <td>71687.0</td>\n",
       "      <td>71687.00</td>\n",
       "      <td>71687.0</td>\n",
       "      <td>1.0</td>\n",
       "      <td>0.000000</td>\n",
       "      <td>...</td>\n",
       "      <td>0.000000</td>\n",
       "      <td>0.000000</td>\n",
       "      <td>1.0</td>\n",
       "      <td>0.000000</td>\n",
       "      <td>NaN</td>\n",
       "      <td>0.000000</td>\n",
       "      <td>0.000000</td>\n",
       "      <td>0.000000</td>\n",
       "      <td>0.000000</td>\n",
       "      <td>0.000000</td>\n",
       "    </tr>\n",
       "    <tr>\n",
       "      <th>Electronics</th>\n",
       "      <td>1.0</td>\n",
       "      <td>34980.000000</td>\n",
       "      <td>NaN</td>\n",
       "      <td>34980.0</td>\n",
       "      <td>34980.00</td>\n",
       "      <td>34980.0</td>\n",
       "      <td>34980.00</td>\n",
       "      <td>34980.0</td>\n",
       "      <td>1.0</td>\n",
       "      <td>1389.000000</td>\n",
       "      <td>...</td>\n",
       "      <td>24.685956</td>\n",
       "      <td>24.685956</td>\n",
       "      <td>1.0</td>\n",
       "      <td>-0.038754</td>\n",
       "      <td>NaN</td>\n",
       "      <td>-0.038754</td>\n",
       "      <td>-0.038754</td>\n",
       "      <td>-0.038754</td>\n",
       "      <td>-0.038754</td>\n",
       "      <td>-0.038754</td>\n",
       "    </tr>\n",
       "    <tr>\n",
       "      <th>Grocery</th>\n",
       "      <td>7.0</td>\n",
       "      <td>42452.000000</td>\n",
       "      <td>34495.245605</td>\n",
       "      <td>18201.0</td>\n",
       "      <td>22893.00</td>\n",
       "      <td>26903.0</td>\n",
       "      <td>45618.50</td>\n",
       "      <td>115037.0</td>\n",
       "      <td>7.0</td>\n",
       "      <td>1718.000000</td>\n",
       "      <td>...</td>\n",
       "      <td>32.239356</td>\n",
       "      <td>66.825000</td>\n",
       "      <td>7.0</td>\n",
       "      <td>0.022499</td>\n",
       "      <td>0.058853</td>\n",
       "      <td>-0.059515</td>\n",
       "      <td>-0.012722</td>\n",
       "      <td>0.033854</td>\n",
       "      <td>0.048163</td>\n",
       "      <td>0.112273</td>\n",
       "    </tr>\n",
       "    <tr>\n",
       "      <th>Home Improvement</th>\n",
       "      <td>2.0</td>\n",
       "      <td>72143.500000</td>\n",
       "      <td>16733.681977</td>\n",
       "      <td>60311.0</td>\n",
       "      <td>66227.25</td>\n",
       "      <td>72143.5</td>\n",
       "      <td>78059.75</td>\n",
       "      <td>83976.0</td>\n",
       "      <td>2.0</td>\n",
       "      <td>1896.500000</td>\n",
       "      <td>...</td>\n",
       "      <td>40.379856</td>\n",
       "      <td>42.735878</td>\n",
       "      <td>2.0</td>\n",
       "      <td>0.009760</td>\n",
       "      <td>0.013803</td>\n",
       "      <td>0.000000</td>\n",
       "      <td>0.004880</td>\n",
       "      <td>0.009760</td>\n",
       "      <td>0.014640</td>\n",
       "      <td>0.019520</td>\n",
       "    </tr>\n",
       "    <tr>\n",
       "      <th>N/A</th>\n",
       "      <td>1.0</td>\n",
       "      <td>37664.000000</td>\n",
       "      <td>NaN</td>\n",
       "      <td>37664.0</td>\n",
       "      <td>37664.00</td>\n",
       "      <td>37664.0</td>\n",
       "      <td>37664.00</td>\n",
       "      <td>37664.0</td>\n",
       "      <td>1.0</td>\n",
       "      <td>0.000000</td>\n",
       "      <td>...</td>\n",
       "      <td>0.000000</td>\n",
       "      <td>0.000000</td>\n",
       "      <td>1.0</td>\n",
       "      <td>0.000000</td>\n",
       "      <td>NaN</td>\n",
       "      <td>0.000000</td>\n",
       "      <td>0.000000</td>\n",
       "      <td>0.000000</td>\n",
       "      <td>0.000000</td>\n",
       "      <td>0.000000</td>\n",
       "    </tr>\n",
       "    <tr>\n",
       "      <th>Supercenters</th>\n",
       "      <td>3.0</td>\n",
       "      <td>248639.666667</td>\n",
       "      <td>355669.397312</td>\n",
       "      <td>16592.0</td>\n",
       "      <td>43900.00</td>\n",
       "      <td>71208.0</td>\n",
       "      <td>364663.50</td>\n",
       "      <td>658119.0</td>\n",
       "      <td>3.0</td>\n",
       "      <td>2192.333333</td>\n",
       "      <td>...</td>\n",
       "      <td>70.194232</td>\n",
       "      <td>74.738739</td>\n",
       "      <td>3.0</td>\n",
       "      <td>0.029098</td>\n",
       "      <td>0.049333</td>\n",
       "      <td>-0.010056</td>\n",
       "      <td>0.001394</td>\n",
       "      <td>0.012843</td>\n",
       "      <td>0.048675</td>\n",
       "      <td>0.084507</td>\n",
       "    </tr>\n",
       "    <tr>\n",
       "      <th>Warehouse Club</th>\n",
       "      <td>1.0</td>\n",
       "      <td>90048.000000</td>\n",
       "      <td>NaN</td>\n",
       "      <td>90048.0</td>\n",
       "      <td>90048.00</td>\n",
       "      <td>90048.0</td>\n",
       "      <td>90048.00</td>\n",
       "      <td>90048.0</td>\n",
       "      <td>1.0</td>\n",
       "      <td>495.000000</td>\n",
       "      <td>...</td>\n",
       "      <td>187.795620</td>\n",
       "      <td>187.795620</td>\n",
       "      <td>1.0</td>\n",
       "      <td>0.066810</td>\n",
       "      <td>NaN</td>\n",
       "      <td>0.066810</td>\n",
       "      <td>0.066810</td>\n",
       "      <td>0.066810</td>\n",
       "      <td>0.066810</td>\n",
       "      <td>0.066810</td>\n",
       "    </tr>\n",
       "    <tr>\n",
       "      <th>Warehouse Clubs</th>\n",
       "      <td>1.0</td>\n",
       "      <td>56828.000000</td>\n",
       "      <td>NaN</td>\n",
       "      <td>56828.0</td>\n",
       "      <td>56828.00</td>\n",
       "      <td>56828.0</td>\n",
       "      <td>56828.00</td>\n",
       "      <td>56828.0</td>\n",
       "      <td>1.0</td>\n",
       "      <td>655.000000</td>\n",
       "      <td>...</td>\n",
       "      <td>87.293395</td>\n",
       "      <td>87.293395</td>\n",
       "      <td>1.0</td>\n",
       "      <td>0.012365</td>\n",
       "      <td>NaN</td>\n",
       "      <td>0.012365</td>\n",
       "      <td>0.012365</td>\n",
       "      <td>0.012365</td>\n",
       "      <td>0.012365</td>\n",
       "      <td>0.012365</td>\n",
       "    </tr>\n",
       "  </tbody>\n",
       "</table>\n",
       "<p>12 rows × 32 columns</p>\n",
       "</div>"
      ],
      "text/plain": [
       "                      Sales                                                   \\\n",
       "                      count           mean            std      min       25%   \n",
       "Category                                                                       \n",
       "Apparel                 1.0   25012.000000            NaN  25012.0  25012.00   \n",
       "Department Stores       2.0   22544.000000    4927.120051  19060.0  20802.00   \n",
       "Dollar Stores           2.0   21849.000000     544.472222  21464.0  21656.50   \n",
       "Drug Stores             3.0   61400.666667   29376.416006  27486.0  52639.00   \n",
       "Electronic/Mail Order   1.0   71687.000000            NaN  71687.0  71687.00   \n",
       "Electronics             1.0   34980.000000            NaN  34980.0  34980.00   \n",
       "Grocery                 7.0   42452.000000   34495.245605  18201.0  22893.00   \n",
       "Home Improvement        2.0   72143.500000   16733.681977  60311.0  66227.25   \n",
       "N/A                     1.0   37664.000000            NaN  37664.0  37664.00   \n",
       "Supercenters            3.0  248639.666667  355669.397312  16592.0  43900.00   \n",
       "Warehouse Club          1.0   90048.000000            NaN  90048.0  90048.00   \n",
       "Warehouse Clubs         1.0   56828.000000            NaN  56828.0  56828.00   \n",
       "\n",
       "                                                    Stores                ...  \\\n",
       "                           50%        75%       max  count          mean  ...   \n",
       "Category                                                                  ...   \n",
       "Apparel                25012.0   25012.00   25012.0    1.0   2770.000000  ...   \n",
       "Department Stores      22544.0   24286.00   26028.0    2.0   1029.000000  ...   \n",
       "Dollar Stores          21849.0   22041.50   22234.0    2.0  13800.000000  ...   \n",
       "Drug Stores            77792.0   78358.00   78924.0    3.0   7456.000000  ...   \n",
       "Electronic/Mail Order  71687.0   71687.00   71687.0    1.0      0.000000  ...   \n",
       "Electronics            34980.0   34980.00   34980.0    1.0   1389.000000  ...   \n",
       "Grocery                26903.0   45618.50  115037.0    7.0   1718.000000  ...   \n",
       "Home Improvement       72143.5   78059.75   83976.0    2.0   1896.500000  ...   \n",
       "N/A                    37664.0   37664.00   37664.0    1.0      0.000000  ...   \n",
       "Supercenters           71208.0  364663.50  658119.0    3.0   2192.333333  ...   \n",
       "Warehouse Club         90048.0   90048.00   90048.0    1.0    495.000000  ...   \n",
       "Warehouse Clubs        56828.0   56828.00   56828.0    1.0    655.000000  ...   \n",
       "\n",
       "                      Sales/Avg. Store             Store Count Growth  \\\n",
       "                                   75%         max              count   \n",
       "Category                                                                \n",
       "Apparel                       9.369545    9.369545                1.0   \n",
       "Department Stores            26.919953   30.442105                2.0   \n",
       "Dollar Stores                 1.717643    1.768885                2.0   \n",
       "Drug Stores                   9.318443    9.810927                3.0   \n",
       "Electronic/Mail Order         0.000000    0.000000                1.0   \n",
       "Electronics                  24.685956   24.685956                1.0   \n",
       "Grocery                      32.239356   66.825000                7.0   \n",
       "Home Improvement             40.379856   42.735878                2.0   \n",
       "N/A                           0.000000    0.000000                1.0   \n",
       "Supercenters                 70.194232   74.738739                3.0   \n",
       "Warehouse Club              187.795620  187.795620                1.0   \n",
       "Warehouse Clubs              87.293395   87.293395                1.0   \n",
       "\n",
       "                                                                         \\\n",
       "                           mean       std       min       25%       50%   \n",
       "Category                                                                  \n",
       "Apparel                0.078241       NaN  0.078241  0.078241  0.078241   \n",
       "Department Stores      0.044425  0.054307  0.006024  0.025225  0.044425   \n",
       "Dollar Stores          0.106019  0.037324  0.079627  0.092823  0.106019   \n",
       "Drug Stores            0.080477  0.151753 -0.010511 -0.007115 -0.003720   \n",
       "Electronic/Mail Order  0.000000       NaN  0.000000  0.000000  0.000000   \n",
       "Electronics           -0.038754       NaN -0.038754 -0.038754 -0.038754   \n",
       "Grocery                0.022499  0.058853 -0.059515 -0.012722  0.033854   \n",
       "Home Improvement       0.009760  0.013803  0.000000  0.004880  0.009760   \n",
       "N/A                    0.000000       NaN  0.000000  0.000000  0.000000   \n",
       "Supercenters           0.029098  0.049333 -0.010056  0.001394  0.012843   \n",
       "Warehouse Club         0.066810       NaN  0.066810  0.066810  0.066810   \n",
       "Warehouse Clubs        0.012365       NaN  0.012365  0.012365  0.012365   \n",
       "\n",
       "                                           \n",
       "                            75%       max  \n",
       "Category                                   \n",
       "Apparel                0.078241  0.078241  \n",
       "Department Stores      0.063625  0.082826  \n",
       "Dollar Stores          0.119215  0.132412  \n",
       "Drug Stores            0.125971  0.255662  \n",
       "Electronic/Mail Order  0.000000  0.000000  \n",
       "Electronics           -0.038754 -0.038754  \n",
       "Grocery                0.048163  0.112273  \n",
       "Home Improvement       0.014640  0.019520  \n",
       "N/A                    0.000000  0.000000  \n",
       "Supercenters           0.048675  0.084507  \n",
       "Warehouse Club         0.066810  0.066810  \n",
       "Warehouse Clubs        0.012365  0.012365  \n",
       "\n",
       "[12 rows x 32 columns]"
      ]
     },
     "execution_count": 63,
     "metadata": {},
     "output_type": "execute_result"
    }
   ],
   "source": [
    "# agrupamos los datos por categoria\n",
    "df_group_category = df_clean.groupby('Category')\n",
    "df_group_category.describe()\n"
   ]
  },
  {
   "cell_type": "code",
   "execution_count": 64,
   "metadata": {},
   "outputs": [],
   "source": [
    "# la suma de todas las ventas por categoria\n",
    "chart_data = df_group_category['Sales'].sum()\n",
    "chart_data\n",
    "dict_data = dict(chart_data)\n"
   ]
  },
  {
   "cell_type": "code",
   "execution_count": 65,
   "metadata": {},
   "outputs": [],
   "source": [
    "# ordenamos el diccionario para poder graficarlo mejor\n",
    "dict_data = {k: v for k, v in sorted(dict_data.items(), key=lambda item: item[1])}\n"
   ]
  },
  {
   "cell_type": "code",
   "execution_count": 66,
   "metadata": {},
   "outputs": [
    {
     "data": {
      "text/plain": [
       "Text(0.5, 1.0, 'Ventas por Categoria')"
      ]
     },
     "execution_count": 66,
     "metadata": {},
     "output_type": "execute_result"
    },
    {
     "data": {
      "image/png": "[encoded data removed]",
      "text/plain": [
       "<Figure size 842.4x595.44 with 1 Axes>"
      ]
     },
     "metadata": {},
     "output_type": "display_data"
    }
   ],
   "source": [
    "chart = sns.barplot(\n",
    "    x=list(dict_data.keys()),\n",
    "    y=list(dict_data.values()),\n",
    ")\n",
    "\n",
    "for item in chart.get_xticklabels():\n",
    "    item.set_rotation(65)\n",
    "chart.set_title('Ventas por Categoria')"
   ]
  },
  {
   "cell_type": "code",
   "execution_count": 67,
   "metadata": {},
   "outputs": [
    {
     "data": {
      "text/plain": [
       "Category\n",
       "Apparel                   25012\n",
       "Department Stores         45088\n",
       "Dollar Stores             43698\n",
       "Drug Stores              184202\n",
       "Electronic/Mail Order     71687\n",
       "Electronics               34980\n",
       "Grocery                  297164\n",
       "Home Improvement         144287\n",
       "N/A                       37664\n",
       "Supercenters             745919\n",
       "Warehouse Club            90048\n",
       "Warehouse Clubs           56828\n",
       "Name: Sales, dtype: int64"
      ]
     },
     "execution_count": 67,
     "metadata": {},
     "output_type": "execute_result"
    }
   ],
   "source": [
    "df_group_category['Sales'].sum()"
   ]
  },
  {
   "cell_type": "code",
   "execution_count": 68,
   "metadata": {},
   "outputs": [
    {
     "data": {
      "text/plain": [
       "745919"
      ]
     },
     "execution_count": 68,
     "metadata": {},
     "output_type": "execute_result"
    }
   ],
   "source": [
    "df_group_category['Sales'].sum().max()\n"
   ]
  },
  {
   "cell_type": "markdown",
   "metadata": {},
   "source": [
    "#### Conclusiones\n",
    "\n",
    "Tras el analisis de los datos y la graficacion de los mismos podemos ver que al sumar el valor de todas las ventas por categoria, **la categoria con el mayor valor en ventas de todas es \"Supercenters\"** con un total de valor en **ventas de $745.919,00 dolares.**"
   ]
  },
  {
   "cell_type": "markdown",
   "metadata": {
    "cell_id": "33668883-9f01-485c-bdf9-822cd13ad952",
    "deepnote_cell_type": "markdown",
    "tags": []
   },
   "source": [
    "### 8. ¿Cuál es la compañía que en relación con su cantidad de tiendas físicas genera más ventas?"
   ]
  },
  {
   "cell_type": "code",
   "execution_count": 85,
   "metadata": {
    "cell_id": "903008ff-c22d-431e-8130-a954a94b16e8",
    "deepnote_cell_type": "code",
    "tags": []
   },
   "outputs": [],
   "source": [
    "df_sorted = df_clean.sort_values(by=['Stores', 'Sales'], ascending=(False, False))\n",
    "# df_sorted"
   ]
  },
  {
   "cell_type": "code",
   "execution_count": 77,
   "metadata": {},
   "outputs": [],
   "source": [
    "df_stores_sales = df_sorted.drop(df_sorted[df_sorted['Stores'] == 0].index)"
   ]
  },
  {
   "cell_type": "code",
   "execution_count": 91,
   "metadata": {},
   "outputs": [
    {
     "data": {
      "text/html": [
       "<div>\n",
       "<style scoped>\n",
       "    .dataframe tbody tr th:only-of-type {\n",
       "        vertical-align: middle;\n",
       "    }\n",
       "\n",
       "    .dataframe tbody tr th {\n",
       "        vertical-align: top;\n",
       "    }\n",
       "\n",
       "    .dataframe thead th {\n",
       "        text-align: right;\n",
       "    }\n",
       "</style>\n",
       "<table border=\"1\" class=\"dataframe\">\n",
       "  <thead>\n",
       "    <tr style=\"text-align: right;\">\n",
       "      <th></th>\n",
       "      <th>Company</th>\n",
       "      <th>Sales</th>\n",
       "      <th>Stores</th>\n",
       "      <th>Sales/Avg. Store</th>\n",
       "      <th>Store Count Growth</th>\n",
       "      <th>Category</th>\n",
       "      <th>SalesProportionStores</th>\n",
       "    </tr>\n",
       "  </thead>\n",
       "  <tbody>\n",
       "    <tr>\n",
       "      <th>20</th>\n",
       "      <td>Dollar Tree</td>\n",
       "      <td>21464</td>\n",
       "      <td>14250.0</td>\n",
       "      <td>1.563919</td>\n",
       "      <td>0.079627</td>\n",
       "      <td>Dollar Stores</td>\n",
       "      <td>1.506246</td>\n",
       "    </tr>\n",
       "    <tr>\n",
       "      <th>19</th>\n",
       "      <td>Dollar General</td>\n",
       "      <td>22234</td>\n",
       "      <td>13350.0</td>\n",
       "      <td>1.768885</td>\n",
       "      <td>0.132412</td>\n",
       "      <td>Dollar Stores</td>\n",
       "      <td>1.665468</td>\n",
       "    </tr>\n",
       "    <tr>\n",
       "      <th>14</th>\n",
       "      <td>Rite Aid</td>\n",
       "      <td>27486</td>\n",
       "      <td>4553.0</td>\n",
       "      <td>6.025649</td>\n",
       "      <td>-0.003720</td>\n",
       "      <td>Drug Stores</td>\n",
       "      <td>6.036899</td>\n",
       "    </tr>\n",
       "    <tr>\n",
       "      <th>5</th>\n",
       "      <td>CVS incl. Target</td>\n",
       "      <td>77792</td>\n",
       "      <td>9813.0</td>\n",
       "      <td>8.825959</td>\n",
       "      <td>0.255662</td>\n",
       "      <td>Drug Stores</td>\n",
       "      <td>7.927443</td>\n",
       "    </tr>\n",
       "    <tr>\n",
       "      <th>17</th>\n",
       "      <td>TJX</td>\n",
       "      <td>25012</td>\n",
       "      <td>2770.0</td>\n",
       "      <td>9.369545</td>\n",
       "      <td>0.078241</td>\n",
       "      <td>Apparel</td>\n",
       "      <td>9.029603</td>\n",
       "    </tr>\n",
       "    <tr>\n",
       "      <th>4</th>\n",
       "      <td>Walgreen Boots</td>\n",
       "      <td>78924</td>\n",
       "      <td>8002.0</td>\n",
       "      <td>9.810927</td>\n",
       "      <td>-0.010511</td>\n",
       "      <td>Drug Stores</td>\n",
       "      <td>9.863034</td>\n",
       "    </tr>\n",
       "    <tr>\n",
       "      <th>18</th>\n",
       "      <td>Aldi</td>\n",
       "      <td>24402</td>\n",
       "      <td>2021.0</td>\n",
       "      <td>12.715998</td>\n",
       "      <td>0.112273</td>\n",
       "      <td>Grocery</td>\n",
       "      <td>12.074221</td>\n",
       "    </tr>\n",
       "    <tr>\n",
       "      <th>23</th>\n",
       "      <td>Delhaize</td>\n",
       "      <td>18201</td>\n",
       "      <td>1280.0</td>\n",
       "      <td>13.783415</td>\n",
       "      <td>-0.059515</td>\n",
       "      <td>Grocery</td>\n",
       "      <td>14.219531</td>\n",
       "    </tr>\n",
       "    <tr>\n",
       "      <th>22</th>\n",
       "      <td>Kohl's</td>\n",
       "      <td>19060</td>\n",
       "      <td>1169.0</td>\n",
       "      <td>16.353496</td>\n",
       "      <td>0.006024</td>\n",
       "      <td>Department Stores</td>\n",
       "      <td>16.304534</td>\n",
       "    </tr>\n",
       "    <tr>\n",
       "      <th>9</th>\n",
       "      <td>Albertsons</td>\n",
       "      <td>56829</td>\n",
       "      <td>2326.0</td>\n",
       "      <td>23.877731</td>\n",
       "      <td>-0.044371</td>\n",
       "      <td>Grocery</td>\n",
       "      <td>24.432072</td>\n",
       "    </tr>\n",
       "    <tr>\n",
       "      <th>12</th>\n",
       "      <td>Best Buy</td>\n",
       "      <td>34980</td>\n",
       "      <td>1389.0</td>\n",
       "      <td>24.685956</td>\n",
       "      <td>-0.038754</td>\n",
       "      <td>Electronics</td>\n",
       "      <td>25.183585</td>\n",
       "    </tr>\n",
       "    <tr>\n",
       "      <th>13</th>\n",
       "      <td>Publix</td>\n",
       "      <td>34408</td>\n",
       "      <td>1351.0</td>\n",
       "      <td>25.997733</td>\n",
       "      <td>0.042438</td>\n",
       "      <td>Grocery</td>\n",
       "      <td>25.468542</td>\n",
       "    </tr>\n",
       "    <tr>\n",
       "      <th>1</th>\n",
       "      <td>Kroger</td>\n",
       "      <td>115037</td>\n",
       "      <td>3931.0</td>\n",
       "      <td>30.031850</td>\n",
       "      <td>0.053887</td>\n",
       "      <td>Grocery</td>\n",
       "      <td>29.264055</td>\n",
       "    </tr>\n",
       "    <tr>\n",
       "      <th>16</th>\n",
       "      <td>Macy's</td>\n",
       "      <td>26028</td>\n",
       "      <td>889.0</td>\n",
       "      <td>30.442105</td>\n",
       "      <td>0.082826</td>\n",
       "      <td>Department Stores</td>\n",
       "      <td>29.277840</td>\n",
       "    </tr>\n",
       "    <tr>\n",
       "      <th>8</th>\n",
       "      <td>Lowe's</td>\n",
       "      <td>60311</td>\n",
       "      <td>1828.0</td>\n",
       "      <td>33.311792</td>\n",
       "      <td>0.019520</td>\n",
       "      <td>Home Improvement</td>\n",
       "      <td>32.992888</td>\n",
       "    </tr>\n",
       "    <tr>\n",
       "      <th>15</th>\n",
       "      <td>Ahold</td>\n",
       "      <td>26903</td>\n",
       "      <td>794.0</td>\n",
       "      <td>34.446863</td>\n",
       "      <td>0.033854</td>\n",
       "      <td>Grocery</td>\n",
       "      <td>33.882872</td>\n",
       "    </tr>\n",
       "    <tr>\n",
       "      <th>7</th>\n",
       "      <td>Target</td>\n",
       "      <td>71208</td>\n",
       "      <td>1772.0</td>\n",
       "      <td>39.982033</td>\n",
       "      <td>-0.010056</td>\n",
       "      <td>Supercenters</td>\n",
       "      <td>40.185102</td>\n",
       "    </tr>\n",
       "    <tr>\n",
       "      <th>3</th>\n",
       "      <td>Home Depot</td>\n",
       "      <td>83976</td>\n",
       "      <td>1965.0</td>\n",
       "      <td>42.735878</td>\n",
       "      <td>0.000000</td>\n",
       "      <td>Home Improvement</td>\n",
       "      <td>42.735878</td>\n",
       "    </tr>\n",
       "    <tr>\n",
       "      <th>21</th>\n",
       "      <td>HEB</td>\n",
       "      <td>21384</td>\n",
       "      <td>323.0</td>\n",
       "      <td>66.825000</td>\n",
       "      <td>0.018927</td>\n",
       "      <td>Grocery</td>\n",
       "      <td>66.204334</td>\n",
       "    </tr>\n",
       "    <tr>\n",
       "      <th>24</th>\n",
       "      <td>Meijer</td>\n",
       "      <td>16592</td>\n",
       "      <td>231.0</td>\n",
       "      <td>74.738739</td>\n",
       "      <td>0.084507</td>\n",
       "      <td>Supercenters</td>\n",
       "      <td>71.826840</td>\n",
       "    </tr>\n",
       "    <tr>\n",
       "      <th>10</th>\n",
       "      <td>Sam's Club</td>\n",
       "      <td>56828</td>\n",
       "      <td>655.0</td>\n",
       "      <td>87.293395</td>\n",
       "      <td>0.012365</td>\n",
       "      <td>Warehouse Clubs</td>\n",
       "      <td>86.760305</td>\n",
       "    </tr>\n",
       "    <tr>\n",
       "      <th>0</th>\n",
       "      <td>Walmart US</td>\n",
       "      <td>658119</td>\n",
       "      <td>4574.0</td>\n",
       "      <td>65.649725</td>\n",
       "      <td>0.012843</td>\n",
       "      <td>Supercenters</td>\n",
       "      <td>143.882597</td>\n",
       "    </tr>\n",
       "    <tr>\n",
       "      <th>2</th>\n",
       "      <td>Costco</td>\n",
       "      <td>90048</td>\n",
       "      <td>495.0</td>\n",
       "      <td>187.795620</td>\n",
       "      <td>0.066810</td>\n",
       "      <td>Warehouse Club</td>\n",
       "      <td>181.915152</td>\n",
       "    </tr>\n",
       "  </tbody>\n",
       "</table>\n",
       "</div>"
      ],
      "text/plain": [
       "             Company   Sales   Stores  Sales/Avg. Store  Store Count Growth  \\\n",
       "20       Dollar Tree   21464  14250.0          1.563919            0.079627   \n",
       "19    Dollar General   22234  13350.0          1.768885            0.132412   \n",
       "14          Rite Aid   27486   4553.0          6.025649           -0.003720   \n",
       "5   CVS incl. Target   77792   9813.0          8.825959            0.255662   \n",
       "17               TJX   25012   2770.0          9.369545            0.078241   \n",
       "4     Walgreen Boots   78924   8002.0          9.810927           -0.010511   \n",
       "18              Aldi   24402   2021.0         12.715998            0.112273   \n",
       "23          Delhaize   18201   1280.0         13.783415           -0.059515   \n",
       "22            Kohl's   19060   1169.0         16.353496            0.006024   \n",
       "9         Albertsons   56829   2326.0         23.877731           -0.044371   \n",
       "12          Best Buy   34980   1389.0         24.685956           -0.038754   \n",
       "13            Publix   34408   1351.0         25.997733            0.042438   \n",
       "1             Kroger  115037   3931.0         30.031850            0.053887   \n",
       "16            Macy's   26028    889.0         30.442105            0.082826   \n",
       "8             Lowe's   60311   1828.0         33.311792            0.019520   \n",
       "15             Ahold   26903    794.0         34.446863            0.033854   \n",
       "7             Target   71208   1772.0         39.982033           -0.010056   \n",
       "3         Home Depot   83976   1965.0         42.735878            0.000000   \n",
       "21               HEB   21384    323.0         66.825000            0.018927   \n",
       "24            Meijer   16592    231.0         74.738739            0.084507   \n",
       "10        Sam's Club   56828    655.0         87.293395            0.012365   \n",
       "0         Walmart US  658119   4574.0         65.649725            0.012843   \n",
       "2             Costco   90048    495.0        187.795620            0.066810   \n",
       "\n",
       "             Category  SalesProportionStores  \n",
       "20      Dollar Stores               1.506246  \n",
       "19      Dollar Stores               1.665468  \n",
       "14        Drug Stores               6.036899  \n",
       "5         Drug Stores               7.927443  \n",
       "17            Apparel               9.029603  \n",
       "4         Drug Stores               9.863034  \n",
       "18            Grocery              12.074221  \n",
       "23            Grocery              14.219531  \n",
       "22  Department Stores              16.304534  \n",
       "9             Grocery              24.432072  \n",
       "12        Electronics              25.183585  \n",
       "13            Grocery              25.468542  \n",
       "1             Grocery              29.264055  \n",
       "16  Department Stores              29.277840  \n",
       "8    Home Improvement              32.992888  \n",
       "15            Grocery              33.882872  \n",
       "7        Supercenters              40.185102  \n",
       "3    Home Improvement              42.735878  \n",
       "21            Grocery              66.204334  \n",
       "24       Supercenters              71.826840  \n",
       "10    Warehouse Clubs              86.760305  \n",
       "0        Supercenters             143.882597  \n",
       "2      Warehouse Club             181.915152  "
      ]
     },
     "execution_count": 91,
     "metadata": {},
     "output_type": "execute_result"
    }
   ],
   "source": [
    "df_stores_sales['SalesProportionStores'] = df_stores_sales['Sales'] / df_stores_sales['Stores']\n",
    "df_stores_sales = df_stores_sales.sort_values(\n",
    "    by='SalesProportionStores', ascending=True)\n",
    "df_stores_sales\n"
   ]
  },
  {
   "cell_type": "code",
   "execution_count": 92,
   "metadata": {},
   "outputs": [
    {
     "data": {
      "text/plain": [
       "Text(0.5, 1.0, 'Proporcion de Ventas respecto a cantidad de Tiendas')"
      ]
     },
     "execution_count": 92,
     "metadata": {},
     "output_type": "execute_result"
    },
    {
     "data": {
      "image/png": "[encoded data removed]",
      "text/plain": [
       "<Figure size 842.4x595.44 with 1 Axes>"
      ]
     },
     "metadata": {},
     "output_type": "display_data"
    }
   ],
   "source": [
    "chart = sns.barplot(\n",
    "    x=df_stores_sales['Company'],\n",
    "    y=df_stores_sales['SalesProportionStores'],\n",
    ")\n",
    "\n",
    "for item in chart.get_xticklabels():\n",
    "    item.set_rotation(65)\n",
    "chart.set_title('Proporcion de Ventas respecto a cantidad de Tiendas')\n"
   ]
  },
  {
   "cell_type": "markdown",
   "metadata": {},
   "source": [
    "#### Conclusiones\n",
    "\n",
    "Tras calcular y graficar la proporcion de Ventas con respecto a la cantidad de compañias disponibles, podemos ver que **Cotsco** es la compañia con tienda Fisica que genera la mayor cantidad de ingresos en relacion a la cantidad de tiendas fisicas que posee.\n"
   ]
  },
  {
   "cell_type": "markdown",
   "metadata": {
    "cell_id": "e9a00ffe-de8a-41f0-98e7-67b905d0d14f",
    "deepnote_cell_type": "markdown",
    "tags": []
   },
   "source": [
    "### 9. ¿Cuáles compañías venden de forma exclusivamente online? ¿Sus ventas destacan sobre las que también tienen tiendas físicas?"
   ]
  },
  {
   "cell_type": "code",
   "execution_count": null,
   "metadata": {
    "cell_id": "cb6d5d30-783d-44af-9c84-f31689cb3487",
    "deepnote_cell_type": "code",
    "tags": []
   },
   "outputs": [],
   "source": []
  },
  {
   "cell_type": "markdown",
   "metadata": {
    "cell_id": "58c80612-3fb2-4c71-9aab-813b121430a0",
    "deepnote_cell_type": "markdown",
    "tags": []
   },
   "source": [
    "## III. Tus propias preguntas"
   ]
  },
  {
   "cell_type": "markdown",
   "metadata": {
    "cell_id": "fa60966b-7d95-43f0-9a1e-201f1373f1be",
    "deepnote_cell_type": "markdown",
    "tags": []
   },
   "source": [
    "### 10. Pregunta"
   ]
  },
  {
   "cell_type": "code",
   "execution_count": null,
   "metadata": {
    "cell_id": "52ea290f-004f-4aaa-8e1a-0d0908996b0a",
    "deepnote_cell_type": "code",
    "tags": []
   },
   "outputs": [],
   "source": []
  },
  {
   "cell_type": "markdown",
   "metadata": {
    "cell_id": "83e0e566-969d-4872-b32d-915ac945a370",
    "deepnote_cell_type": "markdown",
    "tags": []
   },
   "source": [
    "### 11. Pregunta"
   ]
  },
  {
   "cell_type": "code",
   "execution_count": null,
   "metadata": {
    "cell_id": "04a6786e-fd39-4b41-b85c-0ecae003e4db",
    "deepnote_cell_type": "code",
    "tags": []
   },
   "outputs": [],
   "source": []
  },
  {
   "cell_type": "markdown",
   "metadata": {
    "cell_id": "d5a17c31-5e8f-4d67-9679-c5705053de69",
    "deepnote_cell_type": "markdown",
    "tags": []
   },
   "source": [
    "### 12. Pregunta"
   ]
  },
  {
   "cell_type": "code",
   "execution_count": null,
   "metadata": {
    "cell_id": "b168ad4f-adf7-4f82-9126-461a1fc64b84",
    "deepnote_cell_type": "code",
    "tags": []
   },
   "outputs": [],
   "source": []
  },
  {
   "cell_type": "markdown",
   "metadata": {
    "created_in_deepnote_cell": true,
    "deepnote_cell_type": "markdown",
    "tags": []
   },
   "source": [
    "<a style='text-decoration:none;line-height:16px;display:flex;color:#5B5B62;padding:10px;justify-content:end;' href='https://deepnote.com?utm_source=created-in-deepnote-cell&projectId=edc68bfa-8df4-47a4-8622-860ebb931fe9' target=\"_blank\">\n",
    "<img alt='Created in deepnote.com' style='display:inline;max-height:16px;margin:0px;margin-right:7.5px;' src='data:image/svg+xml;base64,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' > </img>\n",
    "Created in <span style='font-weight:600;margin-left:4px;'>Deepnote</span></a>"
   ]
  }
 ],
 "metadata": {
  "deepnote": {
   "is_reactive": false
  },
  "deepnote_execution_queue": [],
  "deepnote_notebook_id": "85b76ea9-ace4-4c85-8b21-59120be91703",
  "interpreter": {
   "hash": "ee8799877915b2128d18d4b1666f364b6042f264ec4835ead054518ba3b9d1ac"
  },
  "kernelspec": {
   "display_name": "Python 3.9.7 ('datascience_ml')",
   "language": "python",
   "name": "python3"
  },
  "language_info": {
   "codemirror_mode": {
    "name": "ipython",
    "version": 3
   },
   "file_extension": ".py",
   "mimetype": "text/x-python",
   "name": "python",
   "nbconvert_exporter": "python",
   "pygments_lexer": "ipython3",
   "version": "3.9.7"
  },
  "orig_nbformat": 2
 },
 "nbformat": 4,
 "nbformat_minor": 2
}

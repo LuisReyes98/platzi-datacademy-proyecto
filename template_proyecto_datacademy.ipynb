{
 "cells": [
  {
   "cell_type": "markdown",
   "metadata": {
    "cell_id": "1df879a0-53cd-4031-a50b-2c2fe17304a4",
    "deepnote_cell_type": "text-cell-h1",
    "is_collapsed": false,
    "tags": []
   },
   "source": [
    "# Análisis de los 25 retailers más grandes de Estados Unidos"
   ]
  },
  {
   "cell_type": "code",
   "execution_count": 1,
   "metadata": {
    "cell_id": "3347a937-91c3-4305-b06c-213bb2f3bcaf",
    "deepnote_cell_type": "code",
    "tags": []
   },
   "outputs": [],
   "source": [
    "# Importar librerías aquí\n",
    "import pandas as pd\n",
    "import numpy as np\n",
    "import matplotlib.pyplot as plt\n",
    "import seaborn as sns\n"
   ]
  },
  {
   "cell_type": "code",
   "execution_count": 3,
   "metadata": {
    "cell_id": "081fdaf2-888a-4a54-9495-467464cfc400",
    "deepnote_cell_type": "code",
    "tags": []
   },
   "outputs": [
    {
     "data": {
      "text/html": [
       "<div>\n",
       "<style scoped>\n",
       "    .dataframe tbody tr th:only-of-type {\n",
       "        vertical-align: middle;\n",
       "    }\n",
       "\n",
       "    .dataframe tbody tr th {\n",
       "        vertical-align: top;\n",
       "    }\n",
       "\n",
       "    .dataframe thead th {\n",
       "        text-align: right;\n",
       "    }\n",
       "</style>\n",
       "<table border=\"1\" class=\"dataframe\">\n",
       "  <thead>\n",
       "    <tr style=\"text-align: right;\">\n",
       "      <th></th>\n",
       "      <th>Company</th>\n",
       "      <th>Sales</th>\n",
       "      <th>Stores</th>\n",
       "      <th>Sales/Avg. Store</th>\n",
       "      <th>Store Count Growth</th>\n",
       "      <th>Category</th>\n",
       "    </tr>\n",
       "  </thead>\n",
       "  <tbody>\n",
       "    <tr>\n",
       "      <th>0</th>\n",
       "      <td>Walmart US</td>\n",
       "      <td>658119</td>\n",
       "      <td>4574.0</td>\n",
       "      <td>65.649725</td>\n",
       "      <td>0.012843</td>\n",
       "      <td>Supercenters</td>\n",
       "    </tr>\n",
       "    <tr>\n",
       "      <th>1</th>\n",
       "      <td>Kroger</td>\n",
       "      <td>115037</td>\n",
       "      <td>3931.0</td>\n",
       "      <td>30.031850</td>\n",
       "      <td>0.053887</td>\n",
       "      <td>Grocery</td>\n",
       "    </tr>\n",
       "    <tr>\n",
       "      <th>2</th>\n",
       "      <td>Costco</td>\n",
       "      <td>90048</td>\n",
       "      <td>495.0</td>\n",
       "      <td>187.795620</td>\n",
       "      <td>0.066810</td>\n",
       "      <td>Warehouse Club</td>\n",
       "    </tr>\n",
       "    <tr>\n",
       "      <th>3</th>\n",
       "      <td>Home Depot</td>\n",
       "      <td>83976</td>\n",
       "      <td>1965.0</td>\n",
       "      <td>42.735878</td>\n",
       "      <td>0.000000</td>\n",
       "      <td>Home Improvement</td>\n",
       "    </tr>\n",
       "    <tr>\n",
       "      <th>4</th>\n",
       "      <td>Walgreen Boots</td>\n",
       "      <td>78924</td>\n",
       "      <td>8002.0</td>\n",
       "      <td>9.810927</td>\n",
       "      <td>-0.010511</td>\n",
       "      <td>Drug Stores</td>\n",
       "    </tr>\n",
       "  </tbody>\n",
       "</table>\n",
       "</div>"
      ],
      "text/plain": [
       "          Company   Sales  Stores  Sales/Avg. Store  Store Count Growth  \\\n",
       "0      Walmart US  658119  4574.0         65.649725            0.012843   \n",
       "1          Kroger  115037  3931.0         30.031850            0.053887   \n",
       "2          Costco   90048   495.0        187.795620            0.066810   \n",
       "3      Home Depot   83976  1965.0         42.735878            0.000000   \n",
       "4  Walgreen Boots   78924  8002.0          9.810927           -0.010511   \n",
       "\n",
       "           Category  \n",
       "0      Supercenters  \n",
       "1           Grocery  \n",
       "2    Warehouse Club  \n",
       "3  Home Improvement  \n",
       "4       Drug Stores  "
      ]
     },
     "execution_count": 3,
     "metadata": {},
     "output_type": "execute_result"
    }
   ],
   "source": [
    "# Importar datos aquí\n",
    "df = pd.read_csv('./data/largest_us_retailers.csv')\n",
    "df.head()"
   ]
  },
  {
   "cell_type": "markdown",
   "metadata": {},
   "source": [
    "¿cuál empresa vendió más?\n",
    "\n",
    "a) Escribe tu código dentro de celdas de código\n",
    "Ejecuta el código que necesites para llegar al resultado que necesitas."
   ]
  },
  {
   "cell_type": "code",
   "execution_count": 4,
   "metadata": {},
   "outputs": [
    {
     "data": {
      "text/html": [
       "<div>\n",
       "<style scoped>\n",
       "    .dataframe tbody tr th:only-of-type {\n",
       "        vertical-align: middle;\n",
       "    }\n",
       "\n",
       "    .dataframe tbody tr th {\n",
       "        vertical-align: top;\n",
       "    }\n",
       "\n",
       "    .dataframe thead th {\n",
       "        text-align: right;\n",
       "    }\n",
       "</style>\n",
       "<table border=\"1\" class=\"dataframe\">\n",
       "  <thead>\n",
       "    <tr style=\"text-align: right;\">\n",
       "      <th></th>\n",
       "      <th>Company</th>\n",
       "      <th>Sales</th>\n",
       "      <th>Stores</th>\n",
       "      <th>Sales/Avg. Store</th>\n",
       "      <th>Store Count Growth</th>\n",
       "      <th>Category</th>\n",
       "    </tr>\n",
       "  </thead>\n",
       "  <tbody>\n",
       "    <tr>\n",
       "      <th>0</th>\n",
       "      <td>Walmart US</td>\n",
       "      <td>658119</td>\n",
       "      <td>4574.0</td>\n",
       "      <td>65.649725</td>\n",
       "      <td>0.012843</td>\n",
       "      <td>Supercenters</td>\n",
       "    </tr>\n",
       "    <tr>\n",
       "      <th>1</th>\n",
       "      <td>Kroger</td>\n",
       "      <td>115037</td>\n",
       "      <td>3931.0</td>\n",
       "      <td>30.031850</td>\n",
       "      <td>0.053887</td>\n",
       "      <td>Grocery</td>\n",
       "    </tr>\n",
       "    <tr>\n",
       "      <th>2</th>\n",
       "      <td>Costco</td>\n",
       "      <td>90048</td>\n",
       "      <td>495.0</td>\n",
       "      <td>187.795620</td>\n",
       "      <td>0.066810</td>\n",
       "      <td>Warehouse Club</td>\n",
       "    </tr>\n",
       "    <tr>\n",
       "      <th>3</th>\n",
       "      <td>Home Depot</td>\n",
       "      <td>83976</td>\n",
       "      <td>1965.0</td>\n",
       "      <td>42.735878</td>\n",
       "      <td>0.000000</td>\n",
       "      <td>Home Improvement</td>\n",
       "    </tr>\n",
       "    <tr>\n",
       "      <th>4</th>\n",
       "      <td>Walgreen Boots</td>\n",
       "      <td>78924</td>\n",
       "      <td>8002.0</td>\n",
       "      <td>9.810927</td>\n",
       "      <td>-0.010511</td>\n",
       "      <td>Drug Stores</td>\n",
       "    </tr>\n",
       "    <tr>\n",
       "      <th>5</th>\n",
       "      <td>CVS incl. Target</td>\n",
       "      <td>77792</td>\n",
       "      <td>9813.0</td>\n",
       "      <td>8.825959</td>\n",
       "      <td>0.255662</td>\n",
       "      <td>Drug Stores</td>\n",
       "    </tr>\n",
       "    <tr>\n",
       "      <th>6</th>\n",
       "      <td>Amazon</td>\n",
       "      <td>71687</td>\n",
       "      <td>NaN</td>\n",
       "      <td>NaN</td>\n",
       "      <td>NaN</td>\n",
       "      <td>Electronic/Mail Order</td>\n",
       "    </tr>\n",
       "    <tr>\n",
       "      <th>7</th>\n",
       "      <td>Target</td>\n",
       "      <td>71208</td>\n",
       "      <td>1772.0</td>\n",
       "      <td>39.982033</td>\n",
       "      <td>-0.010056</td>\n",
       "      <td>Supercenters</td>\n",
       "    </tr>\n",
       "    <tr>\n",
       "      <th>8</th>\n",
       "      <td>Lowe's</td>\n",
       "      <td>60311</td>\n",
       "      <td>1828.0</td>\n",
       "      <td>33.311792</td>\n",
       "      <td>0.019520</td>\n",
       "      <td>Home Improvement</td>\n",
       "    </tr>\n",
       "    <tr>\n",
       "      <th>9</th>\n",
       "      <td>Albertsons</td>\n",
       "      <td>56829</td>\n",
       "      <td>2326.0</td>\n",
       "      <td>23.877731</td>\n",
       "      <td>-0.044371</td>\n",
       "      <td>Grocery</td>\n",
       "    </tr>\n",
       "    <tr>\n",
       "      <th>10</th>\n",
       "      <td>Sam's Club</td>\n",
       "      <td>56828</td>\n",
       "      <td>655.0</td>\n",
       "      <td>87.293395</td>\n",
       "      <td>0.012365</td>\n",
       "      <td>Warehouse Clubs</td>\n",
       "    </tr>\n",
       "    <tr>\n",
       "      <th>11</th>\n",
       "      <td>Apple incl. Online</td>\n",
       "      <td>37664</td>\n",
       "      <td>NaN</td>\n",
       "      <td>NaN</td>\n",
       "      <td>NaN</td>\n",
       "      <td>NaN</td>\n",
       "    </tr>\n",
       "    <tr>\n",
       "      <th>12</th>\n",
       "      <td>Best Buy</td>\n",
       "      <td>34980</td>\n",
       "      <td>1389.0</td>\n",
       "      <td>24.685956</td>\n",
       "      <td>-0.038754</td>\n",
       "      <td>Electronics</td>\n",
       "    </tr>\n",
       "    <tr>\n",
       "      <th>13</th>\n",
       "      <td>Publix</td>\n",
       "      <td>34408</td>\n",
       "      <td>1351.0</td>\n",
       "      <td>25.997733</td>\n",
       "      <td>0.042438</td>\n",
       "      <td>Grocery</td>\n",
       "    </tr>\n",
       "    <tr>\n",
       "      <th>14</th>\n",
       "      <td>Rite Aid</td>\n",
       "      <td>27486</td>\n",
       "      <td>4553.0</td>\n",
       "      <td>6.025649</td>\n",
       "      <td>-0.003720</td>\n",
       "      <td>Drug Stores</td>\n",
       "    </tr>\n",
       "    <tr>\n",
       "      <th>15</th>\n",
       "      <td>Ahold</td>\n",
       "      <td>26903</td>\n",
       "      <td>794.0</td>\n",
       "      <td>34.446863</td>\n",
       "      <td>0.033854</td>\n",
       "      <td>Grocery</td>\n",
       "    </tr>\n",
       "    <tr>\n",
       "      <th>16</th>\n",
       "      <td>Macy's</td>\n",
       "      <td>26028</td>\n",
       "      <td>889.0</td>\n",
       "      <td>30.442105</td>\n",
       "      <td>0.082826</td>\n",
       "      <td>Department Stores</td>\n",
       "    </tr>\n",
       "    <tr>\n",
       "      <th>17</th>\n",
       "      <td>TJX</td>\n",
       "      <td>25012</td>\n",
       "      <td>2770.0</td>\n",
       "      <td>9.369545</td>\n",
       "      <td>0.078241</td>\n",
       "      <td>Apparel</td>\n",
       "    </tr>\n",
       "    <tr>\n",
       "      <th>18</th>\n",
       "      <td>Aldi</td>\n",
       "      <td>24402</td>\n",
       "      <td>2021.0</td>\n",
       "      <td>12.715998</td>\n",
       "      <td>0.112273</td>\n",
       "      <td>Grocery</td>\n",
       "    </tr>\n",
       "    <tr>\n",
       "      <th>19</th>\n",
       "      <td>Dollar General</td>\n",
       "      <td>22234</td>\n",
       "      <td>13350.0</td>\n",
       "      <td>1.768885</td>\n",
       "      <td>0.132412</td>\n",
       "      <td>Dollar Stores</td>\n",
       "    </tr>\n",
       "    <tr>\n",
       "      <th>20</th>\n",
       "      <td>Dollar Tree</td>\n",
       "      <td>21464</td>\n",
       "      <td>14250.0</td>\n",
       "      <td>1.563919</td>\n",
       "      <td>0.079627</td>\n",
       "      <td>Dollar Stores</td>\n",
       "    </tr>\n",
       "    <tr>\n",
       "      <th>21</th>\n",
       "      <td>HEB</td>\n",
       "      <td>21384</td>\n",
       "      <td>323.0</td>\n",
       "      <td>66.825000</td>\n",
       "      <td>0.018927</td>\n",
       "      <td>Grocery</td>\n",
       "    </tr>\n",
       "    <tr>\n",
       "      <th>22</th>\n",
       "      <td>Kohl's</td>\n",
       "      <td>19060</td>\n",
       "      <td>1169.0</td>\n",
       "      <td>16.353496</td>\n",
       "      <td>0.006024</td>\n",
       "      <td>Department Stores</td>\n",
       "    </tr>\n",
       "    <tr>\n",
       "      <th>23</th>\n",
       "      <td>Delhaize</td>\n",
       "      <td>18201</td>\n",
       "      <td>1280.0</td>\n",
       "      <td>13.783415</td>\n",
       "      <td>-0.059515</td>\n",
       "      <td>Grocery</td>\n",
       "    </tr>\n",
       "    <tr>\n",
       "      <th>24</th>\n",
       "      <td>Meijer</td>\n",
       "      <td>16592</td>\n",
       "      <td>231.0</td>\n",
       "      <td>74.738739</td>\n",
       "      <td>0.084507</td>\n",
       "      <td>Supercenters</td>\n",
       "    </tr>\n",
       "  </tbody>\n",
       "</table>\n",
       "</div>"
      ],
      "text/plain": [
       "               Company   Sales   Stores  Sales/Avg. Store  Store Count Growth  \\\n",
       "0           Walmart US  658119   4574.0         65.649725            0.012843   \n",
       "1               Kroger  115037   3931.0         30.031850            0.053887   \n",
       "2               Costco   90048    495.0        187.795620            0.066810   \n",
       "3           Home Depot   83976   1965.0         42.735878            0.000000   \n",
       "4       Walgreen Boots   78924   8002.0          9.810927           -0.010511   \n",
       "5     CVS incl. Target   77792   9813.0          8.825959            0.255662   \n",
       "6               Amazon   71687      NaN               NaN                 NaN   \n",
       "7               Target   71208   1772.0         39.982033           -0.010056   \n",
       "8               Lowe's   60311   1828.0         33.311792            0.019520   \n",
       "9           Albertsons   56829   2326.0         23.877731           -0.044371   \n",
       "10          Sam's Club   56828    655.0         87.293395            0.012365   \n",
       "11  Apple incl. Online   37664      NaN               NaN                 NaN   \n",
       "12            Best Buy   34980   1389.0         24.685956           -0.038754   \n",
       "13              Publix   34408   1351.0         25.997733            0.042438   \n",
       "14            Rite Aid   27486   4553.0          6.025649           -0.003720   \n",
       "15               Ahold   26903    794.0         34.446863            0.033854   \n",
       "16              Macy's   26028    889.0         30.442105            0.082826   \n",
       "17                 TJX   25012   2770.0          9.369545            0.078241   \n",
       "18                Aldi   24402   2021.0         12.715998            0.112273   \n",
       "19      Dollar General   22234  13350.0          1.768885            0.132412   \n",
       "20         Dollar Tree   21464  14250.0          1.563919            0.079627   \n",
       "21                 HEB   21384    323.0         66.825000            0.018927   \n",
       "22              Kohl's   19060   1169.0         16.353496            0.006024   \n",
       "23            Delhaize   18201   1280.0         13.783415           -0.059515   \n",
       "24              Meijer   16592    231.0         74.738739            0.084507   \n",
       "\n",
       "                 Category  \n",
       "0            Supercenters  \n",
       "1                 Grocery  \n",
       "2          Warehouse Club  \n",
       "3        Home Improvement  \n",
       "4             Drug Stores  \n",
       "5             Drug Stores  \n",
       "6   Electronic/Mail Order  \n",
       "7            Supercenters  \n",
       "8        Home Improvement  \n",
       "9                 Grocery  \n",
       "10        Warehouse Clubs  \n",
       "11                    NaN  \n",
       "12            Electronics  \n",
       "13                Grocery  \n",
       "14            Drug Stores  \n",
       "15                Grocery  \n",
       "16      Department Stores  \n",
       "17                Apparel  \n",
       "18                Grocery  \n",
       "19          Dollar Stores  \n",
       "20          Dollar Stores  \n",
       "21                Grocery  \n",
       "22      Department Stores  \n",
       "23                Grocery  \n",
       "24           Supercenters  "
      ]
     },
     "execution_count": 4,
     "metadata": {},
     "output_type": "execute_result"
    }
   ],
   "source": [
    "df_sorted = df.sort_values('Sales', ascending=0)\n",
    "df_sorted\n"
   ]
  },
  {
   "cell_type": "markdown",
   "metadata": {},
   "source": [
    "b) Comparte insights con visualizaciones\n",
    "Con ayuda de Matplotlib o Seaborn crea las gráficas que necesites para dar a conocer tu resultado e incluso enriquecerlo."
   ]
  },
  {
   "cell_type": "code",
   "execution_count": 5,
   "metadata": {},
   "outputs": [
    {
     "data": {
      "image/png": "[encoded data removed]",
      "text/plain": [
       "<Figure size 432x288 with 1 Axes>"
      ]
     },
     "metadata": {
      "needs_background": "light"
     },
     "output_type": "display_data"
    }
   ],
   "source": [
    "x = df_sorted['Company'][0:5]  # Aplicamos slicing como en una lista de Python.\n",
    "y = df_sorted['Sales'][0:5]\n",
    "\n",
    "plt.bar(x, y)\n",
    "plt.title('Top 5 retailers')\n",
    "plt.xlabel('Company')\n",
    "plt.ylabel('Sales')\n",
    "# Método que se usa para rotar el texto de los puntos en X para que no se amontonen.\n",
    "plt.xticks(rotation='vertical')\n",
    "plt.show()\n"
   ]
  },
  {
   "cell_type": "markdown",
   "metadata": {},
   "source": [
    "c) Conclusiones\n",
    "Debajo de tus resultados escribe conclusiones de lo que necesites resaltar de acuerdo a lo que observes. Utiliza esa intuición de los datos y dominio del negocio. Hazlo en una celda de texto en tu notebook."
   ]
  },
  {
   "cell_type": "markdown",
   "metadata": {},
   "source": [
    "Aspectos a evaluar:\n",
    "\n",
    "- Responder la mayor cantidad de preguntas.\n",
    "- Valor y veracidad de la información encontrada con las preguntas.\n",
    "- Valor y veracidad de la información que entregues con los resultados de tus propias preguntas.\n",
    "- Storytelling: visualizaciones fáciles de entender que muestren información valiosa, claridad y valor de tus conclusiones para cada hallazgo."
   ]
  },
  {
   "cell_type": "markdown",
   "metadata": {
    "cell_id": "cc141631-e246-41c7-a56b-ad74255d674f",
    "deepnote_cell_type": "text-cell-h2",
    "is_collapsed": false,
    "tags": []
   },
   "source": [
    "## I. Preguntas del negocio"
   ]
  },
  {
   "cell_type": "markdown",
   "metadata": {
    "cell_id": "b919b92e-0df3-4f54-b093-c1db040bc4aa",
    "deepnote_cell_type": "markdown",
    "tags": []
   },
   "source": [
    "### 1. ¿Cuál es el promedio de ventas sin contar a la compañía dominante?"
   ]
  },
  {
   "cell_type": "code",
   "execution_count": null,
   "metadata": {
    "cell_id": "d0684d2b-d018-42ad-9b48-b545aae09eec",
    "deepnote_cell_type": "code",
    "tags": []
   },
   "outputs": [],
   "source": []
  },
  {
   "cell_type": "markdown",
   "metadata": {
    "cell_id": "1814847a-365e-4bae-9fb9-6bed9b874b37",
    "deepnote_cell_type": "markdown",
    "tags": []
   },
   "source": [
    "### 2. ¿Cuánto dinero en ventas generó la mayoría de las compañías?"
   ]
  },
  {
   "cell_type": "code",
   "execution_count": null,
   "metadata": {
    "cell_id": "7c7057cc-813b-4f93-8826-caed6cc738f9",
    "deepnote_cell_type": "code",
    "tags": []
   },
   "outputs": [],
   "source": []
  },
  {
   "cell_type": "markdown",
   "metadata": {
    "cell_id": "9801295a-a27d-48af-ae87-c653cabd8f67",
    "deepnote_cell_type": "markdown",
    "tags": []
   },
   "source": [
    "### 3. ¿Cuántas tiendas tiene la mayoría de las compañías?"
   ]
  },
  {
   "cell_type": "code",
   "execution_count": null,
   "metadata": {
    "cell_id": "cfcc2261-f6a1-44d8-b8fa-184eec2a77ff",
    "deepnote_cell_type": "code",
    "tags": []
   },
   "outputs": [],
   "source": []
  },
  {
   "cell_type": "markdown",
   "metadata": {
    "cell_id": "c9b5de28-cd12-4088-9bc0-93df660401f3",
    "deepnote_cell_type": "markdown",
    "tags": []
   },
   "source": [
    "### 4. ¿La cantidad de tiendas está relacionada con la cantidad de ventas? Es decir, ¿si una empresa tiene más tiendas tendrá más dinero de ventas?"
   ]
  },
  {
   "cell_type": "code",
   "execution_count": null,
   "metadata": {
    "cell_id": "72dda234-6fca-477e-a088-99682e9766a2",
    "deepnote_cell_type": "code",
    "tags": []
   },
   "outputs": [],
   "source": []
  },
  {
   "cell_type": "markdown",
   "metadata": {
    "cell_id": "d296130b-b739-4424-8c5d-8dc8b6fc8ee5",
    "deepnote_cell_type": "markdown",
    "tags": []
   },
   "source": [
    "### 5. ¿Cuál es el rango que existe entre las ventas?"
   ]
  },
  {
   "cell_type": "code",
   "execution_count": null,
   "metadata": {
    "cell_id": "277da6f7-0300-4156-91e5-9765eb1f3752",
    "deepnote_cell_type": "code",
    "tags": []
   },
   "outputs": [],
   "source": []
  },
  {
   "cell_type": "markdown",
   "metadata": {
    "cell_id": "6c36ddc3-51ef-4017-a6f9-06cbb8b970e4",
    "deepnote_cell_type": "markdown",
    "tags": []
   },
   "source": [
    "### 6. ¿Cuáles son las 5 empresas que más tiendas físicas tienen? ¿Cuáles de ellas están dentro de las 5 empresas que más ventas tuvieron?"
   ]
  },
  {
   "cell_type": "code",
   "execution_count": null,
   "metadata": {
    "cell_id": "1295319d-09d0-42f0-9de0-ff0e689f400f",
    "deepnote_cell_type": "code",
    "tags": []
   },
   "outputs": [],
   "source": []
  },
  {
   "cell_type": "markdown",
   "metadata": {
    "cell_id": "7d1d5db9-ad1d-4081-968b-bea1357e236a",
    "deepnote_cell_type": "markdown",
    "tags": []
   },
   "source": [
    "## II. Preguntas opcionales"
   ]
  },
  {
   "cell_type": "markdown",
   "metadata": {
    "cell_id": "27e5ddcb-8674-4809-844e-8c3442430be1",
    "deepnote_cell_type": "markdown",
    "tags": []
   },
   "source": [
    "### 7. ¿Qué categoría de compañía generó más ventas?"
   ]
  },
  {
   "cell_type": "code",
   "execution_count": null,
   "metadata": {
    "cell_id": "fcc0ff72-f954-4023-b187-f43c7ecc77ce",
    "deepnote_cell_type": "code",
    "tags": []
   },
   "outputs": [],
   "source": []
  },
  {
   "cell_type": "markdown",
   "metadata": {
    "cell_id": "33668883-9f01-485c-bdf9-822cd13ad952",
    "deepnote_cell_type": "markdown",
    "tags": []
   },
   "source": [
    "### 8. ¿Cuál es la compañía que en relación con su cantidad de tiendas físicas genera más ventas?"
   ]
  },
  {
   "cell_type": "code",
   "execution_count": null,
   "metadata": {
    "cell_id": "903008ff-c22d-431e-8130-a954a94b16e8",
    "deepnote_cell_type": "code",
    "tags": []
   },
   "outputs": [],
   "source": []
  },
  {
   "cell_type": "markdown",
   "metadata": {
    "cell_id": "e9a00ffe-de8a-41f0-98e7-67b905d0d14f",
    "deepnote_cell_type": "markdown",
    "tags": []
   },
   "source": [
    "### 9. ¿Cuáles compañías venden de forma exclusivamente online? ¿Sus ventas destacan sobre las que también tienen tiendas físicas?"
   ]
  },
  {
   "cell_type": "code",
   "execution_count": null,
   "metadata": {
    "cell_id": "cb6d5d30-783d-44af-9c84-f31689cb3487",
    "deepnote_cell_type": "code",
    "tags": []
   },
   "outputs": [],
   "source": []
  },
  {
   "cell_type": "markdown",
   "metadata": {
    "cell_id": "58c80612-3fb2-4c71-9aab-813b121430a0",
    "deepnote_cell_type": "markdown",
    "tags": []
   },
   "source": [
    "## III. Tus propias preguntas"
   ]
  },
  {
   "cell_type": "markdown",
   "metadata": {
    "cell_id": "fa60966b-7d95-43f0-9a1e-201f1373f1be",
    "deepnote_cell_type": "markdown",
    "tags": []
   },
   "source": [
    "### 10. Pregunta"
   ]
  },
  {
   "cell_type": "code",
   "execution_count": null,
   "metadata": {
    "cell_id": "52ea290f-004f-4aaa-8e1a-0d0908996b0a",
    "deepnote_cell_type": "code",
    "tags": []
   },
   "outputs": [],
   "source": []
  },
  {
   "cell_type": "markdown",
   "metadata": {
    "cell_id": "83e0e566-969d-4872-b32d-915ac945a370",
    "deepnote_cell_type": "markdown",
    "tags": []
   },
   "source": [
    "### 11. Pregunta"
   ]
  },
  {
   "cell_type": "code",
   "execution_count": null,
   "metadata": {
    "cell_id": "04a6786e-fd39-4b41-b85c-0ecae003e4db",
    "deepnote_cell_type": "code",
    "tags": []
   },
   "outputs": [],
   "source": []
  },
  {
   "cell_type": "markdown",
   "metadata": {
    "cell_id": "d5a17c31-5e8f-4d67-9679-c5705053de69",
    "deepnote_cell_type": "markdown",
    "tags": []
   },
   "source": [
    "### 12. Pregunta"
   ]
  },
  {
   "cell_type": "code",
   "execution_count": null,
   "metadata": {
    "cell_id": "b168ad4f-adf7-4f82-9126-461a1fc64b84",
    "deepnote_cell_type": "code",
    "tags": []
   },
   "outputs": [],
   "source": []
  },
  {
   "cell_type": "markdown",
   "metadata": {
    "created_in_deepnote_cell": true,
    "deepnote_cell_type": "markdown",
    "tags": []
   },
   "source": [
    "<a style='text-decoration:none;line-height:16px;display:flex;color:#5B5B62;padding:10px;justify-content:end;' href='https://deepnote.com?utm_source=created-in-deepnote-cell&projectId=edc68bfa-8df4-47a4-8622-860ebb931fe9' target=\"_blank\">\n",
    "<img alt='Created in deepnote.com' style='display:inline;max-height:16px;margin:0px;margin-right:7.5px;' src='data:image/svg+xml;base64,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' > </img>\n",
    "Created in <span style='font-weight:600;margin-left:4px;'>Deepnote</span></a>"
   ]
  }
 ],
 "metadata": {
  "deepnote": {
   "is_reactive": false
  },
  "deepnote_execution_queue": [],
  "deepnote_notebook_id": "85b76ea9-ace4-4c85-8b21-59120be91703",
  "interpreter": {
   "hash": "ee8799877915b2128d18d4b1666f364b6042f264ec4835ead054518ba3b9d1ac"
  },
  "kernelspec": {
   "display_name": "Python 3.9.7 ('datascience_ml')",
   "language": "python",
   "name": "python3"
  },
  "language_info": {
   "codemirror_mode": {
    "name": "ipython",
    "version": 3
   },
   "file_extension": ".py",
   "mimetype": "text/x-python",
   "name": "python",
   "nbconvert_exporter": "python",
   "pygments_lexer": "ipython3",
   "version": "3.9.7"
  },
  "orig_nbformat": 2
 },
 "nbformat": 4,
 "nbformat_minor": 2
}
